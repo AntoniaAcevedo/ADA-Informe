{
  "nbformat": 4,
  "nbformat_minor": 0,
  "metadata": {
    "colab": {
      "provenance": [],
      "authorship_tag": "ABX9TyPpY2dMGNLCoDDwOdCqwoAG",
      "include_colab_link": true
    },
    "kernelspec": {
      "name": "python3",
      "display_name": "Python 3"
    },
    "language_info": {
      "name": "python"
    }
  },
  "cells": [
    {
      "cell_type": "markdown",
      "metadata": {
        "id": "view-in-github",
        "colab_type": "text"
      },
      "source": [
        "<a href=\"https://colab.research.google.com/github/AntoniaAcevedo/ADA-Informe/blob/main/Indforme12_ADA.ipynb\" target=\"_parent\"><img src=\"https://colab.research.google.com/assets/colab-badge.svg\" alt=\"Open In Colab\"/></a>"
      ]
    },
    {
      "cell_type": "markdown",
      "source": [
        "#¿ Qué quiere decir que un problema sea NP-Hard? \n"
      ],
      "metadata": {
        "id": "sVnHIt4cXKU2"
      }
    },
    {
      "cell_type": "markdown",
      "source": [
        "### **Respuesta**:\n",
        "El conjunto de problemas al menos tan difíciles como los problemas más difíciles de las clases de complejidad NP.\n",
        "\n",
        "Se puede llamar a un problema **NP-Hard** si este no puede ser resuelto por algún algoritmo en un tiempo de ejecución razonable, es decir, cuyo tiempo que esté acotado por algún término polinomial.\n"
      ],
      "metadata": {
        "id": "JDvySA6UZsKD"
      }
    },
    {
      "cell_type": "markdown",
      "source": [
        "# ¿ Qué quiere decir  $P \\neq NP$ ?\n"
      ],
      "metadata": {
        "id": "bfss96EEXKOW"
      }
    },
    {
      "cell_type": "markdown",
      "source": [
        "### **Respuesta**:\n",
        "\n",
        "Teniendo en cuenta que $P \\neq NP$ es en realidad una conjetura, ya que aun no se a podido confirmar en todo su explendor se pude definir por separado lo que es un problema tipo $P$ y uno tipo $NP$.\n",
        "\n",
        "- **Un problema es de tipo $P$** cuando existe un algoritmo que lo resuelve en tiempo polinómico. Significa esto que ante un tamaño  $n$  del problema, existen programas que lo resuelven en el orden de  $nα$  ciclos de máquina, para algún entero $ α$ .\n",
        "\n",
        "- **Un problema es de tipo $NP$** cuando , dada una solución del problema, se puede comprobar en tiempo polinómico que efectivamente lo es.\n",
        "\n",
        "![image](https://media.geeksforgeeks.org/wp-content/uploads/NP-Completeness-1.png)"
      ],
      "metadata": {
        "id": "L4VEuQNAbopK"
      }
    },
    {
      "cell_type": "markdown",
      "source": [
        "# ¿ Cómo se prueba  que un problema es NP-Hard usando reducciones?"
      ],
      "metadata": {
        "id": "Ja3lg_sUXKKj"
      }
    },
    {
      "cell_type": "markdown",
      "source": [
        "### **Respuesta**:\n",
        "\n",
        "Para la prueba de un problema NP-Hard usando reducciones se puede ver interpretado con la utilizacion de un problema $A$ del cual tengamos conocimientos previos de que sea un problema NP-Hard y lo reducimos a un problema $B$, para luego resolver $B$ podemos obter el conocimiento de que el problema $B$ tambien es NP-Hard.\n",
        "\n",
        "![image](https://images.downey.io/diagrams/3SAT-to-IndependentSet-1.png)"
      ],
      "metadata": {
        "id": "kR5KtpgJZf8b"
      }
    },
    {
      "cell_type": "markdown",
      "source": [
        "# Problema NP-Hard"
      ],
      "metadata": {
        "id": "hcpbmtLSgVNW"
      }
    },
    {
      "cell_type": "markdown",
      "source": [
        "### Problema: Set Cover\n"
      ],
      "metadata": {
        "id": "pc7A6DQzXKAQ"
      }
    },
    {
      "cell_type": "markdown",
      "source": [
        "El problema **Set Cover** da un conjunto universo $U = {x1,x2,...,xn}$, un conjunto de subconjuntos $S_i ⊆ U$, y un entero $k$. La pregunta es si hay una colección $C$ de $k$ subconjuntos tal que «cubren»\n",
        "$U$, o sea $|C| = k$ y:\n",
        "\n",
        "$\\bigcup\\limits_{i \\in C} S_i = U $\n",
        "\n",
        "![image](data:image/png;base64,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)"
      ],
      "metadata": {
        "id": "oQ1Bl81Egk0k"
      }
    },
    {
      "cell_type": "markdown",
      "source": [
        "### Demostracion con reducción"
      ],
      "metadata": {
        "id": "oWjG6mbHqCt6"
      }
    },
    {
      "cell_type": "markdown",
      "source": [
        "\n",
        "Teorema 11.13. **Set Cover** es **NP-completo**.\n",
        "\n",
        "Demostración. Primero, vemos que **Set Cover** está en NP, ya que dada una colección propuesta Cpodemos verificar que $|C| ≤ k$ y que la unión de esos conjuntos es $U$.\n",
        "\n",
        "\n",
        "Demostraremos que **Vertex Cover** $\\leq_P$ **Set Cover**. Dada una instancia de **Vertex Cover** (o sea, un grafo $G = (V,E)$ y un entero $k$) construiremos una instancia de **Set Cover**. Sea $U = E$ (los arcos de $G$), numeramos los vértices de $G$ de 1 a $n$, y definimos los conjuntos $S_i$ como los arcos que inciden en el vértice $i$. Un **Vertex Cover** de $G$ es un conjunto de vértices que participa en todos los arcos, o sea, corresponde exactamente a un set cover de $U$.\n",
        "\n",
        "Note que **Vertex Cover** es un caso muy particular de **Set Cover** (todos los conjuntos son de dos elementos). Esta es una situación en la cual la reducción es muy simple."
      ],
      "metadata": {
        "id": "r2FhlFk5p_d7"
      }
    },
    {
      "cell_type": "markdown",
      "source": [
        "## Algoritmo propuesto\n",
        "\n",
        "Hay un algoritmo aproximado Greedy de tiempo polinomial, el algoritmo greedy proporciona un algoritmo aproximado $\\log n$.\n",
        "```\n",
        "1) Sea I el conjunto de elementos incluidos hasta el momento. Inicializar I = {}\n",
        "\n",
        "2) Haz lo siguiente mientras I no sea lo mismo que U.\n",
        "    a) Encuentre el conjunto S i en {S 1 , S 2 , ... S m } cuya rentabilidad es\n",
        "       más pequeño, es decir, la relación entre el costo C(S i ) y el número de nuevos agregados\n",
        "       elementos es mínimo.\n",
        "       Básicamente, elegimos el conjunto para el cual el siguiente valor es mínimo.\n",
        "           Coste(S i ) / |S i - I|\n",
        "    b) Agregue elementos de S i seleccionados anteriormente a I, es decir, I = IUS i\n",
        "```\n",
        "\n",
        "\n",
        "\n"
      ],
      "metadata": {
        "id": "F1oi2rosqG_g"
      }
    }
  ]
}
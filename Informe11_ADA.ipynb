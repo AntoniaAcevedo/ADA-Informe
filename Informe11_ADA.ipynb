{
  "nbformat": 4,
  "nbformat_minor": 0,
  "metadata": {
    "colab": {
      "provenance": [],
      "collapsed_sections": [],
      "authorship_tag": "ABX9TyNASQh+pm6WOjkgTo+k3Nf8",
      "include_colab_link": true
    },
    "kernelspec": {
      "name": "python3",
      "display_name": "Python 3"
    },
    "language_info": {
      "name": "python"
    }
  },
  "cells": [
    {
      "cell_type": "markdown",
      "metadata": {
        "id": "view-in-github",
        "colab_type": "text"
      },
      "source": [
        "<a href=\"https://colab.research.google.com/github/AntoniaAcevedo/ADA-Informe/blob/main/Informe11_ADA.ipynb\" target=\"_parent\"><img src=\"https://colab.research.google.com/assets/colab-badge.svg\" alt=\"Open In Colab\"/></a>"
      ]
    },
    {
      "cell_type": "markdown",
      "source": [
        "# 1. Problema del camino mas corto\n",
        "---\n"
      ],
      "metadata": {
        "id": "j1AkiXMCo7yE"
      }
    },
    {
      "cell_type": "markdown",
      "source": [
        "## 1.1 Bellman-Ford (version revisada)\n",
        "---"
      ],
      "metadata": {
        "id": "Yz9R3txaws84"
      }
    },
    {
      "cell_type": "markdown",
      "source": [
        "**Entrada**: Un grafo dirigido $G=(V,E)$, un vértice fuente $s\\in V$, y un valor real $l_e$ asociado a cada arco $e\\in E$.\n",
        "\n",
        "**Salida**: Una de las siguientes opciones:\n",
        "\n",
        "1. La distancia más corta $dist(s,v)$ para cada vértice $v\\in V$.\n",
        "2. Una declaración indicando que $G$ contiene un ciclo negativo.\n",
        "\n",
        "![imagen](https://www.researchgate.net/publication/282135528/figure/fig7/AS:280570845253639@1443904710246/The-schematic-procedure-of-the-Bellman-Ford-Moore-algorithm-other-related-explanations.png)"
      ],
      "metadata": {
        "id": "ovsbM--_wqQ-"
      }
    },
    {
      "cell_type": "markdown",
      "source": [
        "## 1.2 Dijkstra (arcos positivos)\n",
        "---"
      ],
      "metadata": {
        "id": "n2GxT3-sw8iF"
      }
    },
    {
      "cell_type": "markdown",
      "source": [
        "**Entrada**: Un grafo dirigido $G=(V,E)$, un vértice fuente $s\\in V$, y un valor real $l_e \\geq 0$ asociado a cada arco $e\\in E$.\n",
        "\n",
        "**Salida**: La distancia más corta $dist(s,v)$ para cada vértice $v\\in V$.\n",
        "\n",
        "<img src=\"https://encrypted-tbn0.gstatic.com/images?q=tbn:ANd9GcT-ZKzHQ29pFBLLOx628CHa5v3i1tC5iAgASkoAJoqYf7K1oUmp\" width=\"800\" height=\"400\">"
      ],
      "metadata": {
        "id": "mMopu280xFYt"
      }
    },
    {
      "cell_type": "markdown",
      "source": [
        "# 2. Bellman-Ford y Dijkstra\n",
        "---\n",
        "El siguiente código muestra una implementación del algoritmo **Bellman-Ford** y la del algoritmo **Dijkstra**."
      ],
      "metadata": {
        "id": "CK18VZuZo7q5"
      }
    },
    {
      "cell_type": "markdown",
      "source": [
        "##2.1.1 Instancia (entera)\n",
        "---"
      ],
      "metadata": {
        "id": "eMlch-xvoi__"
      }
    },
    {
      "cell_type": "code",
      "source": [
        "from termcolor import colored\n",
        "import networkx as nx\n",
        "import random"
      ],
      "metadata": {
        "id": "Et4mv4238kJA"
      },
      "execution_count": 13,
      "outputs": []
    },
    {
      "cell_type": "code",
      "source": [
        "def is_valid_edge(generated_edges: dict, i: int, j: int):\n",
        "    return i != j and not generated_edges.get((i, j), None) and not generated_edges.get((j, i), None)"
      ],
      "metadata": {
        "id": "YxLdGSP28RNI"
      },
      "execution_count": 7,
      "outputs": []
    },
    {
      "cell_type": "code",
      "execution_count": 8,
      "metadata": {
        "id": "1fC70agNfKGb"
      },
      "outputs": [],
      "source": [
        "def instance_entero(n: int):\n",
        "    \"\"\"\n",
        "        Input: cantidad de vértices\n",
        "        Output: una lista que contiene todos los arcos y el número del vértice fuente (la función retorna dos variables).\n",
        "        Los arcos vienen en la forma (i, j, weight), donde i es el vértice origen del arco y j el vértice al que apunta el arco, mientras que weight es su peso.\n",
        "    \"\"\"\n",
        "    graph = []\n",
        "    nodes = random.sample(range(0, n), n)\n",
        "    unvisited_nodes = random.sample(range(0, n), n)\n",
        "    \n",
        "    generated_edges = {}\n",
        "    for i in nodes:\n",
        "        rand = random.sample(nodes, random.randint(1, 3))\n",
        "\n",
        "        for j in rand:\n",
        "            edge = (i, j)\n",
        "            edge_with_weight = (i, j, random.randint(1, 100))\n",
        "            \n",
        "            if generated_edges.get((edge[1], edge[0]), None):\n",
        "                continue\n",
        "            \n",
        "            if i == j:\n",
        "                new_vertice = None\n",
        "                iterations = 0\n",
        "                while new_vertice is None and iterations < 250:\n",
        "                    iterations += 1\n",
        "                    number = random.randint(0, n - 1)\n",
        "                    if is_valid_edge(generated_edges, i, number):\n",
        "                        new_vertice = number\n",
        "\n",
        "                if iterations >= 250:\n",
        "                    return instance_entero(n)\n",
        "                \n",
        "                edge = (i, new_vertice)\n",
        "                edge_with_weight = (i, new_vertice, random.randint(-20, 100)) # -20 y 100 corresponde a los límites de los pesos, puede cambiarlos.\n",
        "            \n",
        "            graph.append(edge_with_weight)\n",
        "            generated_edges[edge] = edge\n",
        "\n",
        "            if edge_with_weight[1] in unvisited_nodes:\n",
        "                unvisited_nodes.remove(edge_with_weight[1])\n",
        "\n",
        "    for i in unvisited_nodes:\n",
        "        valid_edge = False\n",
        "        iterations = 0\n",
        "        while not valid_edge and iterations < 250:\n",
        "            iterations += 1\n",
        "            m = random.randint(0, n - 1)\n",
        "            if is_valid_edge(generated_edges, m, i):\n",
        "                valid_edge = True\n",
        "                edge = (m, i)\n",
        "                edge_with_weight = (m, i, random.randint(-20, 100)) # -20 y 100 corresponde a los límites de los pesos, puede cambiarlos.\n",
        "                graph.append(edge_with_weight)\n",
        "                generated_edges[edge] = edge\n",
        "\n",
        "        if iterations >= 250:\n",
        "            return instance_entero(n)\n",
        "\n",
        "    return graph, graph[0][0]"
      ]
    },
    {
      "cell_type": "markdown",
      "source": [
        "##2.1.2 Instancia (positiva)\n",
        "---"
      ],
      "metadata": {
        "id": "F-b7aFrG765D"
      }
    },
    {
      "cell_type": "code",
      "source": [
        "def instance_pos(n: int):\n",
        "    \"\"\"\n",
        "        Input: cantidad de vértices\n",
        "        Output: una lista que contiene todos los arcos y el número del vértice fuente (la función retorna dos variables).\n",
        "        Los arcos vienen en la forma (i, j, weight), donde i es el vértice origen del arco y j el vértice al que apunta el arco, mientras que weight es su peso.\n",
        "    \"\"\"\n",
        "    graph = []\n",
        "    nodes = random.sample(range(0, n), n)\n",
        "    unvisited_nodes = random.sample(range(0, n), n)\n",
        "    \n",
        "    generated_edges = {}\n",
        "    for i in nodes:\n",
        "        rand = random.sample(nodes, random.randint(1, 3))\n",
        "\n",
        "        for j in rand:\n",
        "            edge = (i, j)\n",
        "            edge_with_weight = (i, j, random.randint(1, 100))\n",
        "            \n",
        "            if generated_edges.get((edge[1], edge[0]), None):\n",
        "                continue\n",
        "            \n",
        "            if i == j:\n",
        "                new_vertice = None\n",
        "                iterations = 0\n",
        "                while new_vertice is None and iterations < 250:\n",
        "                    iterations += 1\n",
        "                    number = random.randint(0, n - 1)\n",
        "                    if is_valid_edge(generated_edges, i, number):\n",
        "                        new_vertice = number\n",
        "\n",
        "                if iterations >= 250:\n",
        "                    return instance_pos(n)\n",
        "                \n",
        "                edge = (i, new_vertice)\n",
        "                edge_with_weight = (i, new_vertice, random.randint(1, 100)) # 1 y 100 corresponde a los límites de los pesos, puede cambiarlos.\n",
        "            \n",
        "            graph.append(edge_with_weight)\n",
        "            generated_edges[edge] = edge\n",
        "\n",
        "            if edge_with_weight[1] in unvisited_nodes:\n",
        "                unvisited_nodes.remove(edge_with_weight[1])\n",
        "\n",
        "    for i in unvisited_nodes:\n",
        "        valid_edge = False\n",
        "        iterations = 0\n",
        "        while not valid_edge and iterations < 250:\n",
        "            iterations += 1\n",
        "            m = random.randint(0, n - 1)\n",
        "            if is_valid_edge(generated_edges, m, i):\n",
        "                valid_edge = True\n",
        "                edge = (m, i)\n",
        "                edge_with_weight = (m, i, random.randint(1, 100)) # 1 y 100 corresponde a los límites de los pesos, puede cambiarlos.\n",
        "                graph.append(edge_with_weight)\n",
        "                generated_edges[edge] = edge\n",
        "\n",
        "        if iterations >= 250:\n",
        "            return instance_pos(n)\n",
        "\n",
        "    return graph, graph[0][0]"
      ],
      "metadata": {
        "id": "oQZIU7mi8LoW"
      },
      "execution_count": 9,
      "outputs": []
    },
    {
      "cell_type": "markdown",
      "source": [
        "## 2.2 Codigo\n",
        "---"
      ],
      "metadata": {
        "id": "jpCqO6E3pMkg"
      }
    },
    {
      "cell_type": "code",
      "source": [],
      "metadata": {
        "id": "LjNXdbco_fk1"
      },
      "execution_count": 9,
      "outputs": []
    },
    {
      "cell_type": "markdown",
      "source": [
        "### 2.2.1 Bellman-Ford\n",
        "---"
      ],
      "metadata": {
        "id": "rFg7lsNE4PGm"
      }
    },
    {
      "cell_type": "code",
      "source": [
        "class Graph:\n",
        " \n",
        "    def __init__(self, vertices):\n",
        "        self.V = vertices \n",
        "        self.graph = []\n",
        "\n",
        "    def addEdge(self, u, v, w):\n",
        "        self.graph.append([u, v, w])\n",
        "\n",
        "    def printArr(self, dist):\n",
        "        print(\"Vertex Distance from Source\")\n",
        "        for i in range(self.V):\n",
        "            print(\"{0}\\t\\t{1}\".format(i, dist[i]))\n",
        "\n",
        "    def BellmanFord(self, src, verbose=False):\n",
        "        dist = [float(\"Inf\")] * self.V\n",
        "        dist[src] = 0\n",
        "        for i in range(self.V - 1):\n",
        "            for u, v, w in self.graph:\n",
        "                if dist[u] != float(\"Inf\") and dist[u] + w < dist[v]:\n",
        "                    dist[v] = dist[u] + w\n",
        "            if verbose:\n",
        "              print(\"Iteracion\", str(i + 1))\n",
        "              print(colored(f\"{str(dist)}\", \"blue\"))\n",
        "        if verbose:\n",
        "          print(\"Busqueda de ciclos negativos\")\n",
        "        for u, v, w in self.graph:\n",
        "            if dist[u] != float(\"Inf\") and dist[u] + w < dist[v]:\n",
        "                print(\"El grafo contiene ciclos negativos.\")\n",
        "                dist = list()\n",
        "                return dist\n",
        "\n",
        "        self.printArr(dist)\n",
        " "
      ],
      "metadata": {
        "id": "s3m9fEo5pNFQ"
      },
      "execution_count": 31,
      "outputs": []
    },
    {
      "cell_type": "code",
      "source": [
        "list_g,raiz = instance_entero(4)\n",
        "grafo = Graph(4)\n",
        "for (u,v,peso) in list_g:\n",
        "  grafo.addEdge(u,v,peso)\n",
        "\n",
        "grafo.BellmanFord(raiz)\n"
      ],
      "metadata": {
        "colab": {
          "base_uri": "https://localhost:8080/"
        },
        "id": "1dX4ajHHAgC-",
        "outputId": "d0e89719-6c4c-424b-c5ab-7bb4ffb24ee9"
      },
      "execution_count": 11,
      "outputs": [
        {
          "output_type": "stream",
          "name": "stdout",
          "text": [
            "Vertex Distance from Source\n",
            "0\t\t23\n",
            "1\t\t77\n",
            "2\t\t0\n",
            "3\t\t16\n"
          ]
        }
      ]
    },
    {
      "cell_type": "markdown",
      "source": [
        "### 2.2.2 Dijkstra\n",
        "---"
      ],
      "metadata": {
        "id": "QrYafIVz4CKn"
      }
    },
    {
      "cell_type": "code",
      "source": [
        "class Graph_D():\n",
        " \n",
        "    def __init__(self, vertices):\n",
        "        self.V = vertices\n",
        "        self.graph = [[0 for column in range(vertices)]\n",
        "                      for row in range(vertices)]\n",
        " \n",
        "    def printSolution(self, dist):\n",
        "        print(\"Vertex \\t Distance from Source\")\n",
        "        for node in range(self.V):\n",
        "            print(node, \"\\t\\t\", dist[node])\n",
        "    def minDistance(self, dist, sptSet):\n",
        "        min = 1e7\n",
        "        for v in range(self.V):\n",
        "            if dist[v] < min and sptSet[v] == False:\n",
        "                min = dist[v]\n",
        "                min_index = v\n",
        " \n",
        "        return min_index\n",
        "\n",
        "    def dijkstra(self, src):\n",
        " \n",
        "        dist = [1e7] * self.V\n",
        "        dist[src] = 0\n",
        "        sptSet = [False] * self.V\n",
        " \n",
        "        for cout in range(self.V):\n",
        "            u = self.minDistance(dist, sptSet)\n",
        "            sptSet[u] = True\n",
        "            for v in range(self.V):\n",
        "                if (self.graph[u][v] > 0 and\n",
        "                   sptSet[v] == False and\n",
        "                   dist[v] > dist[u] + self.graph[u][v]):\n",
        "                    dist[v] = dist[u] + self.graph[u][v]\n",
        " \n",
        "        self.printSolution(dist)\n",
        " \n",
        "# Driver program\n",
        "g = Graph(9)\n",
        "g.graph = [[0, 4, 0, 0, 0, 0, 0, 8, 0],\n",
        "           [4, 0, 8, 0, 0, 0, 0, 11, 0],\n",
        "           [0, 8, 0, 7, 0, 4, 0, 0, 2],\n",
        "           [0, 0, 7, 0, 9, 14, 0, 0, 0],\n",
        "           [0, 0, 0, 9, 0, 10, 0, 0, 0],\n",
        "           [0, 0, 4, 14, 10, 0, 2, 0, 0],\n",
        "           [0, 0, 0, 0, 0, 2, 0, 1, 6],\n",
        "           [8, 11, 0, 0, 0, 0, 1, 0, 7],\n",
        "           [0, 0, 2, 0, 0, 0, 6, 7, 0]\n",
        "           ]\n",
        " \n",
        "g.dijkstra(0)\n",
        " "
      ],
      "metadata": {
        "colab": {
          "base_uri": "https://localhost:8080/",
          "height": 226
        },
        "id": "2mXKTxJ7smyk",
        "outputId": "034dcbf1-24be-462e-a13f-e1524863e4d0"
      },
      "execution_count": 12,
      "outputs": [
        {
          "output_type": "error",
          "ename": "AttributeError",
          "evalue": "ignored",
          "traceback": [
            "\u001b[0;31m---------------------------------------------------------------------------\u001b[0m",
            "\u001b[0;31mAttributeError\u001b[0m                            Traceback (most recent call last)",
            "\u001b[0;32m<ipython-input-12-99fae9162d6e>\u001b[0m in \u001b[0;36m<module>\u001b[0;34m\u001b[0m\n\u001b[1;32m     49\u001b[0m            ]\n\u001b[1;32m     50\u001b[0m \u001b[0;34m\u001b[0m\u001b[0m\n\u001b[0;32m---> 51\u001b[0;31m \u001b[0mg\u001b[0m\u001b[0;34m.\u001b[0m\u001b[0mdijkstra\u001b[0m\u001b[0;34m(\u001b[0m\u001b[0;36m0\u001b[0m\u001b[0;34m)\u001b[0m\u001b[0;34m\u001b[0m\u001b[0;34m\u001b[0m\u001b[0m\n\u001b[0m\u001b[1;32m     52\u001b[0m \u001b[0;34m\u001b[0m\u001b[0m\n",
            "\u001b[0;31mAttributeError\u001b[0m: 'Graph' object has no attribute 'dijkstra'"
          ]
        }
      ]
    },
    {
      "cell_type": "markdown",
      "source": [
        "## 2.3 Visualizacion\n",
        "---"
      ],
      "metadata": {
        "id": "MFzhu_q-soKy"
      }
    },
    {
      "cell_type": "code",
      "source": [
        "def graph_to_nxdigraph(graph: list, n: int):\n",
        "    \"\"\"\n",
        "        Input: Un grafo en formato list[tuple]. Ej: [(0, 1, 10), (1, 2, 15), (2, 0, 7)].\n",
        "        Output: Un nx.DiGraph de la libreria networkx.\n",
        "    \"\"\"\n",
        "    nxdigraph = nx.DiGraph()\n",
        "    [nxdigraph.add_node(i) for i in range(n)]\n",
        "\n",
        "    for v in graph:\n",
        "        nxdigraph.add_edge(v[0], v[1], weight=v[2])\n",
        "\n",
        "    return nxdigraph"
      ],
      "metadata": {
        "id": "jO7b47MUsonw"
      },
      "execution_count": null,
      "outputs": []
    },
    {
      "cell_type": "markdown",
      "source": [
        "##2.4 Descripcion del algoritmo\n",
        "---"
      ],
      "metadata": {
        "id": "08BPq60-pW6g"
      }
    },
    {
      "cell_type": "markdown",
      "source": [
        "### 2.4.1 Bellman-Ford\n",
        "---"
      ],
      "metadata": {
        "id": "e1gak0NG0ZNx"
      }
    },
    {
      "cell_type": "markdown",
      "source": [
        "1. Inicializa un arreglo de distancia en infinito, exceptuando la del nodo inicial que es 0.\n",
        "2. Se realiza el proceso de relajacion `N-1` veces, donde `N` es la cantidad de nodos.\n",
        "3. Comprueba la existencia de ciclos negativos.\n",
        "4. Entrega el camino mas corto entre la posicion inicial y todos los nodos, o un mensaje indicando la presencia de un ciclo negativo. \n",
        "\n"
      ],
      "metadata": {
        "id": "RFm4-_Yt0lk1"
      }
    },
    {
      "cell_type": "markdown",
      "source": [
        "### 2.4.2 Dijkstra\n",
        "---"
      ],
      "metadata": {
        "id": "f26yIW9L0iza"
      }
    },
    {
      "cell_type": "markdown",
      "source": [],
      "metadata": {
        "id": "iT1FZoIh0tRf"
      }
    },
    {
      "cell_type": "markdown",
      "source": [
        "##2.5 Ejemplo\n",
        "---"
      ],
      "metadata": {
        "id": "wLbu_k49GYXF"
      }
    },
    {
      "cell_type": "markdown",
      "source": [
        "##2.6.1 Ejecucion paso a paso funcion Bellman-Ford (verbose=True)\n",
        "---"
      ],
      "metadata": {
        "id": "GwAkjy0FGfJv"
      }
    },
    {
      "cell_type": "code",
      "source": [
        "list_g,raiz = instance_entero(13)\n",
        "grafo = Graph(13)\n",
        "for (u,v,peso) in list_g:\n",
        "  grafo.addEdge(u,v,peso)\n",
        "\n",
        "grafo.BellmanFord(raiz,True)"
      ],
      "metadata": {
        "colab": {
          "base_uri": "https://localhost:8080/"
        },
        "id": "pebqovDPGxVF",
        "outputId": "398d1021-8a6f-4c81-9957-a1145579bf9d"
      },
      "execution_count": 43,
      "outputs": [
        {
          "output_type": "stream",
          "name": "stdout",
          "text": [
            "Iteracion 1\n",
            "[7, inf, 70, 23, 92, 20, inf, inf, inf, inf, 59, inf, 0]\n",
            "Iteracion 2\n",
            "[7, 116, 70, 23, 92, 20, 115, 93, 213, 94, 59, 172, 0]\n",
            "Iteracion 3\n",
            "[7, 116, 70, 23, 92, 20, 115, 93, 213, 94, 59, 172, 0]\n",
            "Iteracion 4\n",
            "[7, 116, 70, 23, 92, 20, 115, 93, 213, 94, 59, 172, 0]\n",
            "Iteracion 5\n",
            "[7, 116, 70, 23, 92, 20, 115, 93, 213, 94, 59, 172, 0]\n",
            "Iteracion 6\n",
            "[7, 116, 70, 23, 92, 20, 115, 93, 213, 94, 59, 172, 0]\n",
            "Iteracion 7\n",
            "[7, 116, 70, 23, 92, 20, 115, 93, 213, 94, 59, 172, 0]\n",
            "Iteracion 8\n",
            "[7, 116, 70, 23, 92, 20, 115, 93, 213, 94, 59, 172, 0]\n",
            "Iteracion 9\n",
            "[7, 116, 70, 23, 92, 20, 115, 93, 213, 94, 59, 172, 0]\n",
            "Iteracion 10\n",
            "[7, 116, 70, 23, 92, 20, 115, 93, 213, 94, 59, 172, 0]\n",
            "Iteracion 11\n",
            "[7, 116, 70, 23, 92, 20, 115, 93, 213, 94, 59, 172, 0]\n",
            "Iteracion 12\n",
            "[7, 116, 70, 23, 92, 20, 115, 93, 213, 94, 59, 172, 0]\n",
            "Busqueda de ciclos negativos\n",
            "Vertex Distance from Source\n",
            "0\t\t7\n",
            "1\t\t116\n",
            "2\t\t70\n",
            "3\t\t23\n",
            "4\t\t92\n",
            "5\t\t20\n",
            "6\t\t115\n",
            "7\t\t93\n",
            "8\t\t213\n",
            "9\t\t94\n",
            "10\t\t59\n",
            "11\t\t172\n",
            "12\t\t0\n"
          ]
        }
      ]
    },
    {
      "cell_type": "markdown",
      "source": [
        "##2.6.2 Ejecucion paso a paso funcion Dijkstra (verbose=True)\n",
        "---"
      ],
      "metadata": {
        "id": "A6uumEHFGr4l"
      }
    },
    {
      "cell_type": "markdown",
      "source": [
        "#3. Tiempo de ejecución\n",
        "---"
      ],
      "metadata": {
        "id": "E_XwAaNl2_nh"
      }
    },
    {
      "cell_type": "markdown",
      "source": [
        "### 3.1 Bellman-Ford\n",
        "---"
      ],
      "metadata": {
        "id": "0PxEz8so3Bhg"
      }
    },
    {
      "cell_type": "markdown",
      "source": [],
      "metadata": {
        "id": "W5H84mhi3IQX"
      }
    },
    {
      "cell_type": "markdown",
      "source": [
        "### 3.2 Dijkstra\n",
        "---"
      ],
      "metadata": {
        "id": "n5Q9M01V3JIL"
      }
    },
    {
      "cell_type": "markdown",
      "source": [],
      "metadata": {
        "id": "kZ-7ilGF3RYv"
      }
    },
    {
      "cell_type": "markdown",
      "source": [
        "#4. Correctitud\n",
        "\n",
        "---"
      ],
      "metadata": {
        "id": "pJJwNbsP2wLE"
      }
    },
    {
      "cell_type": "markdown",
      "source": [
        "### 4.1 Bellman-Ford\n",
        "---"
      ],
      "metadata": {
        "id": "JQQxvNeP3R6g"
      }
    },
    {
      "cell_type": "markdown",
      "source": [
        "### **Teorema *(Correctitud)***\n",
        "\n",
        "Se garantiza que si un grafo `G[V,E]` no contiene ciclos negativos, el algoritmo calculo correctamente la  distancia `D[S,v]` a cada nodo `v` en `V`.\n",
        "\n",
        "### **Propiedad invariante**\n",
        "\n",
        "Para cada nodo `v`, la distancia conocida visitados `j` arcos es minima.\n",
        "\n",
        "\n",
        "\n",
        "```\n",
        "j <= v-1:\n",
        "  relajar arco: []\n",
        "else:\n",
        "  ciclo[]\n",
        "``` \n",
        "\n"
      ],
      "metadata": {
        "id": "Ug8DOa7r3jEE"
      }
    },
    {
      "cell_type": "markdown",
      "source": [
        "### 4.2 Dijkstra\n",
        "---"
      ],
      "metadata": {
        "id": "ImFvkrGN3jeV"
      }
    },
    {
      "cell_type": "markdown",
      "source": [],
      "metadata": {
        "id": "UcFw9xtm3jzd"
      }
    }
  ]
}
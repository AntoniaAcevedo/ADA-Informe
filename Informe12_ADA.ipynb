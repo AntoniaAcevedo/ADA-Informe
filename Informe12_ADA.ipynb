{
  "nbformat": 4,
  "nbformat_minor": 0,
  "metadata": {
    "colab": {
      "provenance": [],
      "authorship_tag": "ABX9TyPv70Y3/GjNdXnK+yxcXxTo",
      "include_colab_link": true
    },
    "kernelspec": {
      "name": "python3",
      "display_name": "Python 3"
    },
    "language_info": {
      "name": "python"
    }
  },
  "cells": [
    {
      "cell_type": "markdown",
      "metadata": {
        "id": "view-in-github",
        "colab_type": "text"
      },
      "source": [
        "<a href=\"https://colab.research.google.com/github/AntoniaAcevedo/ADA-Informe/blob/main/Informe12_ADA.ipynb\" target=\"_parent\"><img src=\"https://colab.research.google.com/assets/colab-badge.svg\" alt=\"Open In Colab\"/></a>"
      ]
    },
    {
      "cell_type": "markdown",
      "source": [
        "#¿ Qué quiere decir que un problema sea NP-Hard? \n"
      ],
      "metadata": {
        "id": "sVnHIt4cXKU2"
      }
    },
    {
      "cell_type": "markdown",
      "source": [
        "### **Respuesta**:\n",
        "El conjunto de problemas al menos tan difíciles como los problemas más difíciles de las clases de complejidad NP.\n",
        "\n",
        "Se puede llamar a un problema **NP-Hard** si este no puede ser resuelto por algún algoritmo en un tiempo de ejecución razonable, es decir, cuyo tiempo que esté acotado por algún término polinomial.\n"
      ],
      "metadata": {
        "id": "JDvySA6UZsKD"
      }
    },
    {
      "cell_type": "markdown",
      "source": [
        "# ¿ Qué quiere decir  $P \\neq NP$ ?\n"
      ],
      "metadata": {
        "id": "bfss96EEXKOW"
      }
    },
    {
      "cell_type": "markdown",
      "source": [
        "### **Respuesta**:\n",
        "\n",
        "Teniendo en cuenta que $P \\neq NP$ es en realidad una conjetura, ya que aun no se a podido confirmar en todo su explendor se pude definir por separado lo que es un problema tipo $P$ y uno tipo $NP$.\n",
        "\n",
        "- **Un problema es de tipo $P$** cuando existe un algoritmo que lo resuelve en tiempo polinómico. Significa esto que ante un tamaño  $n$  del problema, existen programas que lo resuelven en el orden de  $nα$  ciclos de máquina, para algún entero $ α$ .\n",
        "\n",
        "- **Un problema es de tipo $NP$** cuando , dada una solución del problema, se puede comprobar en tiempo polinómico que efectivamente lo es.\n",
        "\n",
        "![image](https://media.geeksforgeeks.org/wp-content/uploads/NP-Completeness-1.png)"
      ],
      "metadata": {
        "id": "L4VEuQNAbopK"
      }
    },
    {
      "cell_type": "markdown",
      "source": [
        "# ¿ Cómo se prueba  que un problema es NP-Hard usando reducciones?"
      ],
      "metadata": {
        "id": "Ja3lg_sUXKKj"
      }
    },
    {
      "cell_type": "markdown",
      "source": [
        "### **Respuesta**:\n",
        "\n",
        "Para la prueba de un problema NP-Hard usando reducciones se puede ver interpretado con la utilizacion de un problema $A$ del cual tengamos conocimientos previos de que sea un problema NP-Hard y lo reducimos a un problema $B$, para luego resolver $B$ podemos obter el conocimiento de que el problema $B$ tambien es NP-Hard.\n",
        "\n",
        "![image](https://images.downey.io/diagrams/3SAT-to-IndependentSet-1.png)"
      ],
      "metadata": {
        "id": "kR5KtpgJZf8b"
      }
    },
    {
      "cell_type": "markdown",
      "source": [
        "# Problema NP-Hard\n",
        "\n",
        "---\n",
        "\n"
      ],
      "metadata": {
        "id": "hcpbmtLSgVNW"
      }
    },
    {
      "cell_type": "markdown",
      "source": [
        "### Problema: Set Cover\n",
        "---\n"
      ],
      "metadata": {
        "id": "pc7A6DQzXKAQ"
      }
    },
    {
      "cell_type": "markdown",
      "source": [
        "El problema **Set Cover** da un conjunto universo $U = {x1,x2,...,xn}$, un conjunto de subconjuntos $S_i ⊆ U$, y un entero $k$. La pregunta es si hay una colección $C$ de $k$ subconjuntos tal que «cubren»\n",
        "$U$, o sea $|C| = k$ y:\n",
        "\n",
        "$\\bigcup\\limits_{i \\in C} S_i = U $\n",
        "\n",
        "![image](data:image/png;base64,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)"
      ],
      "metadata": {
        "id": "oQ1Bl81Egk0k"
      }
    },
    {
      "cell_type": "markdown",
      "source": [
        "### Demostracion con reducción\n",
        "---"
      ],
      "metadata": {
        "id": "oWjG6mbHqCt6"
      }
    },
    {
      "cell_type": "markdown",
      "source": [
        "**Vertex Cover**(algoritmo usado para reduccion)\n",
        "\n",
        "Un vertex covering (también node covering) es el minimo conjunto de vértices que conecten en todos los arcos del grafo.\n",
        "\n",
        "\n"
      ],
      "metadata": {
        "id": "2gh132uEtRMb"
      }
    },
    {
      "cell_type": "markdown",
      "source": [
        "![image.png](data:image/png;base64,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)"
      ],
      "metadata": {
        "id": "FQbFw7MYx4-S"
      }
    },
    {
      "cell_type": "markdown",
      "source": [
        "El minimo conjunto de vertices que me genera **Vertex Cover** es 1 y 3 en este caso."
      ],
      "metadata": {
        "id": "8uGwEeq3x6zw"
      }
    },
    {
      "cell_type": "markdown",
      "source": [
        "---\n",
        "Teorema 11.13. **Set Cover** es **NP-completo**.\n",
        "\n",
        "Demostración. Primero, vemos que **Set Cover** está en NP, ya que dada una colección propuesta Cpodemos verificar que $|C| ≤ k$ y que la unión de esos conjuntos es $U$.\n",
        "\n",
        "\n",
        "Demostraremos que **Vertex Cover** $\\leq_P$ **Set Cover**. Dada una instancia de **Vertex Cover** (o sea, un grafo $G = (V,E)$ y un entero $k$) construiremos una instancia de **Set Cover**. Sea $U = E$ (los arcos de $G$), numeramos los vértices de $G$ de 1 a $n$, y definimos los conjuntos $S_i$ como los arcos que inciden en el vértice $i$. Un **Vertex Cover** de $G$ es un conjunto de vértices que participa en todos los arcos, o sea, corresponde exactamente a un set cover de $U$.\n",
        "\n",
        "Note que **Vertex Cover** es un caso muy particular de **Set Cover** (todos los conjuntos son de dos elementos). Esta es una situación en la cual la reducción es muy simple."
      ],
      "metadata": {
        "id": "r2FhlFk5p_d7"
      }
    },
    {
      "cell_type": "markdown",
      "source": [
        "## Algoritmo propuesto\n",
        "---\n",
        "\n",
        "Hay un algoritmo aproximado Greedy de tiempo polinomial, \n",
        "```\n",
        "1) Sea I el conjunto de elementos incluidos hasta el momento. Inicializar I = {}\n",
        "\n",
        "2) Haz lo siguiente mientras I no sea lo mismo que U.\n",
        "    a) Encuentre el conjunto S_i en {S_1 , S_2 , ... S_m } cuya rentabilidad es\n",
        "       más pequeño, es decir, la relación entre el costo C(S_i) y el número de nuevos agregados\n",
        "       elementos es mínimo.\n",
        "       Básicamente, elegimos el conjunto para el cual el siguiente valor es mínimo.\n",
        "           Coste(S_i ) / |S_i - I|\n",
        "    b) Agregue elementos de S_i seleccionados anteriormente a I, es decir, I = IUS i\n",
        "```\n",
        "El algoritmo greedy descrito tiene un tiempo de ejecucion aproximado de $O(\\log n)$.\n",
        "\n",
        "Ya que en el paso a) el coste es $O(\\log n)$ y en el paso b) el coste es de $O(n)$ , al realizar la suma correspondiente $O(\\log n) + O(n)$ nos devuelve el tiempo de ejecucion aproximado de $O(\\log n)$ .\n",
        "\n"
      ],
      "metadata": {
        "id": "F1oi2rosqG_g"
      }
    }
  ]
}
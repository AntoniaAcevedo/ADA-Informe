{
  "nbformat": 4,
  "nbformat_minor": 0,
  "metadata": {
    "colab": {
      "name": "Informe2_ADA.ipynb",
      "provenance": [],
      "collapsed_sections": [],
      "authorship_tag": "ABX9TyPg/i8KCJkf5ur3neFDWF/x",
      "include_colab_link": true
    },
    "kernelspec": {
      "name": "python3",
      "display_name": "Python 3"
    },
    "language_info": {
      "name": "python"
    }
  },
  "cells": [
    {
      "cell_type": "markdown",
      "metadata": {
        "id": "view-in-github",
        "colab_type": "text"
      },
      "source": [
        "<a href=\"https://colab.research.google.com/github/AntoniaAcevedo/ADA-Informe/blob/main/Informe2_ADA.ipynb\" target=\"_parent\"><img src=\"https://colab.research.google.com/assets/colab-badge.svg\" alt=\"Open In Colab\"/></a>"
      ]
    },
    {
      "cell_type": "markdown",
      "source": [
        "#1. Problema de Ordenamiento \n",
        "\n",
        "**Entrada**: Secuencia de n números $[a_1,a_2,a_3...,a_n]$\n",
        "\n",
        "**Salida**: Permutación ordenada de la secuencia de entrada: $[a_1',a_2',a_3' ,...,a_n']$, de tal manera que $a_1'\\leq a_2' \\leq a_3' \\leq... \\leq a_n'$.\n",
        "\n",
        "![image](https://i.imgur.com/ehCX5Qd.png)\n",
        "\n",
        "\n",
        "\n"
      ],
      "metadata": {
        "id": "s7y2vbDwnZsJ"
      }
    },
    {
      "cell_type": "markdown",
      "source": [
        "#2. MergeSort \n",
        "El siguiente código muestra una implementación del algoritmo **MergeSort**.\n",
        "\n",
        "#2.1. Codigo"
      ],
      "metadata": {
        "id": "t-6Ez42tepVh"
      }
    },
    {
      "cell_type": "code",
      "source": [
        "import random\n",
        "from termcolor import colored\n",
        "import copy\n",
        "\n",
        "\n",
        "def merge(iz,der,verbose=False):\n",
        "    ordenado = []\n",
        "    indice_iz = 0\n",
        "    indice_der = 0\n",
        "    indice_ordenado = 0\n",
        "    global i\n",
        "    while indice_iz < len(iz) and indice_der < len(der):\n",
        "        izquierda = iz[indice_iz]\n",
        "        derecha = der[indice_der]\n",
        "        if izquierda <= derecha:\n",
        "            ordenado.append(izquierda)  \n",
        "            indice_iz += 1\n",
        "            i+=1\n",
        "            if verbose:\n",
        "              print(\"\\n Iteracion\",i)\n",
        "              print(colored(f\"{str(ordenado)[1:-1]}\", \"green\"), \",\", str(derecha)[1:-1])\n",
        "        else:\n",
        "            ordenado.append(derecha)\n",
        "            indice_der += 1\n",
        "            i+=1\n",
        "            if verbose:\n",
        "              print(\"\\n Iteracion\",i)\n",
        "              print(colored(f\"{str(ordenado)[1:-1]}\", \"red\"), \",\", str(izquierda)[1:-1])\n",
        "        indice_ordenado += 1\n",
        "    while indice_iz < len(iz):\n",
        "        ordenado.append(iz[indice_iz])\n",
        "        indice_iz+= 1\n",
        "        i+=1\n",
        "        if verbose:\n",
        "          print(\"\\n Iteracion\",i)\n",
        "          print(colored(f\"{str(ordenado)[1:-1]}\", \"blue\"))\n",
        "    while indice_der < len(der):\n",
        "        ordenado.append(der[indice_der])\n",
        "        indice_der += 1\n",
        "        i+=1\n",
        "        if verbose:\n",
        "          print(\"\\n Iteracion\",i)\n",
        "          print(colored(f\"{str(ordenado)[1:-1]}\", \"yellow\"))\n",
        "    return ordenado\n",
        "\n",
        "\n",
        "    \n",
        "def merge_sort(arreglo,verbose=False):\n",
        "    longitud = len(arreglo)\n",
        "    mitad = longitud//2 \n",
        "    global i\n",
        "    i=0\n",
        "    if verbose:\n",
        "      print(\"Antes de comenzar\")\n",
        "      print(colored(f\"{str(arreglo[:1])[1:-1]}\", \"magenta\"), \",\", str(arreglo[1:])[1:-1])\n",
        "    if longitud <= 1:\n",
        "        return arreglo\n",
        "    mit_iz = arreglo[:mitad]\n",
        "    i+=1\n",
        "    if verbose:\n",
        "      print(\"\\n Iteracion\",i)\n",
        "      print(colored(f\"{str(mit_iz)[1:-1]}\", \"green\"))\n",
        "    mit_der = arreglo[mitad:]\n",
        "    i+=1\n",
        "    if verbose: \n",
        "      print(\"\\n Iteracion\",i)    \n",
        "      print(colored(f\"{str(mit_der)[1:-1]}\", \"red\"))\n",
        "    mit_iz = merge_sort(mit_iz)\n",
        "    i+=1\n",
        "    if verbose:\n",
        "      print(\"\\n Iteracion\",i)      \n",
        "      print(colored(f\"{str(mit_iz)[1:-1]}\", \"blue\"))\n",
        "    mit_der= merge_sort(mit_der)\n",
        "    i+=1\n",
        "    if verbose: \n",
        "      print(\"\\n Iteracion\",i)\n",
        "      print(colored(f\"{str(mit_der)[1:-1]}\", \"yellow\"))   \n",
        "    i+=1  \n",
        "    if verbose:\n",
        "      print(\"\\n Iteracion\",i)\n",
        "      print(colored(f\"{str(merge(mit_iz, mit_der))[1:-1]}\", \"magenta\"))\n",
        "    return merge(mit_iz, mit_der)\n",
        "\n",
        "\n",
        "# Ejemplo\n",
        "A = [5,8,7,1,3]\n",
        "print(\"Entrada: \",A)\n",
        "A= merge_sort(A)\n",
        "print(\"Salida: \",A)\n",
        "print(\"# comparaciones: \", i)"
      ],
      "metadata": {
        "id": "P9ya8GtYfne_",
        "colab": {
          "base_uri": "https://localhost:8080/"
        },
        "outputId": "2ec08cb5-8e7f-4d62-cf1e-fc8ebef31763"
      },
      "execution_count": 114,
      "outputs": [
        {
          "output_type": "stream",
          "name": "stdout",
          "text": [
            "Entrada:  [5, 8, 7, 1, 3]\n",
            "Salida:  [1, 3, 5, 7, 8]\n",
            "# comparaciones:  16\n"
          ]
        }
      ]
    },
    {
      "cell_type": "markdown",
      "source": [
        "#2.2. Descripcion del algoritmo\n",
        "\n",
        "Uno de los principios de esta funcion es \"divide y venceras\" con esto en mente se logra entender con mayor facilidad lo que este algoritmo realiza, el cual divide el problema en subproblemas mas pequeños para facilitar la solución de estos. Para esto se implementa la recursividad con la cual funciona, llamandose a si mismo varias veces hasta conseguir lo solicitado, a continuacion mezcla los subproblemas creados formando la solucion del problema original.\n",
        "\n",
        "La funcion MegeSort para su funcionamiento es necesaria la incorporacion de la funcion Merge, a continuacion dare la descripcion del funcionamiento de cada una de estas.\n"
      ],
      "metadata": {
        "id": "Xv7cquzZgDxd"
      }
    },
    {
      "cell_type": "markdown",
      "source": [
        "#2.2.1 Descripcion de funcion MergeSort\n",
        "\n",
        "Al implementar esta funcion lo primero que hace es dividir el arreglo en 2(izquierda y derecha), luego de esto estas dos partes son divididas nuevamente en 2, asi hasta que el arreglo dividido teniendo 1 valor cada uno. Esto sucede gracias a la recursividad ya que la funcion va a seguir hasta que la condicion de salida se cumpla, al tener el arreglo de 1 esto se facilita. A continuacion se llama a la funcion Merge la cual ordena y guarda en el arreglo de salida que se desea. \n",
        "\n",
        "#2.2.2 Descripcion de funcion Merge\n",
        "\n",
        "Cuando se llama a la funcion Merge dentro de la funcion MergeSort esta toma dos arreglos de 1 comparandolos para encontrar el con el valor mas pequeño esto se realiza con dos indices, al determinar cual es el de menor valor lo guarda en un nuevo arreglo ordenado y asi sucesivamente hasta tener el arreglo completamente ordenado de menor a mayor, luego de esto se regresa a la funcion MergeSort repitiendose el procedimiento por cada par de arreglos, al tener ordenada cada una de las mitades se lograra encontrar un arreglo ordenado de salida."
      ],
      "metadata": {
        "id": "38MQxvNoBXxF"
      }
    },
    {
      "cell_type": "markdown",
      "source": [
        "## 2.3. Ejemplo\n"
      ],
      "metadata": {
        "id": "FCR0mft5sG4U"
      }
    },
    {
      "cell_type": "markdown",
      "source": [
        "#2.4.1 Ejecucion paso a paso funcion MergeSort (verbose=True)\n"
      ],
      "metadata": {
        "id": "DAhh09Ng0nUq"
      }
    },
    {
      "cell_type": "code",
      "source": [
        "import random\n",
        "a = random.sample(range(1, 100), 6)\n",
        "a= merge_sort(a,verbose=True) \n",
        "print(\"# comparaciones: \", i)"
      ],
      "metadata": {
        "colab": {
          "base_uri": "https://localhost:8080/"
        },
        "id": "qTOJwf-LCekE",
        "outputId": "52ef550a-c3ce-450b-df6a-215b4978615d"
      },
      "execution_count": 118,
      "outputs": [
        {
          "output_type": "stream",
          "name": "stdout",
          "text": [
            "Antes de comenzar\n",
            "\u001b[35m77\u001b[0m , 28, 3, 74, 29, 85\n",
            "\n",
            " Iteracion 1\n",
            "\u001b[32m77, 28, 3\u001b[0m\n",
            "\n",
            " Iteracion 2\n",
            "\u001b[31m74, 29, 85\u001b[0m\n",
            "\n",
            " Iteracion 10\n",
            "\u001b[34m3, 28, 77\u001b[0m\n",
            "\n",
            " Iteracion 10\n",
            "\u001b[33m29, 74, 85\u001b[0m\n",
            "\n",
            " Iteracion 11\n",
            "\u001b[35m3, 28, 29, 74, 77, 85\u001b[0m\n",
            "# comparaciones:  23\n"
          ]
        }
      ]
    },
    {
      "cell_type": "markdown",
      "source": [
        "En un comienzo se muestra como se encuentra el arreglo aleatorio en un inicio, luego de esto en la primera iteracion se muentra la division que se realiza en este arreglo mostrando en un color verde los valores desordenados que se encuentrar en el lado izquierdo del arreglo inicial. En la siguiente iteracion se muestran de color rojo los valores del lado derecho desordenados extraidos del arreglo inicial. \n",
        "\n",
        "A continuacion la siguiente iteracion de muentra los valores de color azul los valores de la mitad izquierda ya ordenados de menor a mayor. Continuando con la siguiente iteracion que muestra de color amarillo los valores de la mitad derecha ordenados de menor a mayor. Para finalizar con la ultima iteracion que unifica las mitades en un arreglo de salida deseado con todos los valores ordenados de menor a mayor mostrando consigo tambien el total de iteraciones."
      ],
      "metadata": {
        "id": "06GY-LBSPjwS"
      }
    },
    {
      "cell_type": "markdown",
      "source": [
        "#3. Tiempo de ejecucion\n",
        "#### **Teorema (Tiempo de ejecución)**.\n",
        " *El algoritmo **MergeSort** tiene un tiempo de ejecución de  $O(n log n)$  en **todos los casos**.* \n",
        "### **Prueba del Teorema**\n",
        "\n",
        "El algoritmo utilizado no rectifica antes de comenzar a dividir el problema inicial si este ya se encuentra ordenado por lo que de todas las formas habidas y por haber divide el problema original en subproblemas para luego ordenarlos nuevamente de forma ordenada por lo que en todos los casos sigue los mismos pasos teniendo el mismo tiempo de ejecucion con una ecuacion recurrente.\n",
        "\n",
        "Una ecuacion recurrente consiste en una expresion finita que define implicitamente una sucesion, en el cual el elemento de la sucesion se determina de otros elementos mas sencillos, que incluyen iniciales o basicos.\n",
        "\n",
        "Para un algoritmo **\"divide y venceras\"** lo podemos analizar de la siguiente manera:\n",
        "\n",
        "####   **A)Si el tamaño del problema es muy pequeño, por ejemplo, de tamaño 1, entonces el tiempo que requerira el algoritmo sera constante, es decir T(N) = O(1).**\n",
        "\n",
        "####   **B)Para tamaños considerables, suponemos que el algoritmo divide el problema en a subproblemas, cada uno de los cuales es 1/b del problema original. Por lo tanto, podemos decir que el algoritmo demorara a * T(N/b) en resolver los subproblemas relacionados a un problema de tamaño N.**\n",
        "\n",
        "####  **C)Luego, podemos considerar que el algoritmo demora D(N) en dividir el problema en a subproblemas y C(N) en combinarlos.**\n",
        "\\\n",
        "Analizando el caso del MergeSort, utilizaremos el tamaño del problema como n para generalizar:\n",
        "\n",
        "####   **A)MergeSort divide cada problema en a = 2 subproblemas. Cada subproblema es ½ del problema original, es decir b = 2.**\n",
        "####   **B)Dividir un arreglo en 2 es constante en tiempo por lo tanto D(n) = O(1)**\n",
        "####   **C)La funcion merge tiene complejidad lineal, por lo tanto C(n) = O(n)**\n",
        "\n",
        "![image](https://i.imgur.com/AQ2suAV.png)\n"
      ],
      "metadata": {
        "id": "JsFIqSydRZY2"
      }
    },
    {
      "cell_type": "markdown",
      "source": [
        "## **4. Correctitud**\n",
        "#### **Teorema (Correctitud)**.\n",
        "*El algoritmo **MergeSort** genera un arreglo:  $[a′_1,a′_2,a'_3,...,a′_n]$ , con los mismos elementos del arreglo de entrada ordenados de menor a mayor, es decir,  $a′_1\\leq a′_2\\leq a′_3\\leq ...\\leq a′_n$ .*\n",
        "### **Prueba del Teorema**\n",
        "Para poder conocer la correctitud de la funcion MergeSort es necesario conocer ademas la correctitud de la funcion Merge la cual es llamada en la funcion MergeSort por esto seran explicadas por separado.\n",
        "\n",
        "Para ver la correctitud del MergSort, usaremos induccion matematica, ya que sirve para probar la correctitud de algoritmos recursivos.Para probar una declaracion T(n) para n perteneciente a los números naturales, debemos:\n",
        "\n",
        "#### **A)Probar que T(n) para un caso base, por ejemplo T(1)**\n",
        "#### **B)Probar si T(m) es cierto para m < n, entonces T(n) tambien lo es.**\n",
        "\\\n",
        "Siguiendo lo descrito anteriormente, nuestra hipotesis T(n) es que MergeSort retorna un arreglo con la secuencia de n elementos de entrada ordenados de menor a mayor.\n",
        "\n",
        "**Caso base**: *El largo de la lista es 1. De forma algo escasa el arreglo esta ordenado ya que solo posee un elemento y se retorna, por lo tanto el algoritmo funciona.*\n",
        "\n",
        "**Caso inductivo**: *Supongamos que m = n/2 es correcto que todo m < n, por lo que el algoritmo es correcto. Ahora los subarreglos izquierda y derecha son de tamaño m y son ordenadas usando MergeSort. Como el tamaño de los subarreglos es menor a n, con el paso inductivo asumimos que son ordenadas correctamente. Luego al combinar los dos subarreglos con la función Merge que retorna un arreglo ordenado como vimos anteriormente, el algoritmo MergeSort es correcto.*\n",
        "\\\n",
        "\\\n",
        "En cambio para la correctitud del Merge vemos que cada iteracion del algoritmo de las listas  izquierda  y derecha estan siempre ordenadas. Si probamos que esta ordenada, demostramos que el algoritmo es correcto. Asi aplicando la propiedad del bucle invariante.\n",
        "\n",
        "**Inicializacion**: *Los arreglos temporales (izquierda y derecha) estan trivialmente ordenadas ya que estan separados. Por lo que a la primera iteracion estos ya se encuentran ordenados.*\n",
        "\n",
        "**Mantencion**: *A la i-ésima iteracion ambos arreglos siguen el mismo proceso, por lo que constantemente estan ordenados, asi retornando el arreglo ordenado con todos los elementos originales*\n"
      ],
      "metadata": {
        "id": "RKpU1CgcZmE6"
      }
    },
    {
      "cell_type": "markdown",
      "source": [
        "##**5.Experimentos**"
      ],
      "metadata": {
        "id": "DG9VR8J2eGEI"
      }
    },
    {
      "cell_type": "markdown",
      "source": [
        "### **5.1. Número de comparaciones entre el mejor y peor caso**"
      ],
      "metadata": {
        "id": "hMXJTh9BeUCy"
      }
    },
    {
      "cell_type": "markdown",
      "source": [
        "#### **Demostración experimental del mejor caso:**"
      ],
      "metadata": {
        "id": "Gsad-FzqfLvH"
      }
    },
    {
      "cell_type": "code",
      "source": [
        "#Mejor caso\n",
        "a = random.sample(range(1, 100), 1)\n",
        "print(\"arreglo de uno:\",merge_sort(a))  "
      ],
      "metadata": {
        "colab": {
          "base_uri": "https://localhost:8080/"
        },
        "id": "XEbT_X6Med9F",
        "outputId": "0928f20c-d440-4ff0-a77d-3c451398d1f0"
      },
      "execution_count": 119,
      "outputs": [
        {
          "output_type": "stream",
          "name": "stdout",
          "text": [
            "arreglo de uno: [8]\n"
          ]
        }
      ]
    },
    {
      "cell_type": "markdown",
      "source": [
        "#### **Demostración experimental de otros casos:**"
      ],
      "metadata": {
        "id": "gbZ5BxuffOQ8"
      }
    },
    {
      "cell_type": "code",
      "source": [
        "import random\n",
        "#Otro caso\n",
        "a = random.sample(range(1, 100), 8)\n",
        "a= merge_sort(a,verbose=True) \n",
        "print(\"# comparaciones: \", i)"
      ],
      "metadata": {
        "colab": {
          "base_uri": "https://localhost:8080/"
        },
        "id": "S_nr2-rVfH1J",
        "outputId": "2cb76495-5a43-4add-aebe-53aaf4111c76"
      },
      "execution_count": 120,
      "outputs": [
        {
          "output_type": "stream",
          "name": "stdout",
          "text": [
            "Antes de comenzar\n",
            "\u001b[35m74\u001b[0m , 43, 70, 54, 41, 10, 68, 27\n",
            "\n",
            " Iteracion 1\n",
            "\u001b[32m74, 43, 70, 54\u001b[0m\n",
            "\n",
            " Iteracion 2\n",
            "\u001b[31m41, 10, 68, 27\u001b[0m\n",
            "\n",
            " Iteracion 11\n",
            "\u001b[34m43, 54, 70, 74\u001b[0m\n",
            "\n",
            " Iteracion 11\n",
            "\u001b[33m10, 27, 41, 68\u001b[0m\n",
            "\n",
            " Iteracion 12\n",
            "\u001b[35m10, 27, 41, 43, 54, 68, 70, 74\u001b[0m\n",
            "# comparaciones:  28\n"
          ]
        }
      ]
    },
    {
      "cell_type": "markdown",
      "source": [
        "#### **Gráfica entre comparaciones**\n",
        "\n",
        "*   Cantidad de comparaciones del mejor caso, realizadas experimentalmente.\n",
        "*   Cantidad de comparaciones para entradas aleatorias, realizadas experimentalmente.\n",
        "\\\n",
        "\n",
        "Para tamaños de problemas con $n ∈ [5,99]$.\n",
        "\\\n",
        "Los arreglos de entrada son:\n",
        "\n",
        "*   Mejor caso: La secuencia será un arreglo ordenado de $0$.\n",
        "*   Caso aleatorio: La secuencia será un arreglo aleatorio de números entre 1 y 99, con $n$ cantidad de elementos."
      ],
      "metadata": {
        "id": "-F5Ru9DPf42g"
      }
    },
    {
      "cell_type": "code",
      "source": [
        "import matplotlib.pyplot as plt\n",
        "\n",
        "x=[n for n in range(5,100)]\n",
        "\n",
        "y_best = []\n",
        "y_mergsort = []\n",
        "\n",
        "for n in range(5,100):\n",
        "  c=merge_sort(list(range(0, 1)))\n",
        "  y_best.append(c) \n",
        "\n",
        "  a = random.sample(range(1, 100), n)\n",
        "  a= merge_sort(a) \n",
        "  y_mergsort.append(i)\n",
        "\n",
        "plt.plot(x,y_best)\n",
        "plt.plot(x,y_mergsort)\n",
        "plt.legend([\"Experimental mejor caso\", \"MergeSort\"])\n",
        "\n",
        "plt.xlabel('n')\n",
        "plt.ylabel('Número de operaciones')\n",
        "plt.show()\n"
      ],
      "metadata": {
        "colab": {
          "base_uri": "https://localhost:8080/",
          "height": 279
        },
        "id": "dUp3oKTWguT0",
        "outputId": "3619a8dd-2069-4799-edce-8d8af255513b"
      },
      "execution_count": 122,
      "outputs": [
        {
          "output_type": "display_data",
          "data": {
            "text/plain": [
              "<Figure size 432x288 with 1 Axes>"
            ],
            "image/png": "[encoded data removed]"
          },
          "metadata": {
            "needs_background": "light"
          }
        }
      ]
    },
    {
      "cell_type": "markdown",
      "source": [
        "#### **Análisis de resultados**\n",
        "\n",
        "Como se puede observar en el grafico los arreglos generados aleatoriamente siempre se encuentran sobre la cota inferior del mejor caso ya que al ser recurrente siempre va a estar dentro de ese rango.\n",
        "\n",
        "Con estos casos experimentativos confirmamos que en cualquier caso se mantiene su tiempo de ejecucion $O(n log n)$."
      ],
      "metadata": {
        "id": "GYvdZOCji2LG"
      }
    },
    {
      "cell_type": "markdown",
      "source": [
        "## 5.2. Tiempo de ejecución (experimental)\n",
        "\n",
        "En el siguiente grafico se reporta el tiempo de ejecucion del algoritmo **MergeSort** en función del tamaño del problema para arreglos generados aleatoriamente de tamaños entre $5$ y $500$.\n"
      ],
      "metadata": {
        "id": "yLiQjQAnjyiT"
      }
    },
    {
      "cell_type": "code",
      "source": [
        "import matplotlib.pyplot as plt\n",
        "import datetime\n",
        "from timeit import repeat\n",
        "\n",
        "x=[]; y=[]\n",
        "\n",
        "for n in range(5,500):\n",
        "\n",
        "  a = random.sample(range(1, 1000), n)\n",
        "\n",
        "  #la función repeat está ejecutando 20 veces merge_sort con el arreglo a y retorna el mejor tiempo obtenido.\n",
        "  t = repeat(setup=\"from __main__ import merge_sort\", stmt=f\"merge_sort({a})\", repeat=1, number=10)\n",
        "\n",
        "  x.append(n)\n",
        "  y.append(t)\n",
        "\n",
        "\n",
        "plt.plot(x,y)\n",
        "plt.legend([\"MergeSort\"])\n",
        "\n",
        "plt.xlabel('n')\n",
        "plt.ylabel('time in ms')\n",
        "plt.show()"
      ],
      "metadata": {
        "colab": {
          "base_uri": "https://localhost:8080/",
          "height": 279
        },
        "id": "-rX5TJUgj9sN",
        "outputId": "4a9e54bd-2e87-424c-a0c0-cb7c8116b53d"
      },
      "execution_count": 123,
      "outputs": [
        {
          "output_type": "display_data",
          "data": {
            "text/plain": [
              "<Figure size 432x288 with 1 Axes>"
            ],
            "image/png": "[encoded data removed]"
          },
          "metadata": {
            "needs_background": "light"
          }
        }
      ]
    },
    {
      "cell_type": "markdown",
      "source": [
        "### Análisis de resultados\n",
        "\n",
        "En el grafico se puede apreciar, como era de esperarse, que el tiempo de jecucion experimental se comporta de manera creciente en funcion del tamaño del problema (al igual que en el analisis teorico).\n",
        "\n",
        "Note que hay unos peaks de tiempo. Estos se deben probablemente al comportamiento impredecible de los procesadores y quizas a otros procesos que tambien lo estan ocupando."
      ],
      "metadata": {
        "id": "yofThYk-kXtp"
      }
    }
  ]
}
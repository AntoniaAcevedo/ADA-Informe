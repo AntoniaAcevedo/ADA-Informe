{
  "nbformat": 4,
  "nbformat_minor": 0,
  "metadata": {
    "colab": {
      "provenance": [],
      "collapsed_sections": [],
      "authorship_tag": "ABX9TyMfU/fn1+z/dq6bvrBcp8n5",
      "include_colab_link": true
    },
    "kernelspec": {
      "name": "python3",
      "display_name": "Python 3"
    },
    "language_info": {
      "name": "python"
    }
  },
  "cells": [
    {
      "cell_type": "markdown",
      "metadata": {
        "id": "view-in-github",
        "colab_type": "text"
      },
      "source": [
        "<a href=\"https://colab.research.google.com/github/AntoniaAcevedo/ADA-Informe/blob/main/Informe4_ADA.ipynb\" target=\"_parent\"><img src=\"https://colab.research.google.com/assets/colab-badge.svg\" alt=\"Open In Colab\"/></a>"
      ]
    },
    {
      "cell_type": "markdown",
      "source": [
        "#1. Problema de ordenamiento\n",
        "**Entrada**: Secuencia de n números $[a_1,a_2,...,a_n]$\n",
        "\n",
        "**Salida**: Permutación ordenada de la secuencia de entrada: $[a_1',a_2',...,a_n']$, de tal manera que $a_1'\\leq a_2' \\leq... \\leq a_n'$.\n",
        "\n",
        "![image](https://i.imgur.com/LbdnIIA.jpg)\n",
        "\n",
        ">Continuando con el paradigma de **divide y venceras** el algoritmo QuickSort comienza con un problema el cual divide en tres subproblemas mas pequeños los cuales son:\n",
        ">- el pivote, este es el numero o valor que se encuentra en el final del problema original con el que despues se comparan el resto de numeros o valores.\n",
        "\n",
        ">- el lado derecho o ' i ', donde se posicionan los numeros o valores mayores que el pivote.\n",
        "\n",
        ">- el lado izquierdo o ' j ', donde se posicionan los numeros o valores menores o iguales que el pivote.\n",
        "\n",
        "\n"
      ],
      "metadata": {
        "id": "4sX2UGWhnlyw"
      }
    },
    {
      "cell_type": "markdown",
      "source": [
        "#2. QuickSort\n",
        "\n",
        "El siguiente código muestra una implementación del algoritmo **QuickSort**."
      ],
      "metadata": {
        "id": "J_x4PWwXaQER"
      }
    },
    {
      "cell_type": "markdown",
      "source": [
        "##2.1 Codigo "
      ],
      "metadata": {
        "id": "_1fEt5P_agP7"
      }
    },
    {
      "cell_type": "code",
      "source": [
        "from termcolor import colored\n",
        "\n",
        "def partition(array, low, high, t, verbose = False):\n",
        "  pivot = array[high]\n",
        "  i = low - 1\n",
        "  for j in range(low, high):\n",
        "    t += 1\n",
        "\n",
        "    if array[j] <= pivot:\n",
        "      i = i + 1\n",
        "      (array[i], array[j]) = (array[j], array[i])\n",
        "    if verbose:\n",
        "      print(\"\\n Iteracion\",t)\n",
        "      print(str(array)[1:-1])\n",
        "  (array[i + 1], array[high]) = (array[high], array[i + 1])\n",
        "\n",
        "  return i + 1,t\n",
        "\n",
        "def quicksort(array, low, high, t, verbose = False):\n",
        "  if low < high:\n",
        "    pi, t = partition(array, low, high, t, verbose)\n",
        "    t = quicksort(array, low, pi - 1, t, verbose)\n",
        "    t = quicksort(array, pi + 1, high, t, verbose)\n",
        "  return t\n",
        "  \n",
        "A = [5,8,7,1,3]\n",
        "print(\"Entrada: \",A)\n",
        "h= len(A) - 1\n",
        "t= quicksort(A, 0, h, 0)\n",
        "print(\"Salida: \",A)\n",
        "print(\"# comparaciones: \",t)\n"
      ],
      "metadata": {
        "colab": {
          "base_uri": "https://localhost:8080/"
        },
        "id": "Zo0F9V9vH298",
        "outputId": "9374f95c-e1ea-41e4-a35e-2dfb99969e6b"
      },
      "execution_count": null,
      "outputs": [
        {
          "output_type": "stream",
          "name": "stdout",
          "text": [
            "Entrada:  [5, 8, 7, 1, 3]\n",
            "Salida:  [1, 3, 5, 7, 8]\n",
            "# comparaciones:  7\n"
          ]
        }
      ]
    },
    {
      "cell_type": "markdown",
      "source": [
        "##2.2 Descripcion del algoritmo\n"
      ],
      "metadata": {
        "id": "CXmVSkZveFr4"
      }
    },
    {
      "cell_type": "markdown",
      "source": [
        "##2.3 Ejemplo "
      ],
      "metadata": {
        "id": "gcxg-cV0eQde"
      }
    },
    {
      "cell_type": "markdown",
      "source": [
        "## 2.4. Ejecución del algoritmo paso a paso (`verbose=True`)\n",
        "\n",
        "Usando la opción `verbose=True`, podemos ver lo que ocurre en cada iteración del algoritmo."
      ],
      "metadata": {
        "id": "9zBojk11eVMa"
      }
    },
    {
      "cell_type": "code",
      "source": [
        "import random\n",
        "a = random.sample(range(1, 100), 8)\n",
        "h= len(a) - 1\n",
        "t= quicksort(a, 0, h, 0, True)\n",
        "print(\"# comparaciones: \", t)"
      ],
      "metadata": {
        "colab": {
          "base_uri": "https://localhost:8080/"
        },
        "id": "TXBWPujaNa7X",
        "outputId": "cea95193-7584-418f-9569-ca65a5f22c41"
      },
      "execution_count": null,
      "outputs": [
        {
          "output_type": "stream",
          "name": "stdout",
          "text": [
            "\n",
            " Iteracion 1\n",
            "64, 63, 62, 55, 72, 29, 40, 44\n",
            "\n",
            " Iteracion 2\n",
            "64, 63, 62, 55, 72, 29, 40, 44\n",
            "\n",
            " Iteracion 3\n",
            "64, 63, 62, 55, 72, 29, 40, 44\n",
            "\n",
            " Iteracion 4\n",
            "64, 63, 62, 55, 72, 29, 40, 44\n",
            "\n",
            " Iteracion 5\n",
            "64, 63, 62, 55, 72, 29, 40, 44\n",
            "\n",
            " Iteracion 6\n",
            "29, 63, 62, 55, 72, 64, 40, 44\n",
            "\n",
            " Iteracion 7\n",
            "29, 40, 62, 55, 72, 64, 63, 44\n",
            "\n",
            " Iteracion 8\n",
            "29, 40, 44, 55, 72, 64, 63, 62\n",
            "\n",
            " Iteracion 9\n",
            "29, 40, 44, 55, 72, 64, 63, 62\n",
            "\n",
            " Iteracion 10\n",
            "29, 40, 44, 55, 72, 64, 63, 62\n",
            "\n",
            " Iteracion 11\n",
            "29, 40, 44, 55, 72, 64, 63, 62\n",
            "\n",
            " Iteracion 12\n",
            "29, 40, 44, 55, 72, 64, 63, 62\n",
            "\n",
            " Iteracion 13\n",
            "29, 40, 44, 55, 62, 64, 63, 72\n",
            "\n",
            " Iteracion 14\n",
            "29, 40, 44, 55, 62, 64, 63, 72\n",
            "\n",
            " Iteracion 15\n",
            "29, 40, 44, 55, 62, 64, 63, 72\n",
            "# comparaciones:  15\n"
          ]
        }
      ]
    },
    {
      "cell_type": "markdown",
      "source": [
        "#3. Tiempo de ejecucion"
      ],
      "metadata": {
        "id": "lcckZVKeecku"
      }
    },
    {
      "cell_type": "markdown",
      "source": [
        "###Ejemplo"
      ],
      "metadata": {
        "id": "-dAqfBS5gIB5"
      }
    },
    {
      "cell_type": "code",
      "source": [
        "a =[2,3,4,1];\n",
        "print(\"Entrada no ordenada:\",a)\n",
        "h= len(a) - 1\n",
        "t= quicksort(a, 0, h, 0, True)\n",
        "print(\"Salida ordenada:\",a)\n",
        "print(\"Total de comparaciones realizadas:\",t)"
      ],
      "metadata": {
        "colab": {
          "base_uri": "https://localhost:8080/"
        },
        "id": "f2cu3CNufjAN",
        "outputId": "0109e83f-2bba-49e1-837f-1d8e27dac153"
      },
      "execution_count": null,
      "outputs": [
        {
          "output_type": "stream",
          "name": "stdout",
          "text": [
            "Entrada no ordenada: [2, 3, 4, 1]\n",
            "\n",
            " Iteracion 1\n",
            "2, 3, 4, 1\n",
            "\n",
            " Iteracion 2\n",
            "2, 3, 4, 1\n",
            "\n",
            " Iteracion 3\n",
            "2, 3, 4, 1\n",
            "\n",
            " Iteracion 4\n",
            "1, 3, 4, 2\n",
            "\n",
            " Iteracion 5\n",
            "1, 3, 4, 2\n",
            "\n",
            " Iteracion 6\n",
            "1, 2, 4, 3\n",
            "Salida ordenada: [1, 2, 3, 4]\n",
            "Total de comparaciones realizadas: 6\n"
          ]
        }
      ]
    },
    {
      "cell_type": "markdown",
      "source": [
        "#4. Correctitud"
      ],
      "metadata": {
        "id": "mkHYnzzfgRgh"
      }
    },
    {
      "cell_type": "markdown",
      "source": [
        "#5. Experimentos\n"
      ],
      "metadata": {
        "id": "fHPf3jiogaYs"
      }
    },
    {
      "cell_type": "markdown",
      "source": [
        "##5.1 Número de comparaciones"
      ],
      "metadata": {
        "id": "tpZ3IlQogoDG"
      }
    },
    {
      "cell_type": "code",
      "source": [
        "#Mejor caso\n",
        "a = random.sample(range(1, 100), 1)\n",
        "h= len(a) - 1\n",
        "print(\"arreglo de uno:\",quicksort(a, 0, h, 0))  "
      ],
      "metadata": {
        "colab": {
          "base_uri": "https://localhost:8080/"
        },
        "id": "ygDaDTtkNgeJ",
        "outputId": "25b163af-44ba-485a-ed88-9383f7d6a218"
      },
      "execution_count": null,
      "outputs": [
        {
          "output_type": "stream",
          "name": "stdout",
          "text": [
            "arreglo de uno: 0\n"
          ]
        }
      ]
    },
    {
      "cell_type": "code",
      "source": [
        "import matplotlib.pyplot as plt\n",
        "from math import log\n",
        "\n",
        "x=[n for n in range(5,100)]\n",
        "\n",
        "y_best = []\n",
        "y_promedio= [n*log(n) for n in range(5,100)]\n",
        "y_peor=[n*(n-1)/2 for n in range(5,100)]\n",
        "\n",
        "for n in range(5,100):\n",
        "  a = random.sample(range(1, 100), n)\n",
        "  h= len(a) - 1\n",
        "  t= quicksort(a, 0, h, 0) \n",
        "  y_best.append(t)\n",
        "\n",
        "plt.plot(x,y_best)\n",
        "plt.plot(x,y_promedio)\n",
        "plt.plot(x,y_peor)\n",
        "plt.legend([\"Experimental\", \"Promedio\",\"Peor\"])\n",
        "\n",
        "plt.xlabel('n')\n",
        "plt.ylabel('Número de operaciones')\n",
        "plt.show()\n"
      ],
      "metadata": {
        "colab": {
          "base_uri": "https://localhost:8080/",
          "height": 280
        },
        "id": "aJg3ooceNMS7",
        "outputId": "8030741b-a3f0-4e95-a2bf-257bd586b607"
      },
      "execution_count": null,
      "outputs": [
        {
          "output_type": "display_data",
          "data": {
            "text/plain": [
              "<Figure size 432x288 with 1 Axes>"
            ],
            "image/png": "[encoded data removed]"
          },
          "metadata": {
            "needs_background": "light"
          }
        }
      ]
    },
    {
      "cell_type": "markdown",
      "source": [
        "## 5.2. Tiempo de ejecución (experimental)\n",
        "\n",
        "En el siguiente gráfico se reporta el tiempo de ejecución del algoritmo **QuickSort** en función del tamaño del problema para arreglos generados aleatoriamente de tamaños entre $5$ y $500$."
      ],
      "metadata": {
        "id": "2qmv2YkjhEbx"
      }
    },
    {
      "cell_type": "code",
      "source": [
        "import matplotlib.pyplot as plt\n",
        "import datetime\n",
        "from timeit import repeat\n",
        "\n",
        "x=[]; y=[]\n",
        "\n",
        "for n in range(5,500):\n",
        "\n",
        "  a = random.sample(range(1, 1000), n)\n",
        "  h= len(a) - 1\n",
        "  t = repeat(setup=\"from __main__ import quicksort\", stmt=f\"quicksort{a, 0, h, 0}\", repeat=1, number=10)\n",
        "\n",
        "  x.append(n)\n",
        "  y.append(t)\n",
        "\n",
        "\n",
        "plt.plot(x,y)\n",
        "plt.legend([\"QuickSort\"])\n",
        "\n",
        "plt.xlabel('n')\n",
        "plt.ylabel('time in ms')\n",
        "plt.show()"
      ],
      "metadata": {
        "colab": {
          "base_uri": "https://localhost:8080/",
          "height": 279
        },
        "id": "8SW3bRVmhVIF",
        "outputId": "e9f6dec5-0ad1-498e-96c8-62fb35105e35"
      },
      "execution_count": null,
      "outputs": [
        {
          "output_type": "display_data",
          "data": {
            "text/plain": [
              "<Figure size 432x288 with 1 Axes>"
            ],
            "image/png": "[encoded data removed]"
          },
          "metadata": {
            "needs_background": "light"
          }
        }
      ]
    },
    {
      "cell_type": "markdown",
      "source": [
        "##5.3 Comparacion QuickSort y MergeSort"
      ],
      "metadata": {
        "id": "kjIq_t4DleqA"
      }
    },
    {
      "cell_type": "code",
      "source": [
        "def mergeSort(arr):\n",
        "    if len(arr) > 1:\n",
        "        mid = len(arr)//2\n",
        "        L = arr[:mid]\n",
        "        R = arr[mid:]\n",
        "        mergeSort(L)\n",
        "        mergeSort(R)\n",
        "        i = j = k = 0\n",
        "        while i < len(L) and j < len(R):\n",
        "\n",
        "            if L[i] < R[j]:\n",
        "                arr[k] = L[i]\n",
        "                i += 1\n",
        "            else:\n",
        "                arr[k] = R[j]\n",
        "                j += 1\n",
        "            k += 1\n",
        "        while i < len(L):\n",
        "            arr[k] = L[i]\n",
        "            i += 1\n",
        "            k += 1\n",
        "  \n",
        "        while j < len(R):\n",
        "            arr[k] = R[j]\n",
        "            j += 1\n",
        "            k += 1\n",
        "  \n",
        "\n",
        "\n",
        "  \n",
        "def printList(arr):\n",
        "    for i in range(len(arr)):\n",
        "        print(arr[i], end=\" \")\n",
        "    print()\n",
        "\n"
      ],
      "metadata": {
        "id": "mOAM16bht8Bi"
      },
      "execution_count": null,
      "outputs": []
    },
    {
      "cell_type": "code",
      "source": [
        "import matplotlib.pyplot as plt\n",
        "from math import log\n",
        "\n",
        "x=[n for n in range(5,100)]\n",
        "\n",
        "y_Quick= []\n",
        "y_Merge= []\n",
        "\n",
        "for n in range(5,100):\n",
        "  a = random.sample(range(1, 100), n)\n",
        "  h= len(a) - 1\n",
        "  t= quicksort(a, 0, h, 0) \n",
        "  y_Quick.append(t) \n",
        "\n",
        "for n in range(5,100):\n",
        "  a = random.sample(range(1, 100), n)\n",
        "  i= merge_sort(a) \n",
        "  y_Merge.append(i)\n",
        "\n",
        "plt.plot(x,y_Quick)\n",
        "plt.plot(x,y_Merge)\n",
        "plt.legend([\"QuickSort\",\"MergeSort\"])\n",
        "\n",
        "plt.xlabel('n')\n",
        "plt.ylabel('Número de operaciones')\n",
        "plt.show()"
      ],
      "metadata": {
        "colab": {
          "base_uri": "https://localhost:8080/",
          "height": 235
        },
        "id": "CKDqbIT1l7lM",
        "outputId": "661264c1-dd30-4d25-9772-8760e7e644dc"
      },
      "execution_count": null,
      "outputs": [
        {
          "output_type": "error",
          "ename": "TypeError",
          "evalue": "ignored",
          "traceback": [
            "\u001b[0;31m---------------------------------------------------------------------------\u001b[0m",
            "\u001b[0;31mTypeError\u001b[0m                                 Traceback (most recent call last)",
            "\u001b[0;32m<ipython-input-154-10aa2631732e>\u001b[0m in \u001b[0;36m<module>\u001b[0;34m\u001b[0m\n\u001b[1;32m     15\u001b[0m \u001b[0;32mfor\u001b[0m \u001b[0mn\u001b[0m \u001b[0;32min\u001b[0m \u001b[0mrange\u001b[0m\u001b[0;34m(\u001b[0m\u001b[0;36m5\u001b[0m\u001b[0;34m,\u001b[0m\u001b[0;36m100\u001b[0m\u001b[0;34m)\u001b[0m\u001b[0;34m:\u001b[0m\u001b[0;34m\u001b[0m\u001b[0;34m\u001b[0m\u001b[0m\n\u001b[1;32m     16\u001b[0m   \u001b[0ma\u001b[0m \u001b[0;34m=\u001b[0m \u001b[0mrandom\u001b[0m\u001b[0;34m.\u001b[0m\u001b[0msample\u001b[0m\u001b[0;34m(\u001b[0m\u001b[0mrange\u001b[0m\u001b[0;34m(\u001b[0m\u001b[0;36m1\u001b[0m\u001b[0;34m,\u001b[0m \u001b[0;36m100\u001b[0m\u001b[0;34m)\u001b[0m\u001b[0;34m,\u001b[0m \u001b[0mn\u001b[0m\u001b[0;34m)\u001b[0m\u001b[0;34m\u001b[0m\u001b[0;34m\u001b[0m\u001b[0m\n\u001b[0;32m---> 17\u001b[0;31m   \u001b[0mt\u001b[0m\u001b[0;34m=\u001b[0m \u001b[0mmerge_sort\u001b[0m\u001b[0;34m(\u001b[0m\u001b[0ma\u001b[0m\u001b[0;34m)\u001b[0m\u001b[0;34m\u001b[0m\u001b[0;34m\u001b[0m\u001b[0m\n\u001b[0m\u001b[1;32m     18\u001b[0m   \u001b[0my_Merge\u001b[0m\u001b[0;34m.\u001b[0m\u001b[0mappend\u001b[0m\u001b[0;34m(\u001b[0m\u001b[0mt\u001b[0m\u001b[0;34m)\u001b[0m\u001b[0;34m\u001b[0m\u001b[0;34m\u001b[0m\u001b[0m\n\u001b[1;32m     19\u001b[0m \u001b[0;34m\u001b[0m\u001b[0m\n",
            "\u001b[0;31mTypeError\u001b[0m: merge_sort() missing 1 required positional argument: 't'"
          ]
        }
      ]
    }
  ]
}
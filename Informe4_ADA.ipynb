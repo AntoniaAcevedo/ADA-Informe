{
  "nbformat": 4,
  "nbformat_minor": 0,
  "metadata": {
    "colab": {
      "provenance": [],
      "collapsed_sections": [],
      "authorship_tag": "ABX9TyNFpR0elP/7XEuZqdyOxaGk",
      "include_colab_link": true
    },
    "kernelspec": {
      "name": "python3",
      "display_name": "Python 3"
    },
    "language_info": {
      "name": "python"
    }
  },
  "cells": [
    {
      "cell_type": "markdown",
      "metadata": {
        "id": "view-in-github",
        "colab_type": "text"
      },
      "source": [
        "<a href=\"https://colab.research.google.com/github/AntoniaAcevedo/ADA-Informe/blob/main/Informe4_ADA.ipynb\" target=\"_parent\"><img src=\"https://colab.research.google.com/assets/colab-badge.svg\" alt=\"Open In Colab\"/></a>"
      ]
    },
    {
      "cell_type": "markdown",
      "source": [
        "#1. Problema de ordenamiento\n",
        "\n",
        "---\n",
        "**Entrada**: Secuencia de n números $[a_1,a_2,...,a_n]$\n",
        "\n",
        "**Salida**: Permutación ordenada de la secuencia de entrada: $[a_1',a_2',...,a_n']$, de tal manera que $a_1'\\leq a_2' \\leq... \\leq a_n'$.\n",
        "\n",
        "![image](https://i.imgur.com/LbdnIIA.jpg)\n",
        "\n",
        ">Continuando con el paradigma de **divide y venceras** el algoritmo QuickSort comienza con un problema el cual divide en tres subproblemas mas pequeños los cuales son:\n",
        ">- el pivote, este es el numero o valor que se encuentra en el final del problema original con el que despues se comparan el resto de numeros o valores.\n",
        "\n",
        ">- el lado derecho o ' i ', donde se posicionan los numeros o valores mayores que el pivote.\n",
        "\n",
        ">- el lado izquierdo o ' j ', donde se posicionan los numeros o valores menores o iguales que el pivote.\n",
        "\n",
        "\n"
      ],
      "metadata": {
        "id": "4sX2UGWhnlyw"
      }
    },
    {
      "cell_type": "markdown",
      "source": [
        "#2. QuickSort\n",
        "\n",
        "---\n",
        "En los siguientes códigos se mostraran tres casos del algoritmo **QuickSort**,donde varia la seleccion del pivote en el metodo **Partition**."
      ],
      "metadata": {
        "id": "J_x4PWwXaQER"
      }
    },
    {
      "cell_type": "markdown",
      "source": [
        "##2.1 Codigos\n",
        "\n",
        "---"
      ],
      "metadata": {
        "id": "uqjHU45Pb4xi"
      }
    },
    {
      "cell_type": "markdown",
      "source": [
        "###2.1.1 Codigo Caso donde el pivote es el ultimo valor del arreglo \n",
        "\n",
        "---"
      ],
      "metadata": {
        "id": "_1fEt5P_agP7"
      }
    },
    {
      "cell_type": "code",
      "source": [
        "def partition(array, low, high, t, verbose = False):\n",
        "  pivot = array[high]\n",
        "  i = low - 1\n",
        "  for j in range(low, high):\n",
        "    t += 1\n",
        "\n",
        "    if array[j] <= pivot:\n",
        "      i = i + 1\n",
        "      (array[i], array[j]) = (array[j], array[i])\n",
        "    if verbose:\n",
        "      print(\"\\n Iteracion\",t)\n",
        "      print(str(array)[1:-1])\n",
        "  (array[i + 1], array[high]) = (array[high], array[i + 1])\n",
        "\n",
        "  return i + 1,t\n",
        "\n",
        "def quicksort(array, low, high, t, verbose = False):\n",
        "  if low < high:\n",
        "    pi, t = partition(array, low, high, t, verbose)\n",
        "    t = quicksort(array, low, pi - 1, t, verbose)\n",
        "    t = quicksort(array, pi + 1, high, t, verbose)\n",
        "  return t\n",
        "  \n",
        "A = [5,8,7,1,3]\n",
        "print(\"Entrada: \",A)\n",
        "h= len(A) - 1\n",
        "t= quicksort(A, 0, h, 0)\n",
        "print(\"Salida: \",A)\n",
        "print(\"# comparaciones: \",t)\n"
      ],
      "metadata": {
        "colab": {
          "base_uri": "https://localhost:8080/"
        },
        "id": "Zo0F9V9vH298",
        "outputId": "4b028c8d-4032-44b7-f3e3-8c325d18c45c"
      },
      "execution_count": 49,
      "outputs": [
        {
          "output_type": "stream",
          "name": "stdout",
          "text": [
            "Entrada:  [5, 8, 7, 1, 3]\n",
            "Salida:  [1, 3, 5, 7, 8]\n",
            "# comparaciones:  7\n"
          ]
        }
      ]
    },
    {
      "cell_type": "markdown",
      "source": [
        "###2.1.2 Codigo Caso donde el pivote es el primer valor del arreglo \n",
        "\n",
        "---"
      ],
      "metadata": {
        "id": "KlbT7WGDVMdh"
      }
    },
    {
      "cell_type": "code",
      "source": [
        "from termcolor import colored\n",
        "\n",
        "def Particion(array, low, high, t, verbose = False):\n",
        "    pivot = array[low]\n",
        "    while True:\n",
        "        t+=1\n",
        "        while array[low] < pivot:     \n",
        "            low += 1\n",
        "        while array[high] > pivot:\n",
        "            high -= 1\n",
        "        if verbose:\n",
        "            print(\"\\n Iteracion\",t)\n",
        "            print(str(array)[1:-1])\n",
        "        if low >= high:\n",
        "            return high, t\n",
        "        else:\n",
        "            array[low], array[high] = array[high], array[low]\n",
        "            low += 1\n",
        "            high -= 1\n",
        "\n",
        "def quick_sort(array, low, high, t, verbose = False):\n",
        "    if low < high:\n",
        "        pi,t = Particion(array, low, high, t, verbose)\n",
        "        t= quick_sort(array, low, pi, t, verbose)\n",
        "        t= quick_sort(array, pi + 1, high, t, verbose)\n",
        "    return t\n",
        "\n",
        "\"\"\"\n",
        "Modo de uso:\n",
        "\"\"\"\n",
        "A = [5,8,7,1,3]\n",
        "print(\"Entrada: \",A)\n",
        "h= len(A) - 1\n",
        "t= quick_sort(A, 0, h, 0)\n",
        "print(\"Salida: \",A)\n",
        "print(\"# comparaciones: \",t)"
      ],
      "metadata": {
        "colab": {
          "base_uri": "https://localhost:8080/"
        },
        "id": "xsSexqUXVLpG",
        "outputId": "20336f62-d88e-464a-8efb-9b36d81f2038"
      },
      "execution_count": 50,
      "outputs": [
        {
          "output_type": "stream",
          "name": "stdout",
          "text": [
            "Entrada:  [5, 8, 7, 1, 3]\n",
            "Salida:  [1, 3, 5, 7, 8]\n",
            "# comparaciones:  9\n"
          ]
        }
      ]
    },
    {
      "cell_type": "markdown",
      "source": [
        "###2.1.3 Codigo Caso donde el pivote es la mediana del arreglo\n",
        "--- "
      ],
      "metadata": {
        "id": "W6FtJn2JbyIA"
      }
    },
    {
      "cell_type": "code",
      "source": [
        "import numpy as np\n",
        "def Partition_(array, low, high, t, verbose = False):\n",
        "  n= median_value = np.percentile(a, 50) \n",
        "  array[high] = n\n",
        "  pivot = array[high]\n",
        "  i = low - 1\n",
        "  for j in range(low, high):\n",
        "    t += 1\n",
        "\n",
        "    if array[j] <= pivot:\n",
        "      i = i + 1\n",
        "      (array[i], array[j]) = (array[j], array[i])\n",
        "    if verbose:\n",
        "      print(\"\\n Iteracion\",t)\n",
        "      print(str(array)[1:-1])\n",
        "  (array[i + 1], array[high]) = (array[high], array[i + 1])\n",
        "\n",
        "  return i + 1,t\n",
        "\n",
        "def Quick_sort(array, low, high, t, verbose = False):\n",
        "  if low < high:\n",
        "    pi, t = Partition_(array, low, high, t, verbose)\n",
        "    t = Quick_sort(array, low, pi - 1, t, verbose)\n",
        "    t = Quick_sort(array, pi + 1, high, t, verbose)\n",
        "  return t\n",
        "\n",
        "A = [5,8,7,1,3]\n",
        "print(\"Entrada: \",A)\n",
        "h= len(A) - 1\n",
        "t= Quick_sort(A, 0, h, 0)\n",
        "print(\"Salida: \",A)\n",
        "print(\"# comparaciones: \",t)"
      ],
      "metadata": {
        "colab": {
          "base_uri": "https://localhost:8080/"
        },
        "id": "uK4qGz0CVMBb",
        "outputId": "040ea673-a287-4994-f818-a2661fa141d0"
      },
      "execution_count": 51,
      "outputs": [
        {
          "output_type": "stream",
          "name": "stdout",
          "text": [
            "Entrada:  [5, 8, 7, 1, 3]\n",
            "Salida:  [5, 33.5, 33.5, 33.5, 33.5]\n",
            "# comparaciones:  10\n"
          ]
        }
      ]
    },
    {
      "cell_type": "markdown",
      "source": [
        "##2.2 Descripcion del algoritmo\n",
        "\n",
        "---\n",
        "El algoritmo recibe como entrada una lista (o arreglo) $a$ con la secuencia de $n$ elementos que queremos ordenar. Con esto en mente se aplica el paradigma **divide y venceras** en el cual se recibe en un inicio un arreglo `A[p..r]`, se realizan los siguientes procesos:\n",
        "\n",
        "- Se **divide** el arreglo en 2 sub-arreglos: `A[p..q-1]` y `A[q+1..r]` de tal forma que todos los elementos de `A[p..q-1]` son menores o iguales a $q$. A su vez los elmentos de `A[q+1..r]` son mayores o iguales a $q$.\n",
        "- Se llama a **quicksort** para ordenar los subarreglos `A[p..q-1]` y `A[q+1..r]`\n",
        "- Nada más que hacer, el arreglo **ya se encuentra ordenado**: `A[p..q-1]`; `A[q]`;` A[q+1..r].`\n",
        "\n",
        "\n",
        "Para poder realizar este ordenamiento se implementa el metodo partition el cual con la ayuda de un pivote, el cual en su mayoria es el ultimo valor del arreglo inicial, dicho pivote se va comparando con los valores dentro del arreglo posicionandolos en donde pertenecen, es decir que si el numero que deseamos comparar `es menor o igual que el pivote` se posiciona en el sub-arreglo `A[p..q-1]`, si `es mayor que el pivote` se posiciona en el subarreglo `A[q+1..r]`, este funcionamiento se hace de forma recursiva dentro del **QuickSort** llamando a la funcion **Partition** las veces que sea necesario para tener todo el arreglo ordenado.\n",
        "\n",
        "Y cuando la variable `verbose` es `True` se muestra información para ver lo que pasa paso a paso dentro de la función."
      ],
      "metadata": {
        "id": "CXmVSkZveFr4"
      }
    },
    {
      "cell_type": "markdown",
      "source": [
        "##2.3 Ejemplo \n",
        "\n",
        "---\n",
        "\n",
        "Consideremos, por ejemplo, el arreglo:\n",
        "\n",
        "$a=[4,1,5,3]$\n",
        "\n",
        "- En la primera pasada se compara el 4 con el 3 el cual es el pivote (3):\n",
        "\n",
        "--> al tener que 4 es mayor que 3 se queda en esa misma posicion pero queda con el parametro de ser j es decir que es mayor y se debe hubicar a la derecho.\n",
        "\n",
        "$a=[4,1,5,3]$\n",
        "\n",
        "- Luego, en la segunda pasada el 1 se compara con el 3:\n",
        "\n",
        "--> al tener que 1 es menor que 3 su posicion cambia ya que queda con el parametro de ser i es decir los valores menores o iguales al pivote, al ya tener los primeros valores de i y j se puede visualizar de mejor manera la separacion de estos sub-problemas. Dejando el 1 en el lado izquierdo.\n",
        "\n",
        "$a=[1,4,5,3]$\n",
        "\n",
        "- Luego, en la tercera pasada el 5 se compara con el 3:\n",
        "\n",
        "--> al tener que el 5 es mayor que 3 su posicion se mantiene ya que se encuentra posicionado a la derecha en el sub-problema j donde se hubican los valores mayores al pivote.\n",
        "\n",
        "$a=[1,4,5,3]$\n",
        "\n",
        "- Y en la cuarta pasada el pivote se rehubica entre los dos sub-problemas i y j:\n",
        "\n",
        "$a=[1,3,5,4]$\n",
        "\n",
        "Y ya tenemos el arreglo ordenado."
      ],
      "metadata": {
        "id": "gcxg-cV0eQde"
      }
    },
    {
      "cell_type": "markdown",
      "source": [
        "## 2.4. Ejecución del algoritmo paso a paso (`verbose=True`)\n",
        "\n",
        "---\n",
        "Usando la opción `verbose=True`, podemos ver lo que ocurre en cada iteración del algoritmo."
      ],
      "metadata": {
        "id": "9zBojk11eVMa"
      }
    },
    {
      "cell_type": "code",
      "source": [
        "import random\n",
        "\n",
        "#Caso 1\n",
        "a = random.sample(range(1, 100), 8)\n",
        "h= len(a) - 1\n",
        "print(\"ENTRADA: \",a)\n",
        "t= quicksort(a, 0, h, 0, True)\n",
        "print(\"# comparaciones: \", t)"
      ],
      "metadata": {
        "colab": {
          "base_uri": "https://localhost:8080/"
        },
        "id": "4U4G81PabFNc",
        "outputId": "3ae20e31-a4c9-4520-9b70-fd2a5abec74c"
      },
      "execution_count": 57,
      "outputs": [
        {
          "output_type": "stream",
          "name": "stdout",
          "text": [
            "ENTRADA:  [3, 26, 98, 41, 25, 69, 16, 66]\n",
            "\n",
            " Iteracion 1\n",
            "3, 26, 98, 41, 25, 69, 16, 66\n",
            "\n",
            " Iteracion 2\n",
            "3, 26, 98, 41, 25, 69, 16, 66\n",
            "\n",
            " Iteracion 3\n",
            "3, 26, 98, 41, 25, 69, 16, 66\n",
            "\n",
            " Iteracion 4\n",
            "3, 26, 41, 98, 25, 69, 16, 66\n",
            "\n",
            " Iteracion 5\n",
            "3, 26, 41, 25, 98, 69, 16, 66\n",
            "\n",
            " Iteracion 6\n",
            "3, 26, 41, 25, 98, 69, 16, 66\n",
            "\n",
            " Iteracion 7\n",
            "3, 26, 41, 25, 16, 69, 98, 66\n",
            "\n",
            " Iteracion 8\n",
            "3, 26, 41, 25, 16, 66, 98, 69\n",
            "\n",
            " Iteracion 9\n",
            "3, 26, 41, 25, 16, 66, 98, 69\n",
            "\n",
            " Iteracion 10\n",
            "3, 26, 41, 25, 16, 66, 98, 69\n",
            "\n",
            " Iteracion 11\n",
            "3, 26, 41, 25, 16, 66, 98, 69\n",
            "\n",
            " Iteracion 12\n",
            "3, 16, 41, 25, 26, 66, 98, 69\n",
            "\n",
            " Iteracion 13\n",
            "3, 16, 25, 41, 26, 66, 98, 69\n",
            "\n",
            " Iteracion 14\n",
            "3, 16, 25, 26, 41, 66, 98, 69\n",
            "# comparaciones:  14\n"
          ]
        }
      ]
    },
    {
      "cell_type": "code",
      "source": [
        "import random\n",
        "\n",
        "#Caso 2\n",
        "a = random.sample(range(1, 100), 8)\n",
        "h= len(a) - 1\n",
        "print(\"ENTRADA: \",a)\n",
        "t= quick_sort(a, 0, h, 0, True)\n",
        "print(\"# comparaciones: \", t)"
      ],
      "metadata": {
        "colab": {
          "base_uri": "https://localhost:8080/"
        },
        "id": "TXBWPujaNa7X",
        "outputId": "865b344f-35a7-4fba-ba0b-90d5107db7f1"
      },
      "execution_count": 55,
      "outputs": [
        {
          "output_type": "stream",
          "name": "stdout",
          "text": [
            "ENTRADA:  [67, 48, 52, 81, 91, 8, 29, 97]\n",
            "\n",
            " Iteracion 1\n",
            "67, 48, 52, 81, 91, 8, 29, 97\n",
            "\n",
            " Iteracion 2\n",
            "29, 48, 52, 81, 91, 8, 67, 97\n",
            "\n",
            " Iteracion 3\n",
            "29, 48, 52, 8, 91, 81, 67, 97\n",
            "\n",
            " Iteracion 4\n",
            "29, 48, 52, 8, 91, 81, 67, 97\n",
            "\n",
            " Iteracion 5\n",
            "8, 48, 52, 29, 91, 81, 67, 97\n",
            "\n",
            " Iteracion 6\n",
            "8, 48, 52, 29, 91, 81, 67, 97\n",
            "\n",
            " Iteracion 7\n",
            "8, 29, 52, 48, 91, 81, 67, 97\n",
            "\n",
            " Iteracion 8\n",
            "8, 29, 52, 48, 91, 81, 67, 97\n",
            "\n",
            " Iteracion 9\n",
            "8, 29, 48, 52, 91, 81, 67, 97\n",
            "\n",
            " Iteracion 10\n",
            "8, 29, 48, 52, 91, 81, 67, 97\n",
            "\n",
            " Iteracion 11\n",
            "8, 29, 48, 52, 67, 81, 91, 97\n",
            "\n",
            " Iteracion 12\n",
            "8, 29, 48, 52, 67, 81, 91, 97\n",
            "\n",
            " Iteracion 13\n",
            "8, 29, 48, 52, 67, 81, 91, 97\n",
            "# comparaciones:  13\n"
          ]
        }
      ]
    },
    {
      "cell_type": "code",
      "source": [
        "import random\n",
        "\n",
        "#Caso 3\n",
        "a = random.sample(range(1, 100), 8)\n",
        "h= len(a) - 1\n",
        "print(\"ENTRADA: \",a)\n",
        "t= Quick_sort(a, 0, h, 0, True)\n",
        "print(\"# comparaciones: \", t)"
      ],
      "metadata": {
        "colab": {
          "base_uri": "https://localhost:8080/"
        },
        "id": "HqZ3WmRtbHFs",
        "outputId": "5863d81c-b5dd-40ed-df85-baf9b1a619c8"
      },
      "execution_count": 54,
      "outputs": [
        {
          "output_type": "stream",
          "name": "stdout",
          "text": [
            "ENTRADA:  [19, 68, 95, 7, 30, 23, 16, 6]\n",
            "\n",
            " Iteracion 1\n",
            "19, 68, 95, 7, 30, 23, 16, 21.0\n",
            "\n",
            " Iteracion 2\n",
            "19, 68, 95, 7, 30, 23, 16, 21.0\n",
            "\n",
            " Iteracion 3\n",
            "19, 68, 95, 7, 30, 23, 16, 21.0\n",
            "\n",
            " Iteracion 4\n",
            "19, 7, 95, 68, 30, 23, 16, 21.0\n",
            "\n",
            " Iteracion 5\n",
            "19, 7, 95, 68, 30, 23, 16, 21.0\n",
            "\n",
            " Iteracion 6\n",
            "19, 7, 95, 68, 30, 23, 16, 21.0\n",
            "\n",
            " Iteracion 7\n",
            "19, 7, 16, 68, 30, 23, 95, 21.0\n",
            "\n",
            " Iteracion 8\n",
            "19, 7, 22.0, 21.0, 30, 23, 95, 68\n",
            "\n",
            " Iteracion 9\n",
            "19, 7, 22.0, 21.0, 30, 23, 95, 68\n",
            "\n",
            " Iteracion 10\n",
            "19, 22.5, 22.0, 21.0, 30, 23, 95, 68\n",
            "\n",
            " Iteracion 11\n",
            "19, 22.5, 22.0, 21.0, 30, 23, 95, 22.75\n",
            "\n",
            " Iteracion 12\n",
            "19, 22.5, 22.0, 21.0, 30, 23, 95, 22.75\n",
            "\n",
            " Iteracion 13\n",
            "19, 22.5, 22.0, 21.0, 30, 23, 95, 22.75\n",
            "\n",
            " Iteracion 14\n",
            "19, 22.5, 22.0, 21.0, 22.75, 23, 95, 22.625\n",
            "\n",
            " Iteracion 15\n",
            "19, 22.5, 22.0, 21.0, 22.75, 23, 95, 22.625\n",
            "\n",
            " Iteracion 16\n",
            "19, 22.5, 22.0, 21.0, 22.75, 22.625, 95, 22.5625\n",
            "# comparaciones:  16\n"
          ]
        }
      ]
    },
    {
      "cell_type": "markdown",
      "source": [
        "#3. Tiempo de ejecucion\n",
        "\n",
        "---"
      ],
      "metadata": {
        "id": "lcckZVKeecku"
      }
    },
    {
      "cell_type": "markdown",
      "source": [
        "### **Teorema (Tiempo de ejecución).**\n",
        "\n",
        "*El algoritmo **QuickSort** tiene un **tiempo de ejecución de** $\\Theta(n^2)$ en el peor caso.*\n",
        "\n",
        "*Aunque  tiene un **tiempo de ejecución de** $\\Theta(n \\log n)$ en el caso promedio.*\n",
        "## Prueba del teorema\n",
        "\n",
        "Observando el código, podemos apreciar que el **peor caso** ocurre cuando el **mayor elemento** se encuentra al final del arreglo y este es el pivote o cuando el **menor elemento** se encuentra en el inicio y este es el pivote. Ya que al hacer las comparaciones tendra que ir uno por uno comparando dejando a todos en las mismas posiciones en las que ya se encontraban originalmente. "
      ],
      "metadata": {
        "id": "yQJEjbpWuMJi"
      }
    },
    {
      "cell_type": "markdown",
      "source": [
        "###Ejemplo"
      ],
      "metadata": {
        "id": "-dAqfBS5gIB5"
      }
    },
    {
      "cell_type": "code",
      "source": [
        "#Caso donde el pivote es el mayor elemento\n",
        "\n",
        "a =[4,1,3,5]\n",
        "print(\"Entrada no ordenada:\",a)\n",
        "h= len(a) - 1\n",
        "t= quicksort(a, 0, h, 0, True)\n",
        "print(\"Salida ordenada:\",a)\n",
        "print(\"Total de comparaciones realizadas:\",t)"
      ],
      "metadata": {
        "colab": {
          "base_uri": "https://localhost:8080/"
        },
        "id": "f2cu3CNufjAN",
        "outputId": "be52e13f-1555-4054-abe5-e67649b04c54"
      },
      "execution_count": 63,
      "outputs": [
        {
          "output_type": "stream",
          "name": "stdout",
          "text": [
            "Entrada no ordenada: [4, 1, 3, 5]\n",
            "\n",
            " Iteracion 1\n",
            "4, 1, 3, 5\n",
            "\n",
            " Iteracion 2\n",
            "4, 1, 3, 5\n",
            "\n",
            " Iteracion 3\n",
            "4, 1, 3, 5\n",
            "\n",
            " Iteracion 4\n",
            "4, 1, 3, 5\n",
            "\n",
            " Iteracion 5\n",
            "1, 4, 3, 5\n",
            "Salida ordenada: [1, 3, 4, 5]\n",
            "Total de comparaciones realizadas: 5\n"
          ]
        }
      ]
    },
    {
      "cell_type": "code",
      "source": [
        "#Caso donde el pivote es el menor elemento\n",
        "\n",
        "a =[1,4,3,5]\n",
        "print(\"Entrada no ordenada:\",a)\n",
        "h= len(a) - 1\n",
        "t= quick_sort(a, 0, h, 0, True)\n",
        "print(\"Salida ordenada:\",a)\n",
        "print(\"Total de comparaciones realizadas:\",t)"
      ],
      "metadata": {
        "colab": {
          "base_uri": "https://localhost:8080/"
        },
        "id": "sWlcFchyxaVO",
        "outputId": "58af27da-f7b0-4cc2-d928-eef627f8e860"
      },
      "execution_count": 65,
      "outputs": [
        {
          "output_type": "stream",
          "name": "stdout",
          "text": [
            "Entrada no ordenada: [1, 4, 3, 5]\n",
            "\n",
            " Iteracion 1\n",
            "1, 4, 3, 5\n",
            "\n",
            " Iteracion 2\n",
            "1, 4, 3, 5\n",
            "\n",
            " Iteracion 3\n",
            "1, 3, 4, 5\n",
            "\n",
            " Iteracion 4\n",
            "1, 3, 4, 5\n",
            "Salida ordenada: [1, 3, 4, 5]\n",
            "Total de comparaciones realizadas: 4\n"
          ]
        }
      ]
    },
    {
      "cell_type": "code",
      "source": [
        "#Mejor caso (EXTRA)\n",
        "a = random.sample(range(1, 100), 1)\n",
        "h= len(a) - 1\n",
        "t= quicksort(a, 0, h, 0)\n",
        "print(\"Arreglo de uno:\",a)\n",
        "print(\"Iteraciones:\",t)  "
      ],
      "metadata": {
        "colab": {
          "base_uri": "https://localhost:8080/"
        },
        "id": "xySjQqkizVb5",
        "outputId": "08c965f6-5750-4c54-935e-6568495dead5"
      },
      "execution_count": 71,
      "outputs": [
        {
          "output_type": "stream",
          "name": "stdout",
          "text": [
            "Arreglo de uno: [24]\n",
            "Iteraciones: 0\n"
          ]
        }
      ]
    },
    {
      "cell_type": "markdown",
      "source": [
        "#4. Correctitud\n",
        "\n",
        "---"
      ],
      "metadata": {
        "id": "mkHYnzzfgRgh"
      }
    },
    {
      "cell_type": "markdown",
      "source": [
        "### **Teorema (Correctitud).**\n",
        "\n",
        "*El algoritmo **QuickSort** genera un arreglo: $[a_1',a_2',...,a_n']$, con los mismos elementos del arreglo de entrada ordenados de menor a mayor, es decir,* $a_1'\\leq a_2' \\leq... \\leq a_n'$.\n",
        "\n",
        "## Prueba del Teorema\n",
        "\n",
        "**Inicialización**\n",
        "\n",
        "Al inicio  se compara el pivote \"x\" con el primer valor, si este es menor que el privote o igual a este se ubica en el sub-problema izquierdo \"i\", si este este valor es mayor que el pivote se ubivara en el lado derecho donde esta el otro sub-problema \"j\" dejando definidas las divisiones.\n",
        "\n",
        "**Mantención**\n",
        "\n",
        " En cada iteracion se compara  el pivote con el valor `[j + 1]`, si este es mayor se ubica en la derecha por lo que se sigue manteniendo la propiedad, si se compara y es menor o igual se ubicara en el lado izquierdo por lo que en este caso tambien se mantendria la propiedad, luego de esto se pasa al siguiente valor sin comparar `[j + 1]` repitiendo lo anterior. \n",
        " \n",
        "![image](https://i.imgur.com/jKFzCpe.jpg)\n",
        "\n",
        "**Correctitud**\n",
        "\n",
        "Finalmente, llamando de forma recursivamente este paso a paso se logra obtener un arreglo final donde el pivote se ubica entre los dos sub-arreglos donde los valores menores estana la izquierda de \"x\" y los meyores a la derecha de \"x\". "
      ],
      "metadata": {
        "id": "lb-L5HOdz6q5"
      }
    },
    {
      "cell_type": "markdown",
      "source": [
        "#5. Experimentos\n",
        "\n",
        "---"
      ],
      "metadata": {
        "id": "fHPf3jiogaYs"
      }
    },
    {
      "cell_type": "markdown",
      "source": [
        "##5.1 Número de comparaciones\n",
        "\n",
        "---\n",
        "A continuacion se puede visualizar un grafico donde se compara un caso experimental cualquiera del algoritmo **QuickSort**, con su caso promedio y peor caso."
      ],
      "metadata": {
        "id": "tpZ3IlQogoDG"
      }
    },
    {
      "cell_type": "code",
      "source": [
        "import matplotlib.pyplot as plt\n",
        "from math import log\n",
        "\n",
        "x=[n for n in range(5,100)]\n",
        "\n",
        "y_best = []\n",
        "y_promedio= [n*log(n) for n in range(5,100)]\n",
        "y_peor=[n*(n-1)/2 for n in range(5,100)]\n",
        "\n",
        "for n in range(5,100):\n",
        "  a = random.sample(range(1, 100), n)\n",
        "  h= len(a) - 1\n",
        "  t= quicksort(a, 0, h, 0) \n",
        "  y_best.append(t)\n",
        "\n",
        "plt.plot(x,y_best)\n",
        "plt.plot(x,y_promedio)\n",
        "plt.plot(x,y_peor)\n",
        "plt.legend([\"Experimental\", \"Promedio\",\"Peor\"])\n",
        "\n",
        "plt.xlabel('n')\n",
        "plt.ylabel('Número de operaciones')\n",
        "plt.show()\n"
      ],
      "metadata": {
        "colab": {
          "base_uri": "https://localhost:8080/",
          "height": 280
        },
        "id": "aJg3ooceNMS7",
        "outputId": "8030741b-a3f0-4e95-a2bf-257bd586b607"
      },
      "execution_count": null,
      "outputs": [
        {
          "output_type": "display_data",
          "data": {
            "text/plain": [
              "<Figure size 432x288 with 1 Axes>"
            ],
            "image/png": "[encoded data removed]"
          },
          "metadata": {
            "needs_background": "light"
          }
        }
      ]
    },
    {
      "cell_type": "markdown",
      "source": [
        "### Análisis de resultados\n",
        "\n",
        "Se logra visualizar la gran diferencia que existe con el peor caso y el promedio, donde se puede ver que el caso experimental roza y se encuentra en mejor sintonia con los casos promedios afirmando que es algo reiterativo, haciendo mas fideligno el promedio."
      ],
      "metadata": {
        "id": "09BZkniSI7lZ"
      }
    },
    {
      "cell_type": "markdown",
      "source": [
        "## 5.2. Tiempo de ejecución (experimental)\n",
        "\n",
        "---\n",
        "En el siguiente gráfico se reporta el tiempo de ejecución del algoritmo **QuickSort** en función del tamaño del problema para arreglos generados aleatoriamente de tamaños entre $5$ y $500$."
      ],
      "metadata": {
        "id": "2qmv2YkjhEbx"
      }
    },
    {
      "cell_type": "code",
      "source": [
        "import matplotlib.pyplot as plt\n",
        "import datetime\n",
        "from timeit import repeat\n",
        "\n",
        "x=[]; y=[]\n",
        "\n",
        "for n in range(5,500):\n",
        "\n",
        "  a = random.sample(range(1, 1000), n)\n",
        "  h= len(a) - 1\n",
        "  t = repeat(setup=\"from __main__ import quicksort\", stmt=f\"quicksort{a, 0, h, 0}\", repeat=1, number=10)\n",
        "\n",
        "  x.append(n)\n",
        "  y.append(t)\n",
        "\n",
        "\n",
        "plt.plot(x,y)\n",
        "plt.legend([\"QuickSort\"])\n",
        "\n",
        "plt.xlabel('n')\n",
        "plt.ylabel('time in ms')\n",
        "plt.show()"
      ],
      "metadata": {
        "colab": {
          "base_uri": "https://localhost:8080/",
          "height": 279
        },
        "id": "8SW3bRVmhVIF",
        "outputId": "e9f6dec5-0ad1-498e-96c8-62fb35105e35"
      },
      "execution_count": null,
      "outputs": [
        {
          "output_type": "display_data",
          "data": {
            "text/plain": [
              "<Figure size 432x288 with 1 Axes>"
            ],
            "image/png": "[encoded data removed]"
          },
          "metadata": {
            "needs_background": "light"
          }
        }
      ]
    },
    {
      "cell_type": "markdown",
      "source": [
        "### Análisis de resultados\n",
        "\n",
        "Se logra visualizar picks dentro del grafico a la hora de ver el tiempo de ejecucion logrando ver que entre los intervalos del 200 y 300 hay un aumento considerable de dicho tiempo."
      ],
      "metadata": {
        "id": "bqedLd-oJZHU"
      }
    },
    {
      "cell_type": "markdown",
      "source": [
        "##5.3 Rendimiendo con modificacion de pivote\n",
        "\n",
        "---"
      ],
      "metadata": {
        "id": "W8qde1IpJxbd"
      }
    },
    {
      "cell_type": "code",
      "source": [
        "import matplotlib.pyplot as plt\n",
        "\n",
        "x=[n for n in range(5,100)]\n",
        "\n",
        "y_iz = []\n",
        "y_der= []\n",
        "y_media=[]\n",
        "\n",
        "for n in range(5,100):\n",
        "  a = random.sample(range(1, 100), n)\n",
        "  h= len(a) - 1\n",
        "  t= quicksort(a, 0, h, 0) \n",
        "  y_der.append(t)\n",
        "\n",
        "for n in range(5,100):\n",
        "  a = random.sample(range(1, 100), n)\n",
        "  h= len(a) - 1\n",
        "  t= quick_sort(a, 0, h, 0) \n",
        "  y_iz.append(t)\n",
        "\n",
        "for n in range(5,100):\n",
        "  a = random.sample(range(1, 100), n)\n",
        "  h= len(a) - 1\n",
        "  t= Quick_sort(a, 0, h, 0) \n",
        "  y_media.append(t)\n",
        "\n",
        "plt.plot(x,y_der)\n",
        "plt.plot(x,y_iz)\n",
        "plt.plot(x,y_media)\n",
        "plt.legend([\"Derecha\", \"Izquierda\",\"Media\"])\n",
        "\n",
        "plt.xlabel('n')\n",
        "plt.ylabel('Rendimiento')\n",
        "plt.show()"
      ],
      "metadata": {
        "colab": {
          "base_uri": "https://localhost:8080/",
          "height": 279
        },
        "id": "gRtXnrkXKon6",
        "outputId": "e04a3ba9-e2b1-41af-e933-0eafbe2bd269"
      },
      "execution_count": 72,
      "outputs": [
        {
          "output_type": "display_data",
          "data": {
            "text/plain": [
              "<Figure size 432x288 with 1 Axes>"
            ],
            "image/png": "[encoded data removed]"
          },
          "metadata": {
            "needs_background": "light"
          }
        }
      ]
    },
    {
      "cell_type": "markdown",
      "source": [
        "### Análisis de resultados\n",
        "\n",
        "Se logra visualizar una cercania y una varianza menor entre las comparaciones de los algoritmos con el pivote como primer elemento (izquierda) y con el algoritmo donde el pivote es el ultimo elemento (derecha) dejandonos entender que a pesar que sean similares la mejor opcion es ubicar el pivote como ultimo elemento"
      ],
      "metadata": {
        "id": "H9b2j-SOLjK-"
      }
    }
  ]
}
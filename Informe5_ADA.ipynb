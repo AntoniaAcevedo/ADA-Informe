{
  "nbformat": 4,
  "nbformat_minor": 0,
  "metadata": {
    "colab": {
      "provenance": [],
      "collapsed_sections": [],
      "authorship_tag": "ABX9TyPBcbcPiy/T+BdxvgKK+9IN",
      "include_colab_link": true
    },
    "kernelspec": {
      "name": "python3",
      "display_name": "Python 3"
    },
    "language_info": {
      "name": "python"
    }
  },
  "cells": [
    {
      "cell_type": "markdown",
      "metadata": {
        "id": "view-in-github",
        "colab_type": "text"
      },
      "source": [
        "<a href=\"https://colab.research.google.com/github/AntoniaAcevedo/ADA-Informe/blob/main/Informe5_ADA.ipynb\" target=\"_parent\"><img src=\"https://colab.research.google.com/assets/colab-badge.svg\" alt=\"Open In Colab\"/></a>"
      ]
    },
    {
      "cell_type": "markdown",
      "source": [
        "# 1. Problema de ordenamiento\n",
        "\n",
        "**Entrada**: Secuencia de n números $[a_1,a_2,...,a_n]$\n",
        "\n",
        "**Salida**: Permutación ordenada de la secuencia de entrada: $[a_1',a_2',...,a_n']$, de tal manera que $a_1'\\leq a_2' \\leq... \\leq a_n'$.\n",
        " \n",
        "![image](https://i.imgur.com/WrKPuDz.jpg)"
      ],
      "metadata": {
        "id": "EQSoWPJ_gRDr"
      }
    },
    {
      "cell_type": "markdown",
      "source": [
        "#2. RadixSort\n",
        "\n",
        "---\n",
        "En los siguientes códigos se mostraran tres casos del algoritmo **RadixSort**."
      ],
      "metadata": {
        "id": "ziCH_d0S2hhp"
      }
    },
    {
      "cell_type": "markdown",
      "source": [
        "##2.1 Codigo\n",
        "\n",
        "---"
      ],
      "metadata": {
        "id": "u7ob_u6H2ttX"
      }
    },
    {
      "cell_type": "code",
      "execution_count": 1,
      "metadata": {
        "colab": {
          "base_uri": "https://localhost:8080/"
        },
        "id": "roetfxvkaoo_",
        "outputId": "8a0c5cc9-7e92-4c31-957f-50ad2d9991c8"
      },
      "outputs": [
        {
          "output_type": "stream",
          "name": "stdout",
          "text": [
            "Entrada:  [121, 432, 564, 237, 154, 456, 788]\n",
            "Salida:  [121, 154, 237, 432, 456, 564, 788]\n",
            "# comparaciones:  21\n"
          ]
        }
      ],
      "source": [
        "def countingSort(A, pos, t, verbose = False):\n",
        "    l = len(A)\n",
        "    salida = [0] * l\n",
        "    cont = [0] * 10\n",
        "    #se calcula el cont de elementos (conteo de elementos)\n",
        "    for i in range(0, l):\n",
        "        ind = A[i] // pos\n",
        "        cont[ind % 10] += 1\n",
        "    #se calcula el recuento acumulativo \n",
        "    for i in range(1, 10):\n",
        "        cont[i] += cont[i - 1]\n",
        "    #se ordenan los elementos\n",
        "    i = l - 1\n",
        "    while i >= 0:\n",
        "        t+=1\n",
        "        if verbose:\n",
        "          print(\"\\n Iteracion\",t)\n",
        "          print(str(A)[1:-1])\n",
        "        ind = A[i] // pos\n",
        "        salida[cont[ind % 10] - 1] = A[i]\n",
        "        cont[ind % 10] -= 1\n",
        "        i -= 1\n",
        "    for i in range(0, l):\n",
        "        A[i] = salida[i]\n",
        "    return t\n",
        "\n",
        "\n",
        "def radixSort(A,t,verbose = False):\n",
        "    #saca el maximo elemento del array\n",
        "    max_element = max(A)\n",
        "    pos= 1\n",
        "    #se llama a coutingSort para clasificar elementos segun el valor de su posicion\n",
        "    while max_element // pos > 0:\n",
        "        t= countingSort(A, pos, t, verbose)\n",
        "        pos *= 10\n",
        "    return t\n",
        "\n",
        "# Ejemplo\n",
        "A= [121, 432, 564, 237, 154, 456, 788]\n",
        "print(\"Entrada: \",A)\n",
        "t= radixSort(A,0)\n",
        "print(\"Salida: \",A)\n",
        "print(\"# comparaciones: \",t)"
      ]
    },
    {
      "cell_type": "markdown",
      "source": [
        "##2.2 Descripcion del algoritmo\n",
        "\n",
        "---\n",
        "\n"
      ],
      "metadata": {
        "id": "VkCscwdy539b"
      }
    },
    {
      "cell_type": "markdown",
      "source": [
        "El algoritmo RadixSort en este caso esta considerada como digitos enteros. Con esto en mente, para ordenar las claves, este lo reubica por cada uno de sus digitos (filas dentro del digito original), de menor a mayor. Donde se encuentra la necesidad de tener una variable con el maximo de elementos a utilizar, mas adelante se hace un llamado a la funcion de CoutingSort el cual se utiliza para ordenar dichos digitos. \n",
        "\n",
        "En donde CountingSort necesita pasar por 4 pasos respectivamente comenzando por un \"for\" donde se calcula el conteo oficial de elementos continuando con otro \"for\" que se encarga de calcular el recuento acumulativo entre los contadores para luego seguir con un \"while\" que ordena los digitos ubicados en dicha fila correspondientemente en la cual esta iterando. Para finalizar con un \"for\" que almacena en el array los valores ya ordenados correctamente. \n",
        "\n",
        "Esto se repite sucesivamente hasta poder tener ordenar sucesivamente todas las filas mientras se va recorriendo los numeros del arreglo."
      ],
      "metadata": {
        "id": "h9N-_zEmW9Ff"
      }
    },
    {
      "cell_type": "markdown",
      "source": [
        "##2.3 Ejemplo \n",
        "\n",
        "---\n",
        "\n",
        "Consideremos, por ejemplo, el arreglo:\n",
        "\n",
        "$a=[445,132,546,305]$\n",
        "\n",
        "- En la primera pasada se compara la primera fila desde el lado derecho odenandolos de menor a mayor\n",
        "\n",
        "$a=[132,305,445,546]$\n",
        "\n",
        "- Luego, en la segunda pasada se avanza una fila a la izquierda ordenandolos de menor a mayor.\n",
        "\n",
        "$a=[305,132,445,546]$\n",
        "\n",
        "- Luego, en la tercera pasada se avanza a la ultima fila en este caso, si hay mas filas se repetiria constantemente hasta completar todas las filas existentes, para asi ordenar de menor a mayor.\n",
        "\n",
        "$a=[132,305,445,546]$\n",
        "\n",
        "Y ya tenemos el arreglo ordenado."
      ],
      "metadata": {
        "id": "uKKguKmp21Pt"
      }
    },
    {
      "cell_type": "markdown",
      "source": [
        "## 2.4. Ejecución del algoritmo paso a paso (`verbose=True`)\n",
        "\n",
        "---\n",
        "Usando la opción `verbose=True`, podemos ver lo que ocurre en cada iteración del algoritmo."
      ],
      "metadata": {
        "id": "ihO2Vh842bLA"
      }
    },
    {
      "cell_type": "code",
      "source": [
        "import random\n",
        "\n",
        "a = random.sample(range(100, 1000), 8)\n",
        "print(\"ENTRADA: \",a)\n",
        "t= radixSort(a, 0, True)\n",
        "print(\"# comparaciones: \", t)"
      ],
      "metadata": {
        "colab": {
          "base_uri": "https://localhost:8080/"
        },
        "id": "dJ6xJkgt150v",
        "outputId": "3ada6cfe-68a7-423e-c377-deb472675bcd"
      },
      "execution_count": 2,
      "outputs": [
        {
          "output_type": "stream",
          "name": "stdout",
          "text": [
            "ENTRADA:  [389, 541, 951, 452, 157, 263, 848, 741]\n",
            "\n",
            " Iteracion 1\n",
            "389, 541, 951, 452, 157, 263, 848, 741\n",
            "\n",
            " Iteracion 2\n",
            "389, 541, 951, 452, 157, 263, 848, 741\n",
            "\n",
            " Iteracion 3\n",
            "389, 541, 951, 452, 157, 263, 848, 741\n",
            "\n",
            " Iteracion 4\n",
            "389, 541, 951, 452, 157, 263, 848, 741\n",
            "\n",
            " Iteracion 5\n",
            "389, 541, 951, 452, 157, 263, 848, 741\n",
            "\n",
            " Iteracion 6\n",
            "389, 541, 951, 452, 157, 263, 848, 741\n",
            "\n",
            " Iteracion 7\n",
            "389, 541, 951, 452, 157, 263, 848, 741\n",
            "\n",
            " Iteracion 8\n",
            "389, 541, 951, 452, 157, 263, 848, 741\n",
            "\n",
            " Iteracion 9\n",
            "541, 951, 741, 452, 263, 157, 848, 389\n",
            "\n",
            " Iteracion 10\n",
            "541, 951, 741, 452, 263, 157, 848, 389\n",
            "\n",
            " Iteracion 11\n",
            "541, 951, 741, 452, 263, 157, 848, 389\n",
            "\n",
            " Iteracion 12\n",
            "541, 951, 741, 452, 263, 157, 848, 389\n",
            "\n",
            " Iteracion 13\n",
            "541, 951, 741, 452, 263, 157, 848, 389\n",
            "\n",
            " Iteracion 14\n",
            "541, 951, 741, 452, 263, 157, 848, 389\n",
            "\n",
            " Iteracion 15\n",
            "541, 951, 741, 452, 263, 157, 848, 389\n",
            "\n",
            " Iteracion 16\n",
            "541, 951, 741, 452, 263, 157, 848, 389\n",
            "\n",
            " Iteracion 17\n",
            "541, 741, 848, 951, 452, 157, 263, 389\n",
            "\n",
            " Iteracion 18\n",
            "541, 741, 848, 951, 452, 157, 263, 389\n",
            "\n",
            " Iteracion 19\n",
            "541, 741, 848, 951, 452, 157, 263, 389\n",
            "\n",
            " Iteracion 20\n",
            "541, 741, 848, 951, 452, 157, 263, 389\n",
            "\n",
            " Iteracion 21\n",
            "541, 741, 848, 951, 452, 157, 263, 389\n",
            "\n",
            " Iteracion 22\n",
            "541, 741, 848, 951, 452, 157, 263, 389\n",
            "\n",
            " Iteracion 23\n",
            "541, 741, 848, 951, 452, 157, 263, 389\n",
            "\n",
            " Iteracion 24\n",
            "541, 741, 848, 951, 452, 157, 263, 389\n",
            "# comparaciones:  24\n"
          ]
        }
      ]
    },
    {
      "cell_type": "markdown",
      "source": [
        "#3. Tiempo de ejecucion\n",
        "\n",
        "---"
      ],
      "metadata": {
        "id": "HJUKr4ga5jG_"
      }
    },
    {
      "cell_type": "markdown",
      "source": [
        "### **Teorema (Tiempo de ejecución).**\n",
        "\n",
        "*El algoritmo **RadixSort** tiene un **tiempo de ejecución de** $O(n^2)$ en el peor caso.*\n",
        "\n",
        "*Aunque  tiene un **tiempo de ejecución de** $O(n)$ en el caso promedio.*\n",
        "## Prueba del teorema\n",
        "\n",
        "Observando el código, podemos apreciar que el **peor caso** ocurre cuando un elemento de la lista de tamaño $n$ contiene $n$ digitos."
      ],
      "metadata": {
        "id": "FEJrv2ZT4Nxz"
      }
    },
    {
      "cell_type": "markdown",
      "source": [
        "###Ejemplo"
      ],
      "metadata": {
        "id": "N2w-NsCGZTnX"
      }
    },
    {
      "cell_type": "code",
      "source": [
        "a = [965,159,734,258]\n",
        "print(\"ENTRADA: \",a)\n",
        "t= radixSort(a, 0, True)\n",
        "print(\"# comparaciones: \", t)"
      ],
      "metadata": {
        "colab": {
          "base_uri": "https://localhost:8080/"
        },
        "id": "cJ9bT-6mZSHB",
        "outputId": "97642182-3fdf-4c07-d5a3-3699f62af86e"
      },
      "execution_count": 68,
      "outputs": [
        {
          "output_type": "stream",
          "name": "stdout",
          "text": [
            "ENTRADA:  [965, 159, 734, 258]\n",
            "\n",
            " Iteracion 1\n",
            "965, 159, 734, 258\n",
            "\n",
            " Iteracion 2\n",
            "965, 159, 734, 258\n",
            "\n",
            " Iteracion 3\n",
            "965, 159, 734, 258\n",
            "\n",
            " Iteracion 4\n",
            "965, 159, 734, 258\n",
            "\n",
            " Iteracion 5\n",
            "734, 965, 258, 159\n",
            "\n",
            " Iteracion 6\n",
            "734, 965, 258, 159\n",
            "\n",
            " Iteracion 7\n",
            "734, 965, 258, 159\n",
            "\n",
            " Iteracion 8\n",
            "734, 965, 258, 159\n",
            "\n",
            " Iteracion 9\n",
            "734, 258, 159, 965\n",
            "\n",
            " Iteracion 10\n",
            "734, 258, 159, 965\n",
            "\n",
            " Iteracion 11\n",
            "734, 258, 159, 965\n",
            "\n",
            " Iteracion 12\n",
            "734, 258, 159, 965\n",
            "# comparaciones:  12\n"
          ]
        }
      ]
    },
    {
      "cell_type": "code",
      "source": [
        "#Ejemplo de peor caso (EXTRA)\n",
        "\n",
        "a = [965,159,734,255686664]\n",
        "print(\"ENTRADA: \",a)\n",
        "t= radixSort(a, 0, True)\n",
        "print(\"# comparaciones: \", t)"
      ],
      "metadata": {
        "colab": {
          "base_uri": "https://localhost:8080/"
        },
        "id": "D8bD4oRVZ7Bf",
        "outputId": "ab7f4d54-18ea-4cd0-8b80-0ffc93b06aed"
      },
      "execution_count": 70,
      "outputs": [
        {
          "output_type": "stream",
          "name": "stdout",
          "text": [
            "ENTRADA:  [965, 159, 734, 255686664]\n",
            "\n",
            " Iteracion 1\n",
            "965, 159, 734, 255686664\n",
            "\n",
            " Iteracion 2\n",
            "965, 159, 734, 255686664\n",
            "\n",
            " Iteracion 3\n",
            "965, 159, 734, 255686664\n",
            "\n",
            " Iteracion 4\n",
            "965, 159, 734, 255686664\n",
            "\n",
            " Iteracion 5\n",
            "734, 255686664, 965, 159\n",
            "\n",
            " Iteracion 6\n",
            "734, 255686664, 965, 159\n",
            "\n",
            " Iteracion 7\n",
            "734, 255686664, 965, 159\n",
            "\n",
            " Iteracion 8\n",
            "734, 255686664, 965, 159\n",
            "\n",
            " Iteracion 9\n",
            "734, 159, 255686664, 965\n",
            "\n",
            " Iteracion 10\n",
            "734, 159, 255686664, 965\n",
            "\n",
            " Iteracion 11\n",
            "734, 159, 255686664, 965\n",
            "\n",
            " Iteracion 12\n",
            "734, 159, 255686664, 965\n",
            "\n",
            " Iteracion 13\n",
            "159, 255686664, 734, 965\n",
            "\n",
            " Iteracion 14\n",
            "159, 255686664, 734, 965\n",
            "\n",
            " Iteracion 15\n",
            "159, 255686664, 734, 965\n",
            "\n",
            " Iteracion 16\n",
            "159, 255686664, 734, 965\n",
            "\n",
            " Iteracion 17\n",
            "159, 734, 965, 255686664\n",
            "\n",
            " Iteracion 18\n",
            "159, 734, 965, 255686664\n",
            "\n",
            " Iteracion 19\n",
            "159, 734, 965, 255686664\n",
            "\n",
            " Iteracion 20\n",
            "159, 734, 965, 255686664\n",
            "\n",
            " Iteracion 21\n",
            "159, 734, 965, 255686664\n",
            "\n",
            " Iteracion 22\n",
            "159, 734, 965, 255686664\n",
            "\n",
            " Iteracion 23\n",
            "159, 734, 965, 255686664\n",
            "\n",
            " Iteracion 24\n",
            "159, 734, 965, 255686664\n",
            "\n",
            " Iteracion 25\n",
            "159, 734, 965, 255686664\n",
            "\n",
            " Iteracion 26\n",
            "159, 734, 965, 255686664\n",
            "\n",
            " Iteracion 27\n",
            "159, 734, 965, 255686664\n",
            "\n",
            " Iteracion 28\n",
            "159, 734, 965, 255686664\n",
            "\n",
            " Iteracion 29\n",
            "159, 734, 965, 255686664\n",
            "\n",
            " Iteracion 30\n",
            "159, 734, 965, 255686664\n",
            "\n",
            " Iteracion 31\n",
            "159, 734, 965, 255686664\n",
            "\n",
            " Iteracion 32\n",
            "159, 734, 965, 255686664\n",
            "\n",
            " Iteracion 33\n",
            "159, 734, 965, 255686664\n",
            "\n",
            " Iteracion 34\n",
            "159, 734, 965, 255686664\n",
            "\n",
            " Iteracion 35\n",
            "159, 734, 965, 255686664\n",
            "\n",
            " Iteracion 36\n",
            "159, 734, 965, 255686664\n",
            "# comparaciones:  36\n"
          ]
        }
      ]
    },
    {
      "cell_type": "markdown",
      "source": [
        "#4. Correctitud\n",
        "\n",
        "---"
      ],
      "metadata": {
        "id": "M8HvD18b6VoJ"
      }
    },
    {
      "cell_type": "markdown",
      "source": [
        "### **Teorema (Correctitud).**\n",
        "\n",
        "*El algoritmo **RadixSort** genera un arreglo: $[a_1',a_2',...,a_n']$, con los mismos elementos del arreglo de entrada ordenados de menor a mayor, es decir,* $a_1'\\leq a_2' \\leq... \\leq a_n'$.\n",
        "\n",
        "## Prueba del Teorema\n",
        "\n",
        "**Inicialización**"
      ],
      "metadata": {
        "id": "FBWJ3RBj6XHn"
      }
    },
    {
      "cell_type": "markdown",
      "source": [
        "#5. Experimentos\n",
        "\n",
        "---"
      ],
      "metadata": {
        "id": "bJGUNQPQ6rbv"
      }
    },
    {
      "cell_type": "markdown",
      "source": [
        "##5.1 CountingSort y BucketSort\n",
        "\n",
        "---\n",
        "En el siguiente gráfico se visualiza la diferencia que existe en el **tiempo de ejecución** entre el algoritmo **CountingSort** y **BucketSort** en función del tamaño del problema para arreglos generados aleatoriamente de tamaños entre $5$ y $500$.\n",
        "\n"
      ],
      "metadata": {
        "id": "f-pwM0KD85a-"
      }
    },
    {
      "cell_type": "code",
      "source": [
        "#BucketSort\n",
        "def insertionSort(b):\n",
        "    for i in range(1, len(b)):\n",
        "        up = b[i]\n",
        "        j = i - 1\n",
        "        while j >= 0 and b[j] > up: \n",
        "            b[j + 1] = b[j]\n",
        "            j -= 1\n",
        "        b[j + 1] = up     \n",
        "    return b     \n",
        "              \n",
        "def bucketSort(x):\n",
        "    for i in range(len(x)):\n",
        "      x[i]= x[i] / 10000\n",
        "    arr = []\n",
        "    slot_num = 10 \n",
        "    for i in range(slot_num):\n",
        "        arr.append([])\n",
        "    for j in x:\n",
        "        index_b = int(slot_num * j) \n",
        "        arr[index_b].append(j)\n",
        "    for i in range(slot_num):\n",
        "        arr[i] = insertionSort(arr[i])\n",
        "    k = 0\n",
        "    for i in range(slot_num):\n",
        "        for j in range(len(arr[i])):\n",
        "            x[k] = arr[i][j]\n",
        "            k += 1\n",
        "    return x\n"
      ],
      "metadata": {
        "id": "BZZPWsaO9s3s"
      },
      "execution_count": 41,
      "outputs": []
    },
    {
      "cell_type": "code",
      "source": [
        "import matplotlib.pyplot as plt\n",
        "import datetime\n",
        "from timeit import repeat\n",
        "\n",
        "x=[]; y=[]\n",
        "\n",
        "for n in range(5,500):\n",
        "\n",
        "  a = random.sample(range(1, 1000), n)\n",
        "  P = repeat(setup=\"from __main__ import bucketSort , insertionSort\", stmt=f\"bucketSort({a})\", repeat=1, number=10)\n",
        "\n",
        "  x.append(n)\n",
        "  y.append(P)\n",
        "\n",
        "x2=[]; y2=[]\n",
        "\n",
        "for n2 in range(5,500):\n",
        "\n",
        "  a2 = random.sample(range(1, 1000), n2)\n",
        "  pos = 1\n",
        "  P2 = repeat(setup=\"from __main__ import countingSort\", stmt=f\"t= countingSort({a2},{pos}, {0})\", repeat=1, number=10)\n",
        "\n",
        "  x2.append(n2)\n",
        "  y2.append(P2)\n",
        "\n",
        "\n",
        "plt.plot(x,y)\n",
        "plt.plot(x2,y2)\n",
        "plt.legend([\"CountingSort\",\"BucketSort\"])\n",
        "\n",
        "plt.xlabel('n')\n",
        "plt.ylabel('time in ms')\n",
        "plt.show()"
      ],
      "metadata": {
        "colab": {
          "base_uri": "https://localhost:8080/",
          "height": 279
        },
        "id": "_71goVim_mTf",
        "outputId": "70e38d35-cdeb-4b64-abb9-219e10497144"
      },
      "execution_count": 64,
      "outputs": [
        {
          "output_type": "display_data",
          "data": {
            "text/plain": [
              "<Figure size 432x288 with 1 Axes>"
            ],
            "image/png": "[encoded data removed]"
          },
          "metadata": {
            "needs_background": "light"
          }
        }
      ]
    },
    {
      "cell_type": "markdown",
      "source": [
        "### Análisis de resultados\n",
        "\n",
        "Se visualiza que en tiempo de ejecucion del algoritmo **BucketSort** es mas efectivo por diferencia ademas de ser mas constante que el algoritmo de **CountingSort**\n"
      ],
      "metadata": {
        "id": "EMJIIOrWQAxK"
      }
    },
    {
      "cell_type": "markdown",
      "source": [
        "## 5.2. RadixSort y BucketSort\n",
        "\n",
        "---\n",
        "En el siguiente gráfico se reporta el tiempo de ejecución del algoritmo **RadixSort** y **BucketSort** en función del tamaño del problema para arreglos generados aleatoriamente de tamaños entre $5$ y $500$."
      ],
      "metadata": {
        "id": "kxlm3uAB7IdG"
      }
    },
    {
      "cell_type": "code",
      "source": [
        "import matplotlib.pyplot as plt\n",
        "import datetime\n",
        "from timeit import repeat\n",
        "\n",
        "x=[]; y=[]\n",
        "\n",
        "for n in range(5,500):\n",
        "\n",
        "  a = random.sample(range(1, 1000), n)\n",
        "  t = repeat(setup=\"from __main__ import radixSort\", stmt=f\"radixSort{a, 0}\", repeat=1, number=10)\n",
        "\n",
        "  x.append(n)\n",
        "  y.append(t)\n",
        "\n",
        "x2=[]; y2=[]\n",
        "\n",
        "for n2 in range(5,500):\n",
        "\n",
        "  a2 = random.sample(range(1, 1000), n2)\n",
        "  P2 = repeat(setup=\"from __main__ import bucketSort , insertionSort\", stmt=f\"bucketSort({a2})\", repeat=1, number=10)\n",
        "\n",
        "  x2.append(n2)\n",
        "  y2.append(P2)\n",
        "\n",
        "plt.plot(x,y)\n",
        "plt.plot(x2,y2)\n",
        "plt.legend([\"RadixSort\",\"BucketSort\"])\n",
        "plt.xlabel('n')\n",
        "plt.ylabel('time in ms')\n",
        "plt.show()"
      ],
      "metadata": {
        "colab": {
          "base_uri": "https://localhost:8080/",
          "height": 279
        },
        "id": "rrtE4Lwm70Ik",
        "outputId": "83be264f-243e-4897-8ef7-873b28ca37ca"
      },
      "execution_count": 65,
      "outputs": [
        {
          "output_type": "display_data",
          "data": {
            "text/plain": [
              "<Figure size 432x288 with 1 Axes>"
            ],
            "image/png": "[encoded data removed]"
          },
          "metadata": {
            "needs_background": "light"
          }
        }
      ]
    },
    {
      "cell_type": "markdown",
      "source": [
        "### Análisis de resultados\n",
        "\n",
        "Se visualiza que en tiempo de ejecucion del algoritmo **RadixSort** es mas efectivo por diferencia ademas de ser mas constante que el algoritmo de **BucketSort**, aunque hay situaciones en las cuales el RadixSort logra igualar o superar al BucketSort en el intervalo entre el 0 y el 80 app."
      ],
      "metadata": {
        "id": "UcaJMgnEQsRP"
      }
    },
    {
      "cell_type": "markdown",
      "source": [
        "## 5.3. RadixSort y QuickSort\n",
        "\n",
        "---\n",
        "En el siguiente gráfico se reporta el tiempo de ejecución del algoritmo **RadixSort** y **QuickSort** en función del tamaño del problema para arreglos generados aleatoriamente de tamaños entre $5$ y $500$."
      ],
      "metadata": {
        "id": "p758RZfhLnRj"
      }
    },
    {
      "cell_type": "code",
      "source": [
        "#QuickSort\n",
        "\n",
        "def partition(array, low, high):\n",
        "  pivot = array[high]\n",
        "  i = low - 1\n",
        "  for j in range(low, high):\n",
        "    if array[j] <= pivot:\n",
        "      i = i + 1\n",
        "      (array[i], array[j]) = (array[j], array[i])\n",
        "  (array[i + 1], array[high]) = (array[high], array[i + 1])\n",
        "\n",
        "  return i + 1\n",
        "\n",
        "def quicksort(array, low, high):\n",
        "  if low < high:\n",
        "    pi= partition(array, low, high)\n",
        "    quicksort(array, low, pi - 1)\n",
        "    quicksort(array, pi + 1, high)"
      ],
      "metadata": {
        "id": "mUmF6JojNwdw"
      },
      "execution_count": 52,
      "outputs": []
    },
    {
      "cell_type": "code",
      "source": [
        "x=[]; y=[]\n",
        "\n",
        "for n in range(5,500):\n",
        "\n",
        "  a = random.sample(range(1, 1000), n)\n",
        "  t = repeat(setup=\"from __main__ import radixSort\", stmt=f\"radixSort{a, 0}\", repeat=1, number=10)\n",
        "\n",
        "  x.append(n)\n",
        "  y.append(t)\n",
        "\n",
        "x2=[]; y2=[]\n",
        "\n",
        "for n2 in range(5,500):\n",
        "\n",
        "  a2 = random.sample(range(1, 1000), n2)\n",
        "  h= len(a2) - 1\n",
        "  t2 = repeat(setup=\"from __main__ import quicksort\", stmt=f\"quicksort{a2, 0, h}\", repeat=1, number=10)\n",
        "\n",
        "  x2.append(n2)\n",
        "  y2.append(t2)\n",
        "\n",
        "plt.plot(x,y)\n",
        "plt.plot(x2,y2)\n",
        "plt.legend([\"RadixSort\", \"QuickSort\"])\n",
        "\n",
        "plt.xlabel('n')\n",
        "plt.ylabel('time in ms')\n",
        "plt.show()"
      ],
      "metadata": {
        "colab": {
          "base_uri": "https://localhost:8080/",
          "height": 279
        },
        "id": "IOMdUzjHOF_l",
        "outputId": "907371b1-3a25-4829-d058-bc90f3b63a24"
      },
      "execution_count": 66,
      "outputs": [
        {
          "output_type": "display_data",
          "data": {
            "text/plain": [
              "<Figure size 432x288 with 1 Axes>"
            ],
            "image/png": "[encoded data removed]"
          },
          "metadata": {
            "needs_background": "light"
          }
        }
      ]
    },
    {
      "cell_type": "markdown",
      "source": [
        "### Análisis de resultados\n",
        "\n",
        "Se visualiza que en tiempo de ejecucion del algoritmo **QuickSort** es mas efectivo por una diferencia minima  que el algoritmo de **RadixSort**."
      ],
      "metadata": {
        "id": "WuW2gnFhRgqG"
      }
    }
  ]
}
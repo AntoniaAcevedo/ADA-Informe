{
  "nbformat": 4,
  "nbformat_minor": 0,
  "metadata": {
    "colab": {
      "provenance": [],
      "authorship_tag": "ABX9TyOMkEoPw0Y9TBud7ABYP7x7",
      "include_colab_link": true
    },
    "kernelspec": {
      "name": "python3",
      "display_name": "Python 3"
    },
    "language_info": {
      "name": "python"
    }
  },
  "cells": [
    {
      "cell_type": "markdown",
      "metadata": {
        "id": "view-in-github",
        "colab_type": "text"
      },
      "source": [
        "<a href=\"https://colab.research.google.com/github/AntoniaAcevedo/ADA-Informe/blob/main/Informe6_ADA.ipynb\" target=\"_parent\"><img src=\"https://colab.research.google.com/assets/colab-badge.svg\" alt=\"Open In Colab\"/></a>"
      ]
    },
    {
      "cell_type": "markdown",
      "source": [
        "# 1. Problema de Selección\n",
        "\n",
        "---\n",
        "**Entrada**: Secuencia de n números $[a_1,a_2,...,a_n]$ junto con un indice i .\n",
        "\n",
        "**Salida**:  Elemento $x$ que pertenece a la *secuencia numerica de entrada*, el cual es mayor que $i - 1$ de la *secuencia numerica de entrada*\n",
        "\n",
        "\n",
        "![image](https://i.imgur.com/CspROPN.jpg)\n",
        "\n",
        "\n",
        "El estadístico de orden kº es igual al **k-ésimo** valor más pequeño de una muestra estadística. Junto con los estadísticos de rango, los estadísticos de orden son una de las herramientas fundamentales de la estadística no paramétrica y de inferencia, esto es el planteamiento principal de este problema de seleccion con la busqueda de dicho elemento $x$.\n",
        "\n",
        "Buscando el mínimo y el máximo valor de una muestra, la mediana y otros cuantiles de muestra. Lo cual describe los pasos a seguir dentro del algoritmo de **Select**"
      ],
      "metadata": {
        "id": "ymVErta2jj6-"
      }
    },
    {
      "cell_type": "markdown",
      "source": [
        "# 2. Select\n",
        "\n",
        "---\n",
        "El siguiente código muestra una implementación del algoritmo **Select**. En el cual se implementa los algoritmos de *InsertionSort*, ademas de la utilizacion de *Partition* y para terminar de complementar el algoritmo de *Pivot-Selection*."
      ],
      "metadata": {
        "id": "2eil-fKOxpEL"
      }
    },
    {
      "cell_type": "markdown",
      "source": [
        "##2.1 Codigo\n",
        "\n",
        "---"
      ],
      "metadata": {
        "id": "tn9mpu7T0V6U"
      }
    },
    {
      "cell_type": "code",
      "execution_count": null,
      "metadata": {
        "id": "pk7Nevb2jZ73"
      },
      "outputs": [],
      "source": [
        "def insertionSort(array):\n",
        "    for n in range(1, len(array)):\n",
        "        up = array[n]\n",
        "        j = n - 1\n",
        "        while j >= 0 and array[j] > up: \n",
        "            array[j + 1] = array[j]\n",
        "            j -= 1\n",
        "        array[j + 1] = up     \n",
        "    return array\n",
        "\n",
        "def PivotSelection (array, l):\n",
        "  for j in range(0, len(array), 5):\n",
        "    sublist = array[j:j+5]\n",
        "    sublist = insertionSort(sublist)\n",
        "  for sublist in sublist:\n",
        "    mediana = sorted(sublist)[len(sublist)/2]\n",
        "  if len(mediana) <= 5:\n",
        "    pivot = sorted(mediana)[len(mediana)/2]\n",
        "  else:\n",
        "    pivot = PivotSelection(mediana,len(mediana)/2)\n",
        "  for j in array:\n",
        "    if j < pivot:\n",
        "      low = j\n",
        "  for j in array:\n",
        "    if j > pivot:\n",
        "      high = j\n",
        "  k = len (low)\n",
        "  if l < k: return PivotSelection(low, l)\n",
        "  elif l > k: return PivotSelection(high, l-k-1)\n",
        "  else: return pivot\n",
        "\n",
        "def partition(array, low, high):\n",
        "  pivot = PivotSelection(array,len(array))\n",
        "  p = low - 1\n",
        "  for j in range(low, high):\n",
        "\n",
        "    if array[j] <= pivot:\n",
        "      p = p + 1\n",
        "      (array[i], array[j]) = (array[j], array[p])\n",
        "  (array[p + 1], array[high]) = (array[high], array[p + 1]) \n",
        "\n",
        "  return p + 1"
      ]
    },
    {
      "cell_type": "code",
      "source": [
        "def select(array, low, high, i):\n",
        "  if low == high: return array[low]\n",
        "  q= partition(array, low, high)\n",
        "  k= q - low + 1\n",
        "  if i == k: return array[q]\n",
        "  elif i < k: return select(array, low, q-1, i)\n",
        "  else: return select(array, q+1, high, i-k)\n",
        "\n",
        "\n",
        "# Ejemplo\n",
        "A = [3,2,9,0,7,5,4,8,6,1]\n",
        "i= A[5]\n",
        "print(\"Entrada: \",A)\n",
        "h= len(A)\n",
        "select(A, 0, h, i)\n",
        "print(\"Salida: \",A)\n",
        "#print(\"# comparaciones: \", counter)"
      ],
      "metadata": {
        "colab": {
          "base_uri": "https://localhost:8080/",
          "height": 397
        },
        "id": "JLdQ28CsnT5D",
        "outputId": "ba59e1d9-2bd0-4123-f88d-ea02cf0ba0e7"
      },
      "execution_count": null,
      "outputs": [
        {
          "output_type": "stream",
          "name": "stdout",
          "text": [
            "Entrada:  [3, 2, 9, 0, 7, 5, 4, 8, 6, 1]\n"
          ]
        },
        {
          "output_type": "error",
          "ename": "TypeError",
          "evalue": "ignored",
          "traceback": [
            "\u001b[0;31m---------------------------------------------------------------------------\u001b[0m",
            "\u001b[0;31mTypeError\u001b[0m                                 Traceback (most recent call last)",
            "\u001b[0;32m<ipython-input-2-7d364f49e502>\u001b[0m in \u001b[0;36m<module>\u001b[0;34m\u001b[0m\n\u001b[1;32m     13\u001b[0m \u001b[0mprint\u001b[0m\u001b[0;34m(\u001b[0m\u001b[0;34m\"Entrada: \"\u001b[0m\u001b[0;34m,\u001b[0m\u001b[0mA\u001b[0m\u001b[0;34m)\u001b[0m\u001b[0;34m\u001b[0m\u001b[0;34m\u001b[0m\u001b[0m\n\u001b[1;32m     14\u001b[0m \u001b[0mh\u001b[0m\u001b[0;34m=\u001b[0m \u001b[0mlen\u001b[0m\u001b[0;34m(\u001b[0m\u001b[0mA\u001b[0m\u001b[0;34m)\u001b[0m\u001b[0;34m\u001b[0m\u001b[0;34m\u001b[0m\u001b[0m\n\u001b[0;32m---> 15\u001b[0;31m \u001b[0mselect\u001b[0m\u001b[0;34m(\u001b[0m\u001b[0mA\u001b[0m\u001b[0;34m,\u001b[0m \u001b[0;36m0\u001b[0m\u001b[0;34m,\u001b[0m \u001b[0mh\u001b[0m\u001b[0;34m,\u001b[0m \u001b[0mi\u001b[0m\u001b[0;34m)\u001b[0m\u001b[0;34m\u001b[0m\u001b[0;34m\u001b[0m\u001b[0m\n\u001b[0m\u001b[1;32m     16\u001b[0m \u001b[0mprint\u001b[0m\u001b[0;34m(\u001b[0m\u001b[0;34m\"Salida: \"\u001b[0m\u001b[0;34m,\u001b[0m\u001b[0mA\u001b[0m\u001b[0;34m)\u001b[0m\u001b[0;34m\u001b[0m\u001b[0;34m\u001b[0m\u001b[0m\n\u001b[1;32m     17\u001b[0m \u001b[0;31m#print(\"# comparaciones: \", counter)\u001b[0m\u001b[0;34m\u001b[0m\u001b[0;34m\u001b[0m\u001b[0;34m\u001b[0m\u001b[0m\n",
            "\u001b[0;32m<ipython-input-2-7d364f49e502>\u001b[0m in \u001b[0;36mselect\u001b[0;34m(array, low, high, i)\u001b[0m\n\u001b[1;32m      1\u001b[0m \u001b[0;32mdef\u001b[0m \u001b[0mselect\u001b[0m\u001b[0;34m(\u001b[0m\u001b[0marray\u001b[0m\u001b[0;34m,\u001b[0m \u001b[0mlow\u001b[0m\u001b[0;34m,\u001b[0m \u001b[0mhigh\u001b[0m\u001b[0;34m,\u001b[0m \u001b[0mi\u001b[0m\u001b[0;34m)\u001b[0m\u001b[0;34m:\u001b[0m\u001b[0;34m\u001b[0m\u001b[0;34m\u001b[0m\u001b[0m\n\u001b[1;32m      2\u001b[0m   \u001b[0;32mif\u001b[0m \u001b[0mlow\u001b[0m \u001b[0;34m==\u001b[0m \u001b[0mhigh\u001b[0m\u001b[0;34m:\u001b[0m \u001b[0;32mreturn\u001b[0m \u001b[0marray\u001b[0m\u001b[0;34m[\u001b[0m\u001b[0mlow\u001b[0m\u001b[0;34m]\u001b[0m\u001b[0;34m\u001b[0m\u001b[0;34m\u001b[0m\u001b[0m\n\u001b[0;32m----> 3\u001b[0;31m   \u001b[0mq\u001b[0m\u001b[0;34m=\u001b[0m \u001b[0mpartition\u001b[0m\u001b[0;34m(\u001b[0m\u001b[0marray\u001b[0m\u001b[0;34m,\u001b[0m \u001b[0mlow\u001b[0m\u001b[0;34m,\u001b[0m \u001b[0mhigh\u001b[0m\u001b[0;34m)\u001b[0m\u001b[0;34m\u001b[0m\u001b[0;34m\u001b[0m\u001b[0m\n\u001b[0m\u001b[1;32m      4\u001b[0m   \u001b[0mk\u001b[0m\u001b[0;34m=\u001b[0m \u001b[0mq\u001b[0m \u001b[0;34m-\u001b[0m \u001b[0mlow\u001b[0m \u001b[0;34m+\u001b[0m \u001b[0;36m1\u001b[0m\u001b[0;34m\u001b[0m\u001b[0;34m\u001b[0m\u001b[0m\n\u001b[1;32m      5\u001b[0m   \u001b[0;32mif\u001b[0m \u001b[0mi\u001b[0m \u001b[0;34m==\u001b[0m \u001b[0mk\u001b[0m\u001b[0;34m:\u001b[0m \u001b[0;32mreturn\u001b[0m \u001b[0marray\u001b[0m\u001b[0;34m[\u001b[0m\u001b[0mq\u001b[0m\u001b[0;34m]\u001b[0m\u001b[0;34m\u001b[0m\u001b[0;34m\u001b[0m\u001b[0m\n",
            "\u001b[0;32m<ipython-input-1-acb656a0be1f>\u001b[0m in \u001b[0;36mpartition\u001b[0;34m(array, low, high)\u001b[0m\n\u001b[1;32m     31\u001b[0m \u001b[0;34m\u001b[0m\u001b[0m\n\u001b[1;32m     32\u001b[0m \u001b[0;32mdef\u001b[0m \u001b[0mpartition\u001b[0m\u001b[0;34m(\u001b[0m\u001b[0marray\u001b[0m\u001b[0;34m,\u001b[0m \u001b[0mlow\u001b[0m\u001b[0;34m,\u001b[0m \u001b[0mhigh\u001b[0m\u001b[0;34m)\u001b[0m\u001b[0;34m:\u001b[0m\u001b[0;34m\u001b[0m\u001b[0;34m\u001b[0m\u001b[0m\n\u001b[0;32m---> 33\u001b[0;31m   \u001b[0mpivot\u001b[0m \u001b[0;34m=\u001b[0m \u001b[0mPivotSelection\u001b[0m\u001b[0;34m(\u001b[0m\u001b[0marray\u001b[0m\u001b[0;34m,\u001b[0m\u001b[0mlen\u001b[0m\u001b[0;34m(\u001b[0m\u001b[0marray\u001b[0m\u001b[0;34m)\u001b[0m\u001b[0;34m)\u001b[0m\u001b[0;34m\u001b[0m\u001b[0;34m\u001b[0m\u001b[0m\n\u001b[0m\u001b[1;32m     34\u001b[0m   \u001b[0mp\u001b[0m \u001b[0;34m=\u001b[0m \u001b[0mlow\u001b[0m \u001b[0;34m-\u001b[0m \u001b[0;36m1\u001b[0m\u001b[0;34m\u001b[0m\u001b[0;34m\u001b[0m\u001b[0m\n\u001b[1;32m     35\u001b[0m   \u001b[0;32mfor\u001b[0m \u001b[0mj\u001b[0m \u001b[0;32min\u001b[0m \u001b[0mrange\u001b[0m\u001b[0;34m(\u001b[0m\u001b[0mlow\u001b[0m\u001b[0;34m,\u001b[0m \u001b[0mhigh\u001b[0m\u001b[0;34m)\u001b[0m\u001b[0;34m:\u001b[0m\u001b[0;34m\u001b[0m\u001b[0;34m\u001b[0m\u001b[0m\n",
            "\u001b[0;32m<ipython-input-1-acb656a0be1f>\u001b[0m in \u001b[0;36mPivotSelection\u001b[0;34m(array, l)\u001b[0m\n\u001b[1;32m     14\u001b[0m     \u001b[0msublist\u001b[0m \u001b[0;34m=\u001b[0m \u001b[0minsertionSort\u001b[0m\u001b[0;34m(\u001b[0m\u001b[0msublist\u001b[0m\u001b[0;34m)\u001b[0m\u001b[0;34m\u001b[0m\u001b[0;34m\u001b[0m\u001b[0m\n\u001b[1;32m     15\u001b[0m   \u001b[0;32mfor\u001b[0m \u001b[0msublist\u001b[0m \u001b[0;32min\u001b[0m \u001b[0msublist\u001b[0m\u001b[0;34m:\u001b[0m\u001b[0;34m\u001b[0m\u001b[0;34m\u001b[0m\u001b[0m\n\u001b[0;32m---> 16\u001b[0;31m     \u001b[0mmediana\u001b[0m \u001b[0;34m=\u001b[0m \u001b[0msorted\u001b[0m\u001b[0;34m(\u001b[0m\u001b[0msublist\u001b[0m\u001b[0;34m)\u001b[0m\u001b[0;34m[\u001b[0m\u001b[0mlen\u001b[0m\u001b[0;34m(\u001b[0m\u001b[0msublist\u001b[0m\u001b[0;34m)\u001b[0m\u001b[0;34m/\u001b[0m\u001b[0;36m2\u001b[0m\u001b[0;34m]\u001b[0m\u001b[0;34m\u001b[0m\u001b[0;34m\u001b[0m\u001b[0m\n\u001b[0m\u001b[1;32m     17\u001b[0m   \u001b[0;32mif\u001b[0m \u001b[0mlen\u001b[0m\u001b[0;34m(\u001b[0m\u001b[0mmediana\u001b[0m\u001b[0;34m)\u001b[0m \u001b[0;34m<=\u001b[0m \u001b[0;36m5\u001b[0m\u001b[0;34m:\u001b[0m\u001b[0;34m\u001b[0m\u001b[0;34m\u001b[0m\u001b[0m\n\u001b[1;32m     18\u001b[0m     \u001b[0mpivot\u001b[0m \u001b[0;34m=\u001b[0m \u001b[0msorted\u001b[0m\u001b[0;34m(\u001b[0m\u001b[0mmediana\u001b[0m\u001b[0;34m)\u001b[0m\u001b[0;34m[\u001b[0m\u001b[0mlen\u001b[0m\u001b[0;34m(\u001b[0m\u001b[0mmediana\u001b[0m\u001b[0;34m)\u001b[0m\u001b[0;34m/\u001b[0m\u001b[0;36m2\u001b[0m\u001b[0;34m]\u001b[0m\u001b[0;34m\u001b[0m\u001b[0;34m\u001b[0m\u001b[0m\n",
            "\u001b[0;31mTypeError\u001b[0m: 'int' object is not iterable"
          ]
        }
      ]
    },
    {
      "cell_type": "markdown",
      "source": [
        "##2.2 Descripcion del algoritmo\n",
        "\n",
        "---\n",
        "\n",
        "El algoritmo Select funciona con la implementacion de **Pivot-selection** para seleccionar el pivote con el que comenzara a dividir el arreglo inicial en dos subproblemas (menores o iguales al pivote, al lado izquierdo y mayores que el pivote al lado derecho) esto con ayuda de la implementacion de **Partition** con el fin de encontrar el elemento buscado.\n",
        "\n",
        "Dicho algoritmo funciona de forma recursiva ya que se hace llamado a si mismo dentro del desarrollo de este para pasar y realizar las acciones correspondientes como es devido, tanto **Select** como **Pivot-Selection** hacen utilizacion de esto.\n",
        "\n",
        "*  En un inicio se comienza con el arreglo entregado y un indice i, llegando a Select donde se verifica que el arreglo contenga mas de un solo elemento si esto no es asi se hace una llamada a  $Partition$\n",
        "\n",
        "* Donde apenas entras a la funcion se llama a la funcion de $Pivot-Selection$ se subdivide el arreglo en subsarreglos que contengan 5 elementos, `A[j:j+5]` para luego ser ordenados con la ayuda de $InsertionSort$.\n",
        "\n",
        "* A continuacion se busca la mediana de cada subarreglo creando un subarreglo de medianas el cual luego se saca la mediana de las medianas hasta encontrar el pivote que se utilizara.\n",
        "\n",
        "* Al contar con el pivote se vuelve a la funcion de $Partition$ el cual cumple el resto del funcionamiento comun de partition subdividiendo el problema original en 2 teniendo encuenta que ya se tiene conocimiento del pivote.\n",
        "\n",
        "* Dependiendo de lo que se desea encontrar se escojen uno de los dos subarreglos que devuelve la funcion de $Partition$ para asi de forma recursiva en la funcion de $Select$ se repita en cada iteracion el procedimiento cada vez teniendo un arreglo mas pequeño  hasta obtener el elemento buscado.\n",
        "\n",
        "Funciona de la siguiente forma:\n",
        "\n",
        "> El algoritmo recibe como entrada una lista $A$ de $n$ elementos.  Sean $p$ y $r$ sus índices inferior y superior, respectivamente.<br><br>\n",
        ">\n",
        ">\n",
        "> 1. *Se divide el arreglo $A$ en $[n/5]$ sub-conjuntos de $5$ elementos, a excepción del último que puede llegar a tener menos.*\n",
        "> 2. *Se ordenan estos sub-conjuntos con `InsertionSort` con tal de extraer la mediana de cada uno, almacenando estos valores en un arreglo auxiliar $m$.*\n",
        "> 3. *Buscar recursivamente la mediana $x$ de las medianas $m$.*\n",
        "> 4. *Particionar el arreglo utilizando la mediana de medianas $x$, obteniendo su posición $q$.*\n",
        "> 5. * *Si las posición del pivote coincide con la posición del $i-ésimo$ elemento, se ha encontrado el valor esperado.*\n",
        ">        * $return$ $A[q]$ \n",
        ">    * *Si la posición del pivote es mayor a la del $i-ésimo$ elemento, se llama recursivamente a select para :* \n",
        ">\n",
        ">        * $return$ $select(A, p, q-1, i)$\n",
        ">    * *Si la posición del pivote es menor a la del $i-ésimo$ elemento, se llama recursivamente a select para :* \n",
        ">\n",
        ">        * $return$ $select(A, q+1, r, i-k)$\n",
        "\n",
        "\n",
        "\n",
        "\n"
      ],
      "metadata": {
        "id": "vjFs5FCl0XsC"
      }
    },
    {
      "cell_type": "markdown",
      "source": [
        "## 2.3. Ejemplo\n",
        "---\n",
        "\n",
        "![image](https://i.imgur.com/JfBuN0c.jpg)"
      ],
      "metadata": {
        "id": "OH1zun89CgQ0"
      }
    },
    {
      "cell_type": "markdown",
      "source": [
        "## 2.4. Ejecución del algoritmo paso a paso (`verbose=True`)\n",
        "\n",
        "---\n",
        "Usando la opción `verbose=True`, podemos ver lo que ocurre en cada iteración del algoritmo."
      ],
      "metadata": {
        "id": "yrr9glxSkyCn"
      }
    },
    {
      "cell_type": "code",
      "source": [
        "import random\n",
        "\n",
        "a = random.sample(range(100, 1000), 8)\n",
        "i= a[random.sample(range(0, 8), 1]\n",
        "print(\"ENTRADA: \",a)\n",
        "t= select(A, 0, h, i)\n",
        "print(\"# comparaciones: \", t)"
      ],
      "metadata": {
        "id": "yEyKyzsakymS"
      },
      "execution_count": null,
      "outputs": []
    },
    {
      "cell_type": "markdown",
      "source": [
        "#3. Tiempo de ejecucion\n",
        "\n",
        "---"
      ],
      "metadata": {
        "id": "ey89bpvrVlGx"
      }
    },
    {
      "cell_type": "markdown",
      "source": [
        "\n",
        "Primero se realiza un análisis de los pasos que hace el algoritmo para solucionar el problema.\n",
        "\n",
        "1. Dividir el en n/5 grupos y ordenar. Este paso toma $O(n)$.\n",
        "\n",
        "2. Buscar recursivamente la mediana cuesta $T(\\frac{n}{5})$, esto asumiendo que $n$ es un múltiplo de 5 *(todos los sub-grupos de 5 tienen 5 elementos)*.\n",
        "\n",
        "4. Particionar el arreglo según la mediana de medianas cuesta $O(n)$.\n",
        "\n",
        "5. Llamada recursiva en el arreglo de mayor tamaño para determinar el tiempo de ejecución en el peor caso. Esta cantidad se analiza de la siguiente manera:\n",
        "    >Al menos la mitad de las medianas serán mayores o iguales a la mediana de medianas.\n",
        "    >\n",
        "    >Por esto, al menos la mitad de los grupos de n/5 elementos contribuirán con 3 elementos mayores a la media de medias, a excepción del último grupo que podría no tener 5.\n",
        "    >\n",
        "    > Llegase a tener el último grupo menos de 5 elementos y restando el grupo que contiene a la mediana de medianas, obtenemos un total de $ \\frac{1}{2}\\cdot (\\frac{n}{5}\\)-2$ grupos que aportan al menos $3$ elementos.\n",
        "    >\n",
        "    >Por lo tanto, el número de elementos más grandes que la mediana de mediansd es, al menos:\n",
        "    >    * $3\\cdot ( \\frac{1}{2}\\cdot (\\frac{n}{5}\\)-2)$\n",
        "    >\n",
        "    >Así, al menos $\\frac{3n}{10}-6$ valores serán mayores que la mediana de medianas. De forma similar, al menos $\\frac{3n}{10} - 6$ serán menores que la mediana.\n",
        "    >\n",
        "    >Considerando este el mejor caso para el cuál hacer la llamada recursiva, se puede decir que el peor caso es aquel en que siempre nos vayamos por el lado más largo de la partición, que puede llegar a tener hasta $\\frac{7n}{10}+6$ elementos.\n",
        "\n",
        "    Por lo que la llamada expresión que representa el peor caso será $T(\\frac{7n}{10}+6)$\n",
        "\n",
        "    Asumiendo que el algoritmo tendrá un tiempo de ejecución de $O(1)$ para valores de $n$ pequeños, terminamos con una ecuación de la siguiente forma:\n",
        "\n",
        "$T(n) =\\begin{cases}\n",
        "  O(1)  & \\text{para cierto valor de n hacia abajo} \\\\\n",
        "  T(\\frac{n}{5}) + T(\\frac{7n}{10}+6) + O(n) & \\text{para el resto}\n",
        "\\end{cases}$\n",
        "\n",
        "\n",
        "Para probar que el tiempo de ejecución el lineal ocupamos el método de sustitución, demostrando que $T(n) \\le cn$ para alguna constante $c \\in {N}$ desde algún valor de $n$ hacia adelante.\n",
        "\n",
        "Se sustituye $T(n)$ por $cn$ y $O(n)$ por $an$.\n",
        "\n",
        "$T(n) \\le c(\\frac{n}{5}) + c(\\frac{7n}{10} + 6) + an$\n",
        "\n",
        "$cn \\le \\frac{cn}{5} + \\frac{7cn}{10} + 6c + an$\n",
        "\n",
        "$cn \\le \\frac{9cn}{10}+6c+an$\n",
        "\n",
        "$\\frac{cn}{10} -an\\le 6c$\n",
        "\n",
        "$n(c-10a) \\le 60c$ \n",
        "\n",
        "$n \\le \\frac{60c}{c-10a}$, $n$ respecto a $c$ y $a$.\n",
        "\n",
        "Tambien podemos obtener $c$ respecto a $n$ y $a$.\n",
        "\n",
        "$c \\le \\frac{10an}{n-60}$\n",
        "\n",
        "Para algún valor grande de $n$ como por ejemplo $n=70$, tenemos que $c\\le 70a$, por lo que se puede concluir que si existe una constante $c$ y valores de $n$ que satisfacen la desigualdad.\n",
        "\n",
        "Por lo tanto, se comprueba que el tiempo de ejecución es lineal, $O(n)$"
      ],
      "metadata": {
        "id": "9OjRdobNVpcM"
      }
    },
    {
      "cell_type": "markdown",
      "source": [
        "###Ejemplo"
      ],
      "metadata": {
        "id": "2xvvxWWpVzOk"
      }
    },
    {
      "cell_type": "code",
      "source": [
        "a = [965,159,734,258,987]\n",
        "i= a[2]\n",
        "print(\"ENTRADA: \",a)\n",
        "t= select(a, 0, h, i True)\n",
        "print(\"# comparaciones: \", t)"
      ],
      "metadata": {
        "colab": {
          "base_uri": "https://localhost:8080/",
          "height": 130
        },
        "id": "PktIZZpbV_M8",
        "outputId": "f8f1f0c5-4fd8-49f7-a3fd-e40255f7f873"
      },
      "execution_count": null,
      "outputs": [
        {
          "output_type": "error",
          "ename": "SyntaxError",
          "evalue": "ignored",
          "traceback": [
            "\u001b[0;36m  File \u001b[0;32m\"<ipython-input-4-fc2a34ce6255>\"\u001b[0;36m, line \u001b[0;32m4\u001b[0m\n\u001b[0;31m    t= select(a, 0, h, i True)\u001b[0m\n\u001b[0m                            ^\u001b[0m\n\u001b[0;31mSyntaxError\u001b[0m\u001b[0;31m:\u001b[0m invalid syntax\n"
          ]
        }
      ]
    },
    {
      "cell_type": "markdown",
      "source": [
        "#4. Correctitud\n",
        "\n",
        "---"
      ],
      "metadata": {
        "id": "39F0GMKIVz_6"
      }
    },
    {
      "cell_type": "markdown",
      "source": [
        "\n",
        "Para demostrar la correctitud del algoritmo `Select` se utilizará el método de inducción.\n",
        "#### ***Hipótesis:***\n",
        "*Select* recibe un arreglo $A$ de $n$ elementos y un índice $i$, retornando el valor del $i-ésimo$ elemento más pequeño de $A$. *(o estadístico de orden $i$)*\n",
        "\n",
        "#### ***Caso base***\n",
        "Para el caso base elegimos $n=1$, se cumple la declaración pues al ser un elemento único el índice $i$ solo puede valer $1$, que corresponde al único elemento del arreglo.\n",
        "\n",
        "#### ***Paso inductivo***\n",
        "Asumimos que `partition`es correcto y que todos los elementos en $A$ son distintos.\n",
        "\n",
        "Para $n$ elementos, la función `partition` divide al arreglo en tres sub-arreglos $A_1, A_q, A_2$ a partir del pivote obtenido por `pivot_selection`. Estos tres conjuntos contienen los elementos menores al pivote, el pivote, y los mayores, respectivamente.\n",
        "\n",
        "Se sabe que `partition` ubica el pivote en su posición correcta, por lo que si la posición del pivote coincide con el índice $i$, se tienen exactamente $i-1$ elementos en $A_1$ y corresponde a la solución del problema.\n",
        "\n",
        "Si el valor asociado al estadístico de orden $i$ resulta ser menor que el pivote, se buscará recursivamente el $i-ésimo$ elemento menor en $A_1$.\n",
        "\n",
        "Por otro lado, si el valor asociado al estadístico de orden $i$ resulta ser mayor que el pivote, se buscará recursivamente el $i-k$ elemento menor en $A_2$, siendo k la posición del pivote respecto al arreglo $A$.\n",
        "\n",
        "Ya que las llamadas recursivas a partition continuarán particionando y ubicando elementos de $A_1$ o $A_2$ según corresponda, cuando el tamaño de uno de estos sub arreglos a analizar sea $1$ se habrá encontrado el $i-ésimo$ elemento más pequeño del arreglo original.\n",
        "\n",
        "\n",
        "Por lo tanto, `select` es **correcto**.\n",
        "\n",
        "\n"
      ],
      "metadata": {
        "id": "sz57UfCLxhAG"
      }
    },
    {
      "cell_type": "markdown",
      "source": [
        "#5. Experimentos\n",
        "\n",
        "---"
      ],
      "metadata": {
        "id": "-3HlGVN55BXv"
      }
    }
  ]
}
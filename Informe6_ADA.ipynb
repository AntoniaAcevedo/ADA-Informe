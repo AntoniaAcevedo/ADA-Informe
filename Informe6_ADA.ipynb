{
  "nbformat": 4,
  "nbformat_minor": 0,
  "metadata": {
    "colab": {
      "provenance": [],
      "authorship_tag": "ABX9TyPWag8Pj+Oogw5KFcPkgLJG",
      "include_colab_link": true
    },
    "kernelspec": {
      "name": "python3",
      "display_name": "Python 3"
    },
    "language_info": {
      "name": "python"
    }
  },
  "cells": [
    {
      "cell_type": "markdown",
      "metadata": {
        "id": "view-in-github",
        "colab_type": "text"
      },
      "source": [
        "<a href=\"https://colab.research.google.com/github/AntoniaAcevedo/ADA-Informe/blob/main/Informe6_ADA.ipynb\" target=\"_parent\"><img src=\"https://colab.research.google.com/assets/colab-badge.svg\" alt=\"Open In Colab\"/></a>"
      ]
    },
    {
      "cell_type": "markdown",
      "source": [
        "# 1. Problema de Selección\n",
        "\n",
        "---\n",
        "**Entrada**: Secuencia de n números $[a_1,a_2,...,a_n]$ junto con un indice i .\n",
        "\n",
        "**Salida**:  Elemento $x$ que pertenece a la *secuencia numerica de entrada*, el cual es mayor que $i - 1$ de la *secuencia numerica de entrada*\n",
        "\n",
        "\n",
        "![image](https://i.imgur.com/CspROPN.jpg)\n"
      ],
      "metadata": {
        "id": "ymVErta2jj6-"
      }
    },
    {
      "cell_type": "markdown",
      "source": [
        "# 2. Select\n",
        "\n",
        "---\n",
        "El siguiente código muestra una implementación del algoritmo **Select**. En el cual se implementa los algoritmos de *InsertionSort*, ademas de la utilizacion de *Partition* y para terminar de complementar el algoritmo de *Pivot-Selection*."
      ],
      "metadata": {
        "id": "2eil-fKOxpEL"
      }
    },
    {
      "cell_type": "markdown",
      "source": [
        "##2.1 Codigo\n",
        "\n",
        "---"
      ],
      "metadata": {
        "id": "tn9mpu7T0V6U"
      }
    },
    {
      "cell_type": "code",
      "execution_count": 24,
      "metadata": {
        "id": "pk7Nevb2jZ73"
      },
      "outputs": [],
      "source": [
        "def insertionSort(array):\n",
        "    for n in range(1, len(array)):\n",
        "        up = array[n]\n",
        "        j = n - 1\n",
        "        while j >= 0 and array[j] > up: \n",
        "            array[j + 1] = array[j]\n",
        "            j -= 1\n",
        "        array[j + 1] = up     \n",
        "    return array\n",
        "\n",
        "def PivotSelection (array, l):\n",
        "  for j in range(0, len(array), 5):\n",
        "    sublist = array[j:j+5]\n",
        "    sublist = insertionSort(sublist)\n",
        "  for sublist in sublist:\n",
        "    mediana = sorted(sublist)[len(sublist)/2]\n",
        "  if len(mediana) <= 5:\n",
        "    pivot = sorted(mediana)[len(mediana)/2]\n",
        "  else:\n",
        "    pivot = PivotSelection(mediana,len(mediana)/2)\n",
        "  for j in array:\n",
        "    if j < pivot:\n",
        "      low = j\n",
        "  for j in array:\n",
        "    if j > pivot:\n",
        "      high = j\n",
        "  k = len (low)\n",
        "  if l < k: return PivotSelection(low, l)\n",
        "  elif l > k: return PivotSelection(high, l-k-1)\n",
        "  else: return pivot\n",
        "\n",
        "def partition(array, low, high):\n",
        "  pivot = PivotSelection(array,len(array))\n",
        "  p = low - 1\n",
        "  for j in range(low, high):\n",
        "\n",
        "    if array[j] <= pivot:\n",
        "      p = p + 1\n",
        "      (array[i], array[j]) = (array[j], array[p])\n",
        "  (array[p + 1], array[high]) = (array[high], array[p + 1])\n",
        "\n",
        "  return p + 1"
      ]
    },
    {
      "cell_type": "code",
      "source": [
        "def select(array, low, high, i):\n",
        "  if low == high: return array[low]\n",
        "  q= partition(array, low, high)\n",
        "  k= q - low + 1\n",
        "  if i == k: return array[q]\n",
        "  elif i < k: return select(array, low, q-1, i)\n",
        "  else: return select(array, q+1, high, i-k)\n",
        "\n",
        "\n",
        "# Ejemplo\n",
        "A = [3,2,9,0,7,5,4,8,6,1]\n",
        "i= A[5]\n",
        "print(\"Entrada: \",A)\n",
        "h= len(A)\n",
        "select(A, 0, h, i)\n",
        "print(\"Salida: \",A)\n",
        "#print(\"# comparaciones: \", counter)"
      ],
      "metadata": {
        "colab": {
          "base_uri": "https://localhost:8080/",
          "height": 397
        },
        "id": "JLdQ28CsnT5D",
        "outputId": "ec7758a7-014b-485f-8053-a52bc93264ae"
      },
      "execution_count": 25,
      "outputs": [
        {
          "output_type": "stream",
          "name": "stdout",
          "text": [
            "Entrada:  [3, 2, 9, 0, 7, 5, 4, 8, 6, 1]\n"
          ]
        },
        {
          "output_type": "error",
          "ename": "TypeError",
          "evalue": "ignored",
          "traceback": [
            "\u001b[0;31m---------------------------------------------------------------------------\u001b[0m",
            "\u001b[0;31mTypeError\u001b[0m                                 Traceback (most recent call last)",
            "\u001b[0;32m<ipython-input-25-7d364f49e502>\u001b[0m in \u001b[0;36m<module>\u001b[0;34m\u001b[0m\n\u001b[1;32m     13\u001b[0m \u001b[0mprint\u001b[0m\u001b[0;34m(\u001b[0m\u001b[0;34m\"Entrada: \"\u001b[0m\u001b[0;34m,\u001b[0m\u001b[0mA\u001b[0m\u001b[0;34m)\u001b[0m\u001b[0;34m\u001b[0m\u001b[0;34m\u001b[0m\u001b[0m\n\u001b[1;32m     14\u001b[0m \u001b[0mh\u001b[0m\u001b[0;34m=\u001b[0m \u001b[0mlen\u001b[0m\u001b[0;34m(\u001b[0m\u001b[0mA\u001b[0m\u001b[0;34m)\u001b[0m\u001b[0;34m\u001b[0m\u001b[0;34m\u001b[0m\u001b[0m\n\u001b[0;32m---> 15\u001b[0;31m \u001b[0mselect\u001b[0m\u001b[0;34m(\u001b[0m\u001b[0mA\u001b[0m\u001b[0;34m,\u001b[0m \u001b[0;36m0\u001b[0m\u001b[0;34m,\u001b[0m \u001b[0mh\u001b[0m\u001b[0;34m,\u001b[0m \u001b[0mi\u001b[0m\u001b[0;34m)\u001b[0m\u001b[0;34m\u001b[0m\u001b[0;34m\u001b[0m\u001b[0m\n\u001b[0m\u001b[1;32m     16\u001b[0m \u001b[0mprint\u001b[0m\u001b[0;34m(\u001b[0m\u001b[0;34m\"Salida: \"\u001b[0m\u001b[0;34m,\u001b[0m\u001b[0mA\u001b[0m\u001b[0;34m)\u001b[0m\u001b[0;34m\u001b[0m\u001b[0;34m\u001b[0m\u001b[0m\n\u001b[1;32m     17\u001b[0m \u001b[0;31m#print(\"# comparaciones: \", counter)\u001b[0m\u001b[0;34m\u001b[0m\u001b[0;34m\u001b[0m\u001b[0;34m\u001b[0m\u001b[0m\n",
            "\u001b[0;32m<ipython-input-25-7d364f49e502>\u001b[0m in \u001b[0;36mselect\u001b[0;34m(array, low, high, i)\u001b[0m\n\u001b[1;32m      1\u001b[0m \u001b[0;32mdef\u001b[0m \u001b[0mselect\u001b[0m\u001b[0;34m(\u001b[0m\u001b[0marray\u001b[0m\u001b[0;34m,\u001b[0m \u001b[0mlow\u001b[0m\u001b[0;34m,\u001b[0m \u001b[0mhigh\u001b[0m\u001b[0;34m,\u001b[0m \u001b[0mi\u001b[0m\u001b[0;34m)\u001b[0m\u001b[0;34m:\u001b[0m\u001b[0;34m\u001b[0m\u001b[0;34m\u001b[0m\u001b[0m\n\u001b[1;32m      2\u001b[0m   \u001b[0;32mif\u001b[0m \u001b[0mlow\u001b[0m \u001b[0;34m==\u001b[0m \u001b[0mhigh\u001b[0m\u001b[0;34m:\u001b[0m \u001b[0;32mreturn\u001b[0m \u001b[0marray\u001b[0m\u001b[0;34m[\u001b[0m\u001b[0mlow\u001b[0m\u001b[0;34m]\u001b[0m\u001b[0;34m\u001b[0m\u001b[0;34m\u001b[0m\u001b[0m\n\u001b[0;32m----> 3\u001b[0;31m   \u001b[0mq\u001b[0m\u001b[0;34m=\u001b[0m \u001b[0mpartition\u001b[0m\u001b[0;34m(\u001b[0m\u001b[0marray\u001b[0m\u001b[0;34m,\u001b[0m \u001b[0mlow\u001b[0m\u001b[0;34m,\u001b[0m \u001b[0mhigh\u001b[0m\u001b[0;34m)\u001b[0m\u001b[0;34m\u001b[0m\u001b[0;34m\u001b[0m\u001b[0m\n\u001b[0m\u001b[1;32m      4\u001b[0m   \u001b[0mk\u001b[0m\u001b[0;34m=\u001b[0m \u001b[0mq\u001b[0m \u001b[0;34m-\u001b[0m \u001b[0mlow\u001b[0m \u001b[0;34m+\u001b[0m \u001b[0;36m1\u001b[0m\u001b[0;34m\u001b[0m\u001b[0;34m\u001b[0m\u001b[0m\n\u001b[1;32m      5\u001b[0m   \u001b[0;32mif\u001b[0m \u001b[0mi\u001b[0m \u001b[0;34m==\u001b[0m \u001b[0mk\u001b[0m\u001b[0;34m:\u001b[0m \u001b[0;32mreturn\u001b[0m \u001b[0marray\u001b[0m\u001b[0;34m[\u001b[0m\u001b[0mq\u001b[0m\u001b[0;34m]\u001b[0m\u001b[0;34m\u001b[0m\u001b[0;34m\u001b[0m\u001b[0m\n",
            "\u001b[0;32m<ipython-input-24-acb656a0be1f>\u001b[0m in \u001b[0;36mpartition\u001b[0;34m(array, low, high)\u001b[0m\n\u001b[1;32m     31\u001b[0m \u001b[0;34m\u001b[0m\u001b[0m\n\u001b[1;32m     32\u001b[0m \u001b[0;32mdef\u001b[0m \u001b[0mpartition\u001b[0m\u001b[0;34m(\u001b[0m\u001b[0marray\u001b[0m\u001b[0;34m,\u001b[0m \u001b[0mlow\u001b[0m\u001b[0;34m,\u001b[0m \u001b[0mhigh\u001b[0m\u001b[0;34m)\u001b[0m\u001b[0;34m:\u001b[0m\u001b[0;34m\u001b[0m\u001b[0;34m\u001b[0m\u001b[0m\n\u001b[0;32m---> 33\u001b[0;31m   \u001b[0mpivot\u001b[0m \u001b[0;34m=\u001b[0m \u001b[0mPivotSelection\u001b[0m\u001b[0;34m(\u001b[0m\u001b[0marray\u001b[0m\u001b[0;34m,\u001b[0m\u001b[0mlen\u001b[0m\u001b[0;34m(\u001b[0m\u001b[0marray\u001b[0m\u001b[0;34m)\u001b[0m\u001b[0;34m)\u001b[0m\u001b[0;34m\u001b[0m\u001b[0;34m\u001b[0m\u001b[0m\n\u001b[0m\u001b[1;32m     34\u001b[0m   \u001b[0mp\u001b[0m \u001b[0;34m=\u001b[0m \u001b[0mlow\u001b[0m \u001b[0;34m-\u001b[0m \u001b[0;36m1\u001b[0m\u001b[0;34m\u001b[0m\u001b[0;34m\u001b[0m\u001b[0m\n\u001b[1;32m     35\u001b[0m   \u001b[0;32mfor\u001b[0m \u001b[0mj\u001b[0m \u001b[0;32min\u001b[0m \u001b[0mrange\u001b[0m\u001b[0;34m(\u001b[0m\u001b[0mlow\u001b[0m\u001b[0;34m,\u001b[0m \u001b[0mhigh\u001b[0m\u001b[0;34m)\u001b[0m\u001b[0;34m:\u001b[0m\u001b[0;34m\u001b[0m\u001b[0;34m\u001b[0m\u001b[0m\n",
            "\u001b[0;32m<ipython-input-24-acb656a0be1f>\u001b[0m in \u001b[0;36mPivotSelection\u001b[0;34m(array, l)\u001b[0m\n\u001b[1;32m     14\u001b[0m     \u001b[0msublist\u001b[0m \u001b[0;34m=\u001b[0m \u001b[0minsertionSort\u001b[0m\u001b[0;34m(\u001b[0m\u001b[0msublist\u001b[0m\u001b[0;34m)\u001b[0m\u001b[0;34m\u001b[0m\u001b[0;34m\u001b[0m\u001b[0m\n\u001b[1;32m     15\u001b[0m   \u001b[0;32mfor\u001b[0m \u001b[0msublist\u001b[0m \u001b[0;32min\u001b[0m \u001b[0msublist\u001b[0m\u001b[0;34m:\u001b[0m\u001b[0;34m\u001b[0m\u001b[0;34m\u001b[0m\u001b[0m\n\u001b[0;32m---> 16\u001b[0;31m     \u001b[0mmediana\u001b[0m \u001b[0;34m=\u001b[0m \u001b[0msorted\u001b[0m\u001b[0;34m(\u001b[0m\u001b[0msublist\u001b[0m\u001b[0;34m)\u001b[0m\u001b[0;34m[\u001b[0m\u001b[0mlen\u001b[0m\u001b[0;34m(\u001b[0m\u001b[0msublist\u001b[0m\u001b[0;34m)\u001b[0m\u001b[0;34m/\u001b[0m\u001b[0;36m2\u001b[0m\u001b[0;34m]\u001b[0m\u001b[0;34m\u001b[0m\u001b[0;34m\u001b[0m\u001b[0m\n\u001b[0m\u001b[1;32m     17\u001b[0m   \u001b[0;32mif\u001b[0m \u001b[0mlen\u001b[0m\u001b[0;34m(\u001b[0m\u001b[0mmediana\u001b[0m\u001b[0;34m)\u001b[0m \u001b[0;34m<=\u001b[0m \u001b[0;36m5\u001b[0m\u001b[0;34m:\u001b[0m\u001b[0;34m\u001b[0m\u001b[0;34m\u001b[0m\u001b[0m\n\u001b[1;32m     18\u001b[0m     \u001b[0mpivot\u001b[0m \u001b[0;34m=\u001b[0m \u001b[0msorted\u001b[0m\u001b[0;34m(\u001b[0m\u001b[0mmediana\u001b[0m\u001b[0;34m)\u001b[0m\u001b[0;34m[\u001b[0m\u001b[0mlen\u001b[0m\u001b[0;34m(\u001b[0m\u001b[0mmediana\u001b[0m\u001b[0;34m)\u001b[0m\u001b[0;34m/\u001b[0m\u001b[0;36m2\u001b[0m\u001b[0;34m]\u001b[0m\u001b[0;34m\u001b[0m\u001b[0;34m\u001b[0m\u001b[0m\n",
            "\u001b[0;31mTypeError\u001b[0m: 'int' object is not iterable"
          ]
        }
      ]
    },
    {
      "cell_type": "markdown",
      "source": [
        "##2.2 Descripcion del algoritmo\n",
        "\n",
        "---\n",
        "\n",
        "El algoritmo Select funciona con la implementacion de **Pivot-selection** para seleccionar el pivote con el que comenzara a dividir el arreglo inicial en dos subproblemas (menores o iguales al pivote, al lado izquierdo y mayores que el pivote al lado derecho) esto con ayuda de la implementacion de **Partition** con el fin de encontrar el elemento buscado.\n",
        "\n",
        "Dicho algoritmo funciona de forma recursiva ya que se hace llamado a si mismo dentro del desarrollo de este para pasar y realizar las acciones correspondientes como es devido, tanto **Select** como **Pivot-Selection** hacen utilizacion de esto.\n",
        "\n",
        "*  En un inicio se comienza con el arreglo entregado y un indice i, llegando a Select donde se verifica que el arreglo contenga mas de un solo elemento si esto no es asi se hace una llamada a  $Partition$\n",
        "\n",
        "* Donde apenas entras a la funcion se llama a la funcion de $Pivot-Selection$ se subdivide el arreglo en subsarreglos que contengan 5 elementos, `A[j:j+5]` para luego ser ordenados con la ayuda de $InsertionSort$.\n",
        "\n",
        "* A continuacion se busca la mediana de cada subarreglo creando un subarreglo de medianas el cual luego se saca la mediana de las medianas hasta encontrar el pivote que se utilizara.\n",
        "\n",
        "* Al contar con el pivote se vuelve a la funcion de $Partition$ el cual cumple el resto del funcionamiento comun de partition subdividiendo el problema original en 2 teniendo encuenta que ya se tiene conocimiento del pivote.\n",
        "\n",
        "* Dependiendo de lo que se desea encontrar se escojen uno de los dos subarreglos que devuelve la funcion de $Partition$ para asi de forma recursiva en la funcion de $Select$ se repita en cada iteracion el procedimiento cada vez teniendo un arreglo mas pequeño  hasta obtener el elemento buscado.\n",
        "\n",
        "\n",
        "\n",
        "\n"
      ],
      "metadata": {
        "id": "vjFs5FCl0XsC"
      }
    },
    {
      "cell_type": "markdown",
      "source": [
        "## 2.3. Ejemplo\n",
        "---\n",
        "\n",
        "![image](https://i.imgur.com/JfBuN0c.jpg)"
      ],
      "metadata": {
        "id": "OH1zun89CgQ0"
      }
    }
  ]
}
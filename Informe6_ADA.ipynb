{
  "nbformat": 4,
  "nbformat_minor": 0,
  "metadata": {
    "colab": {
      "provenance": [],
      "authorship_tag": "ABX9TyPQcl3ZZP2KLtgaClTSP8ZM",
      "include_colab_link": true
    },
    "kernelspec": {
      "name": "python3",
      "display_name": "Python 3"
    },
    "language_info": {
      "name": "python"
    }
  },
  "cells": [
    {
      "cell_type": "markdown",
      "metadata": {
        "id": "view-in-github",
        "colab_type": "text"
      },
      "source": [
        "<a href=\"https://colab.research.google.com/github/AntoniaAcevedo/ADA-Informe/blob/main/Informe6_ADA.ipynb\" target=\"_parent\"><img src=\"https://colab.research.google.com/assets/colab-badge.svg\" alt=\"Open In Colab\"/></a>"
      ]
    },
    {
      "cell_type": "markdown",
      "source": [
        "# 1. Problema de Selección\n",
        "\n",
        "---\n",
        "**Entrada**: Secuencia de n números $[a_1,a_2,...,a_n]$ junto con un indice i .\n",
        "\n",
        "**Salida**:  Elemento $x$ que pertenece a la *secuencia numerica de entrada*, el cual es mayor que $i - 1$ de la *secuencia numerica de entrada*\n",
        "\n",
        "\n",
        "![image](https://i.imgur.com/CspROPN.jpg)\n",
        "\n",
        "\n",
        "El estadístico de orden kº es igual al **k-ésimo** valor más pequeño de una muestra estadística. Junto con los estadísticos de rango, los estadísticos de orden son una de las herramientas fundamentales de la estadística no paramétrica y de inferencia, esto es el planteamiento principal de este problema de seleccion con la busqueda de dicho elemento $x$.\n",
        "\n",
        "Buscando el mínimo y el máximo valor de una muestra, la mediana y otros cuantiles de muestra. Lo cual describe los pasos a seguir dentro del algoritmo de **Select**"
      ],
      "metadata": {
        "id": "ymVErta2jj6-"
      }
    },
    {
      "cell_type": "markdown",
      "source": [
        "# 2. Select\n",
        "\n",
        "---\n",
        "El siguiente código muestra una implementación del algoritmo **Select**. En el cual se implementa los algoritmos de *InsertionSort*, ademas de la utilizacion de *Partition* y para terminar de complementar el algoritmo de *Pivot-Selection*."
      ],
      "metadata": {
        "id": "2eil-fKOxpEL"
      }
    },
    {
      "cell_type": "markdown",
      "source": [
        "##2.1 Codigo\n",
        "\n",
        "---"
      ],
      "metadata": {
        "id": "tn9mpu7T0V6U"
      }
    },
    {
      "cell_type": "code",
      "execution_count": 1,
      "metadata": {
        "id": "pk7Nevb2jZ73"
      },
      "outputs": [],
      "source": [
        "def insertionSort(array):\n",
        "    for n in range(1, len(array)):\n",
        "        up = array[n]\n",
        "        j = n - 1\n",
        "        while j >= 0 and array[j] > up: \n",
        "            array[j + 1] = array[j]\n",
        "            j -= 1\n",
        "        array[j + 1] = up     \n",
        "    return array\n",
        "\n",
        "def PivotSelection (array, l):\n",
        "  for j in range(0, len(array), 5):\n",
        "    sublist = array[j:j+5]\n",
        "    sublist = insertionSort(sublist)\n",
        "  for sublist in sublist:\n",
        "    mediana = sorted(sublist)[len(sublist)/2]\n",
        "  if len(mediana) <= 5:\n",
        "    pivot = sorted(mediana)[len(mediana)/2]\n",
        "  else:\n",
        "    pivot = PivotSelection(mediana,len(mediana)/2)\n",
        "  for j in array:\n",
        "    if j < pivot:\n",
        "      low = j\n",
        "  for j in array:\n",
        "    if j > pivot:\n",
        "      high = j\n",
        "  k = len (low)\n",
        "  if l < k: return PivotSelection(low, l)\n",
        "  elif l > k: return PivotSelection(high, l-k-1)\n",
        "  else: return pivot\n",
        "\n",
        "def partition(array, low, high):\n",
        "  pivot = PivotSelection(array,len(array))\n",
        "  p = low - 1\n",
        "  for j in range(low, high):\n",
        "\n",
        "    if array[j] <= pivot:\n",
        "      p = p + 1\n",
        "      (array[i], array[j]) = (array[j], array[p])\n",
        "  (array[p + 1], array[high]) = (array[high], array[p + 1]) \n",
        "\n",
        "  return p + 1"
      ]
    },
    {
      "cell_type": "code",
      "source": [
        "def select(array, low, high, i):\n",
        "  if low == high: return array[low]\n",
        "  q= partition(array, low, high)\n",
        "  k= q - low + 1\n",
        "  if i == k: return array[q]\n",
        "  elif i < k: return select(array, low, q-1, i)\n",
        "  else: return select(array, q+1, high, i-k)\n",
        "\n",
        "\n",
        "# Ejemplo\n",
        "A = [3,2,9,0,7,5,4,8,6,1]\n",
        "i= A[5]\n",
        "print(\"Entrada: \",A)\n",
        "h= len(A)\n",
        "select(A, 0, h, i)\n",
        "print(\"Salida: \",A)\n",
        "#print(\"# comparaciones: \", counter)"
      ],
      "metadata": {
        "colab": {
          "base_uri": "https://localhost:8080/",
          "height": 397
        },
        "id": "JLdQ28CsnT5D",
        "outputId": "ba59e1d9-2bd0-4123-f88d-ea02cf0ba0e7"
      },
      "execution_count": 2,
      "outputs": [
        {
          "output_type": "stream",
          "name": "stdout",
          "text": [
            "Entrada:  [3, 2, 9, 0, 7, 5, 4, 8, 6, 1]\n"
          ]
        },
        {
          "output_type": "error",
          "ename": "TypeError",
          "evalue": "ignored",
          "traceback": [
            "\u001b[0;31m---------------------------------------------------------------------------\u001b[0m",
            "\u001b[0;31mTypeError\u001b[0m                                 Traceback (most recent call last)",
            "\u001b[0;32m<ipython-input-2-7d364f49e502>\u001b[0m in \u001b[0;36m<module>\u001b[0;34m\u001b[0m\n\u001b[1;32m     13\u001b[0m \u001b[0mprint\u001b[0m\u001b[0;34m(\u001b[0m\u001b[0;34m\"Entrada: \"\u001b[0m\u001b[0;34m,\u001b[0m\u001b[0mA\u001b[0m\u001b[0;34m)\u001b[0m\u001b[0;34m\u001b[0m\u001b[0;34m\u001b[0m\u001b[0m\n\u001b[1;32m     14\u001b[0m \u001b[0mh\u001b[0m\u001b[0;34m=\u001b[0m \u001b[0mlen\u001b[0m\u001b[0;34m(\u001b[0m\u001b[0mA\u001b[0m\u001b[0;34m)\u001b[0m\u001b[0;34m\u001b[0m\u001b[0;34m\u001b[0m\u001b[0m\n\u001b[0;32m---> 15\u001b[0;31m \u001b[0mselect\u001b[0m\u001b[0;34m(\u001b[0m\u001b[0mA\u001b[0m\u001b[0;34m,\u001b[0m \u001b[0;36m0\u001b[0m\u001b[0;34m,\u001b[0m \u001b[0mh\u001b[0m\u001b[0;34m,\u001b[0m \u001b[0mi\u001b[0m\u001b[0;34m)\u001b[0m\u001b[0;34m\u001b[0m\u001b[0;34m\u001b[0m\u001b[0m\n\u001b[0m\u001b[1;32m     16\u001b[0m \u001b[0mprint\u001b[0m\u001b[0;34m(\u001b[0m\u001b[0;34m\"Salida: \"\u001b[0m\u001b[0;34m,\u001b[0m\u001b[0mA\u001b[0m\u001b[0;34m)\u001b[0m\u001b[0;34m\u001b[0m\u001b[0;34m\u001b[0m\u001b[0m\n\u001b[1;32m     17\u001b[0m \u001b[0;31m#print(\"# comparaciones: \", counter)\u001b[0m\u001b[0;34m\u001b[0m\u001b[0;34m\u001b[0m\u001b[0;34m\u001b[0m\u001b[0m\n",
            "\u001b[0;32m<ipython-input-2-7d364f49e502>\u001b[0m in \u001b[0;36mselect\u001b[0;34m(array, low, high, i)\u001b[0m\n\u001b[1;32m      1\u001b[0m \u001b[0;32mdef\u001b[0m \u001b[0mselect\u001b[0m\u001b[0;34m(\u001b[0m\u001b[0marray\u001b[0m\u001b[0;34m,\u001b[0m \u001b[0mlow\u001b[0m\u001b[0;34m,\u001b[0m \u001b[0mhigh\u001b[0m\u001b[0;34m,\u001b[0m \u001b[0mi\u001b[0m\u001b[0;34m)\u001b[0m\u001b[0;34m:\u001b[0m\u001b[0;34m\u001b[0m\u001b[0;34m\u001b[0m\u001b[0m\n\u001b[1;32m      2\u001b[0m   \u001b[0;32mif\u001b[0m \u001b[0mlow\u001b[0m \u001b[0;34m==\u001b[0m \u001b[0mhigh\u001b[0m\u001b[0;34m:\u001b[0m \u001b[0;32mreturn\u001b[0m \u001b[0marray\u001b[0m\u001b[0;34m[\u001b[0m\u001b[0mlow\u001b[0m\u001b[0;34m]\u001b[0m\u001b[0;34m\u001b[0m\u001b[0;34m\u001b[0m\u001b[0m\n\u001b[0;32m----> 3\u001b[0;31m   \u001b[0mq\u001b[0m\u001b[0;34m=\u001b[0m \u001b[0mpartition\u001b[0m\u001b[0;34m(\u001b[0m\u001b[0marray\u001b[0m\u001b[0;34m,\u001b[0m \u001b[0mlow\u001b[0m\u001b[0;34m,\u001b[0m \u001b[0mhigh\u001b[0m\u001b[0;34m)\u001b[0m\u001b[0;34m\u001b[0m\u001b[0;34m\u001b[0m\u001b[0m\n\u001b[0m\u001b[1;32m      4\u001b[0m   \u001b[0mk\u001b[0m\u001b[0;34m=\u001b[0m \u001b[0mq\u001b[0m \u001b[0;34m-\u001b[0m \u001b[0mlow\u001b[0m \u001b[0;34m+\u001b[0m \u001b[0;36m1\u001b[0m\u001b[0;34m\u001b[0m\u001b[0;34m\u001b[0m\u001b[0m\n\u001b[1;32m      5\u001b[0m   \u001b[0;32mif\u001b[0m \u001b[0mi\u001b[0m \u001b[0;34m==\u001b[0m \u001b[0mk\u001b[0m\u001b[0;34m:\u001b[0m \u001b[0;32mreturn\u001b[0m \u001b[0marray\u001b[0m\u001b[0;34m[\u001b[0m\u001b[0mq\u001b[0m\u001b[0;34m]\u001b[0m\u001b[0;34m\u001b[0m\u001b[0;34m\u001b[0m\u001b[0m\n",
            "\u001b[0;32m<ipython-input-1-acb656a0be1f>\u001b[0m in \u001b[0;36mpartition\u001b[0;34m(array, low, high)\u001b[0m\n\u001b[1;32m     31\u001b[0m \u001b[0;34m\u001b[0m\u001b[0m\n\u001b[1;32m     32\u001b[0m \u001b[0;32mdef\u001b[0m \u001b[0mpartition\u001b[0m\u001b[0;34m(\u001b[0m\u001b[0marray\u001b[0m\u001b[0;34m,\u001b[0m \u001b[0mlow\u001b[0m\u001b[0;34m,\u001b[0m \u001b[0mhigh\u001b[0m\u001b[0;34m)\u001b[0m\u001b[0;34m:\u001b[0m\u001b[0;34m\u001b[0m\u001b[0;34m\u001b[0m\u001b[0m\n\u001b[0;32m---> 33\u001b[0;31m   \u001b[0mpivot\u001b[0m \u001b[0;34m=\u001b[0m \u001b[0mPivotSelection\u001b[0m\u001b[0;34m(\u001b[0m\u001b[0marray\u001b[0m\u001b[0;34m,\u001b[0m\u001b[0mlen\u001b[0m\u001b[0;34m(\u001b[0m\u001b[0marray\u001b[0m\u001b[0;34m)\u001b[0m\u001b[0;34m)\u001b[0m\u001b[0;34m\u001b[0m\u001b[0;34m\u001b[0m\u001b[0m\n\u001b[0m\u001b[1;32m     34\u001b[0m   \u001b[0mp\u001b[0m \u001b[0;34m=\u001b[0m \u001b[0mlow\u001b[0m \u001b[0;34m-\u001b[0m \u001b[0;36m1\u001b[0m\u001b[0;34m\u001b[0m\u001b[0;34m\u001b[0m\u001b[0m\n\u001b[1;32m     35\u001b[0m   \u001b[0;32mfor\u001b[0m \u001b[0mj\u001b[0m \u001b[0;32min\u001b[0m \u001b[0mrange\u001b[0m\u001b[0;34m(\u001b[0m\u001b[0mlow\u001b[0m\u001b[0;34m,\u001b[0m \u001b[0mhigh\u001b[0m\u001b[0;34m)\u001b[0m\u001b[0;34m:\u001b[0m\u001b[0;34m\u001b[0m\u001b[0;34m\u001b[0m\u001b[0m\n",
            "\u001b[0;32m<ipython-input-1-acb656a0be1f>\u001b[0m in \u001b[0;36mPivotSelection\u001b[0;34m(array, l)\u001b[0m\n\u001b[1;32m     14\u001b[0m     \u001b[0msublist\u001b[0m \u001b[0;34m=\u001b[0m \u001b[0minsertionSort\u001b[0m\u001b[0;34m(\u001b[0m\u001b[0msublist\u001b[0m\u001b[0;34m)\u001b[0m\u001b[0;34m\u001b[0m\u001b[0;34m\u001b[0m\u001b[0m\n\u001b[1;32m     15\u001b[0m   \u001b[0;32mfor\u001b[0m \u001b[0msublist\u001b[0m \u001b[0;32min\u001b[0m \u001b[0msublist\u001b[0m\u001b[0;34m:\u001b[0m\u001b[0;34m\u001b[0m\u001b[0;34m\u001b[0m\u001b[0m\n\u001b[0;32m---> 16\u001b[0;31m     \u001b[0mmediana\u001b[0m \u001b[0;34m=\u001b[0m \u001b[0msorted\u001b[0m\u001b[0;34m(\u001b[0m\u001b[0msublist\u001b[0m\u001b[0;34m)\u001b[0m\u001b[0;34m[\u001b[0m\u001b[0mlen\u001b[0m\u001b[0;34m(\u001b[0m\u001b[0msublist\u001b[0m\u001b[0;34m)\u001b[0m\u001b[0;34m/\u001b[0m\u001b[0;36m2\u001b[0m\u001b[0;34m]\u001b[0m\u001b[0;34m\u001b[0m\u001b[0;34m\u001b[0m\u001b[0m\n\u001b[0m\u001b[1;32m     17\u001b[0m   \u001b[0;32mif\u001b[0m \u001b[0mlen\u001b[0m\u001b[0;34m(\u001b[0m\u001b[0mmediana\u001b[0m\u001b[0;34m)\u001b[0m \u001b[0;34m<=\u001b[0m \u001b[0;36m5\u001b[0m\u001b[0;34m:\u001b[0m\u001b[0;34m\u001b[0m\u001b[0;34m\u001b[0m\u001b[0m\n\u001b[1;32m     18\u001b[0m     \u001b[0mpivot\u001b[0m \u001b[0;34m=\u001b[0m \u001b[0msorted\u001b[0m\u001b[0;34m(\u001b[0m\u001b[0mmediana\u001b[0m\u001b[0;34m)\u001b[0m\u001b[0;34m[\u001b[0m\u001b[0mlen\u001b[0m\u001b[0;34m(\u001b[0m\u001b[0mmediana\u001b[0m\u001b[0;34m)\u001b[0m\u001b[0;34m/\u001b[0m\u001b[0;36m2\u001b[0m\u001b[0;34m]\u001b[0m\u001b[0;34m\u001b[0m\u001b[0;34m\u001b[0m\u001b[0m\n",
            "\u001b[0;31mTypeError\u001b[0m: 'int' object is not iterable"
          ]
        }
      ]
    },
    {
      "cell_type": "markdown",
      "source": [
        "##2.2 Descripcion del algoritmo\n",
        "\n",
        "---\n",
        "\n",
        "El algoritmo Select funciona con la implementacion de **Pivot-selection** para seleccionar el pivote con el que comenzara a dividir el arreglo inicial en dos subproblemas (menores o iguales al pivote, al lado izquierdo y mayores que el pivote al lado derecho) esto con ayuda de la implementacion de **Partition** con el fin de encontrar el elemento buscado.\n",
        "\n",
        "Dicho algoritmo funciona de forma recursiva ya que se hace llamado a si mismo dentro del desarrollo de este para pasar y realizar las acciones correspondientes como es devido, tanto **Select** como **Pivot-Selection** hacen utilizacion de esto.\n",
        "\n",
        "*  En un inicio se comienza con el arreglo entregado y un indice i, llegando a Select donde se verifica que el arreglo contenga mas de un solo elemento si esto no es asi se hace una llamada a  $Partition$\n",
        "\n",
        "* Donde apenas entras a la funcion se llama a la funcion de $Pivot-Selection$ se subdivide el arreglo en subsarreglos que contengan 5 elementos, `A[j:j+5]` para luego ser ordenados con la ayuda de $InsertionSort$.\n",
        "\n",
        "* A continuacion se busca la mediana de cada subarreglo creando un subarreglo de medianas el cual luego se saca la mediana de las medianas hasta encontrar el pivote que se utilizara.\n",
        "\n",
        "* Al contar con el pivote se vuelve a la funcion de $Partition$ el cual cumple el resto del funcionamiento comun de partition subdividiendo el problema original en 2 teniendo encuenta que ya se tiene conocimiento del pivote.\n",
        "\n",
        "* Dependiendo de lo que se desea encontrar se escojen uno de los dos subarreglos que devuelve la funcion de $Partition$ para asi de forma recursiva en la funcion de $Select$ se repita en cada iteracion el procedimiento cada vez teniendo un arreglo mas pequeño  hasta obtener el elemento buscado.\n",
        "\n",
        "\n",
        "\n",
        "\n"
      ],
      "metadata": {
        "id": "vjFs5FCl0XsC"
      }
    },
    {
      "cell_type": "markdown",
      "source": [
        "## 2.3. Ejemplo\n",
        "---\n",
        "\n",
        "![image](https://i.imgur.com/JfBuN0c.jpg)"
      ],
      "metadata": {
        "id": "OH1zun89CgQ0"
      }
    },
    {
      "cell_type": "markdown",
      "source": [
        "## 2.4. Ejecución del algoritmo paso a paso (`verbose=True`)\n",
        "\n",
        "---\n",
        "Usando la opción `verbose=True`, podemos ver lo que ocurre en cada iteración del algoritmo."
      ],
      "metadata": {
        "id": "yrr9glxSkyCn"
      }
    },
    {
      "cell_type": "code",
      "source": [
        "import random\n",
        "\n",
        "a = random.sample(range(100, 1000), 8)\n",
        "i= a[random.sample(range(0, 8), 1]\n",
        "print(\"ENTRADA: \",a)\n",
        "t= select(A, 0, h, i)\n",
        "print(\"# comparaciones: \", t)"
      ],
      "metadata": {
        "id": "yEyKyzsakymS"
      },
      "execution_count": null,
      "outputs": []
    },
    {
      "cell_type": "markdown",
      "source": [
        "#3. Tiempo de ejecucion\n",
        "\n",
        "---"
      ],
      "metadata": {
        "id": "ey89bpvrVlGx"
      }
    },
    {
      "cell_type": "markdown",
      "source": [
        "### **Teorema (Tiempo de ejecución).**\n",
        "*El algoritmo **Select** tiene un **tiempo de ejecución de** $\\theta(n^2)$ en el peor caso.*\n",
        "\n",
        "*Aunque  tiene un **tiempo de ejecución de** $\\theta(n)$ en el caso promedio.*\n",
        "## Prueba del teorema\n",
        "\n",
        "1. Dividir en $n/5$ grupos y ordenar. Dicho paso toma $O(n)$\n",
        "2. Buscar recursivamente la mediana cuenta $T(n/5)$ asumiendo que **n** es un multiplo de 5 (todos los sub-grupos de 5 tienen 5 elementos)\n",
        "3. Particionar el arreglo segun la mediana de medianas cuesta $O(n)$\n",
        "4. Llamada recursiva en el arreglo de mayor tamaño para determinar el tiempo de ejecucion en el peor caso. Esta cantidad se analizara de la siguiente manera:\n",
        "\n",
        ">Al menos la mitad de las medianas seran mayores o iguales a la mediana de > medianas.\n",
        ">\n",
        ">Por esto, al menos la mitad de los grupos de $n/5$ elementos contribuiran con 3 elementos mayores a la media de medianas, a exce´cion del ultimo grupo que podria no tener 5.\n",
        ">\n",
        ">Llegase a tener el ultimo grupo menos de 5 elementos y restando el grupo que contiene a la mediana de las medianas, obtenemos un total de $1/2 * (n/5) - 2$ grupos que aportan al menos $3$ elementos.\n",
        ">\n",
        ">Por lo tanto, el numero de elementos mas grandes que la mediana de medianas es, al menos:  $3 * (1/2* (n/5) - 2)$ \n",
        ">\n",
        ">Asi, al menos $(3n/10) -6$ valores seran mayores que una mediana de medianas. De forma similar, al menos $(3n/10) -6$ seran menores que la mediana.\n",
        ">\n",
        ">Considerando este el mejor caso para el cual hacer la llamada recursiva, se puede decir que le peor caso es aquel en que siempre nos vayamos por el lado mas largo de la particion, que puede llegar a tener hasta $(7n/10) +6$ elementos.\n",
        "\n",
        "\n",
        "![image](https://i.imgur.com/I6hhdZ0.jpg)\n",
        "\n",
        "## EXTRA (tiempo ejecucion random-select)\n",
        "![image](https://i.imgur.com/3npfgdD.jpg)"
      ],
      "metadata": {
        "id": "9OjRdobNVpcM"
      }
    },
    {
      "cell_type": "markdown",
      "source": [
        "###Ejemplo"
      ],
      "metadata": {
        "id": "2xvvxWWpVzOk"
      }
    },
    {
      "cell_type": "code",
      "source": [
        "a = [965,159,734,258,987]\n",
        "i= a[2]\n",
        "print(\"ENTRADA: \",a)\n",
        "t= select(a, 0, h, i True)\n",
        "print(\"# comparaciones: \", t)"
      ],
      "metadata": {
        "colab": {
          "base_uri": "https://localhost:8080/",
          "height": 130
        },
        "id": "PktIZZpbV_M8",
        "outputId": "f8f1f0c5-4fd8-49f7-a3fd-e40255f7f873"
      },
      "execution_count": 4,
      "outputs": [
        {
          "output_type": "error",
          "ename": "SyntaxError",
          "evalue": "ignored",
          "traceback": [
            "\u001b[0;36m  File \u001b[0;32m\"<ipython-input-4-fc2a34ce6255>\"\u001b[0;36m, line \u001b[0;32m4\u001b[0m\n\u001b[0;31m    t= select(a, 0, h, i True)\u001b[0m\n\u001b[0m                            ^\u001b[0m\n\u001b[0;31mSyntaxError\u001b[0m\u001b[0;31m:\u001b[0m invalid syntax\n"
          ]
        }
      ]
    },
    {
      "cell_type": "markdown",
      "source": [
        "#4. Correctitud\n",
        "\n",
        "---"
      ],
      "metadata": {
        "id": "39F0GMKIVz_6"
      }
    },
    {
      "cell_type": "markdown",
      "source": [
        "### **Teorema (Correctitud).**\n",
        "\n",
        "El algoritmo **Select** nos busca un elemento $x$ perteneciente a los valores del arreglo de entrada, donde es mayor a la i -1 que fue inicializado en un comienzo. \n",
        "\n",
        "## Prueba del Teorema\n",
        "\n",
        "**Inicialización o Caso base**"
      ],
      "metadata": {
        "id": "sz57UfCLxhAG"
      }
    },
    {
      "cell_type": "markdown",
      "source": [
        "#5. Experimentos\n",
        "\n",
        "---"
      ],
      "metadata": {
        "id": "-3HlGVN55BXv"
      }
    }
  ]
}
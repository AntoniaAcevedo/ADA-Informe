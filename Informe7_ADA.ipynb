{
  "nbformat": 4,
  "nbformat_minor": 0,
  "metadata": {
    "colab": {
      "provenance": [],
      "authorship_tag": "ABX9TyNMvH6r/f1Z8Lb/XxC28CWT",
      "include_colab_link": true
    },
    "kernelspec": {
      "name": "python3",
      "display_name": "Python 3"
    },
    "language_info": {
      "name": "python"
    }
  },
  "cells": [
    {
      "cell_type": "markdown",
      "metadata": {
        "id": "view-in-github",
        "colab_type": "text"
      },
      "source": [
        "<a href=\"https://colab.research.google.com/github/AntoniaAcevedo/ADA-Informe/blob/main/Informe7_ADA.ipynb\" target=\"_parent\"><img src=\"https://colab.research.google.com/assets/colab-badge.svg\" alt=\"Open In Colab\"/></a>"
      ]
    },
    {
      "cell_type": "markdown",
      "source": [
        "# 1. Problema del corte de varilla\n",
        "\n",
        "---\n",
        "**Entrada**: Secuencia de n números $[a_1,a_2,...,a_n]$ junto con un indice i .\n",
        "\n",
        "**Salida**:  Elemento $x$ que pertenece a la *secuencia numerica de entrada*, el cual es mayor que $i - 1$ de la *secuencia numerica de entrada*"
      ],
      "metadata": {
        "id": "GBTIfR1Imcqa"
      }
    },
    {
      "cell_type": "markdown",
      "source": [
        "# 2. CuttingRod\n",
        "\n",
        "---\n",
        "El siguiente código muestra una implementación del algoritmo **Del Problema del Corte de Varilla**."
      ],
      "metadata": {
        "id": "1-kxXtI8mz7K"
      }
    },
    {
      "cell_type": "markdown",
      "source": [
        "##2.1 Codigo\n",
        "\n",
        "----"
      ],
      "metadata": {
        "id": "gNKAoo7BnyHu"
      }
    },
    {
      "cell_type": "code",
      "execution_count": null,
      "metadata": {
        "id": "GHiWpSxlmKDi"
      },
      "outputs": [],
      "source": []
    },
    {
      "cell_type": "markdown",
      "source": [
        "##2.2 Descripcion del algoritmo\n",
        "\n",
        "---\n",
        "\n"
      ],
      "metadata": {
        "id": "eSiKYEJ6oCQ3"
      }
    },
    {
      "cell_type": "markdown",
      "source": [
        "#3. Tiempo de ejecución\n",
        "---\n",
        "\n",
        "**Cantidad de sub-problemas a resolver:**\n",
        "\n",
        "Para un problema de tamaño $n$\n",
        "\n",
        "* Algoritmo recursivo: Este algoritmo recursivo resuelve $2^{n}$ sub-problemas.\n",
        "\n",
        "* Algoritmo bottom-up: El algoritmo bottom-up resolverá $n - 1$ sub problemas, sin contar aquel en el cual $j=n$ como uno de ellos.\n",
        "\n",
        "**Tiempo de ejecución por sub-problema:**\n",
        "\n",
        "* Algoritmo bottom-up: Por cada sub-problema de tamaño $j$, el tiempo de ejecución será $O(j)$ pues solo se debe iterar $j$ veces para poder encontrar la solución que maximice la recompensa *(Búsqueda consiste en comparación de elementos a los cuales se accede de forma directa)*\n",
        "\n",
        "\n",
        "**Tiempo de ejecución del algortimo:**\n",
        "* Algoritmo recursivo: Sea $T(n)$ el número de llamadas realizadas a `RecursiveCutRod` el tiempo de ejecución estará denotado por:\n",
        "    $T(n) = 1 + \\sum_{j = 0}^{n-1}T(j) = 2^n$\n",
        "    Siendo 1 la primera llamada y la sumatoria todas las llamadas realizadas a la función.\n",
        "\n",
        "    Por inducción..\n",
        "    $T(n) = 1 + \\sum_{j=0}^{n-1}T(j)$\n",
        "\n",
        "    $2^n = 1 + \\sum_{j=0}^{n-1}2^j$\n",
        "\n",
        "    $2^n = 1 + \\frac{2^{n+1-1}-1}{2-1}$\n",
        "\n",
        "    $2^n = 2^n$\n",
        "\n",
        "* Algoritmo bottom-up:\n",
        "    1. Declaración de $r$ y asignación de $r[0]$ => $2O(1)$\n",
        "    2. Dentro del loop que calcula los subproblemas se asignan $n$ veces valores para $q$ y $r[j]$ => $2n$\n",
        "    3. Dentro de este mismo loop observamos que por cada valor de $j$ en $1\\le j \\le n$ , se harán $j$ operaciones de costo constante => $\\sum_{j=1}^{n}j = \\frac{n(n+1)}{2}$\n",
        "\n",
        "    Por lo tanto terminamos con un tiempo de ejecución $T(n) = 2O(n) + 2n + \\frac{1}{2}\\cdot (n^2 + n) = O(n^2)$\n",
        "\n"
      ],
      "metadata": {
        "id": "f7jfFwCCO3bX"
      }
    },
    {
      "cell_type": "markdown",
      "source": [
        "#4. Correctitud\n",
        "\n",
        "---"
      ],
      "metadata": {
        "id": "nLDUjtNi0beB"
      }
    },
    {
      "cell_type": "markdown",
      "source": [
        "#### ***Teorema***\n",
        "\n",
        "El algoritmo ***Bottom-UpCutRod*** recibe un arreglo $p$ indicando el precio $p_i$ de una varilla de largo $i$, y un valor $n$ siendo el tamaño de la varilla para la cual se desea maximizar la ganancia.\n",
        "\n",
        "El algoritmo retorna la ganancia máxima que se puede recibir al vender la varilla en trozos.\n",
        "\n",
        "#### ***Prueba del teorema***\n",
        "\n",
        "Para demostrar que el algoritmo Bottom-Up es correcto se utilizará inducción.\n",
        "\n",
        "> ***Hipótesis***\n",
        ">\n",
        ">BottomUpCutRod recibe un arreglo $p$ de precios y un valor $n$ correspondiendo al tamaño optimizar, retornando la ganancia máxima.\n",
        "\n",
        "***Caso base***\n",
        "\n",
        "Para el caso base se selecciona $n=1$. Cuando la varilla es del tamaño mínimo solo hay un valor, lo que corresponde trivialmente con el retorno máximo $p_1$.\n",
        "\n",
        "***Paso inductivo***\n",
        "\n",
        "Para un sub-problema $j$ en $1\\le j < n$ se asume que los subproblemas menores que $j$ fueron resueltos de forma correcta. Por lo tanto, el arreglo $r$ contiene los retornos máximos desde el índice $j-1$ hacia atrás.\n",
        "\n",
        "Para el subproblema $j$ se recorre desde $i=1$ a $j$, buscando el retorno máximo a través de comparaciones de valores.\n",
        "\n",
        "Por cada iteración $i$ se actualizará el máximo local $q$, pudiendo tomar dos valores:\n",
        "\n",
        "* $q=q$ si $q>p[i]+r[j-i]$ \n",
        "* $q=p[i]+r[j-i]$ en caso contrario\n",
        "\n",
        "$i$ recorrerá todas las combinaciones posibles de $p[i]+r[j-i]$, siendo $p[i]$ el precio de una varilla $i$ y $r[j-i]$ siendo el retorno másimo del subproblema $j-i$, que ya fue calculado de forma correcta.\n",
        "\n",
        "Al finalizar la iteración, se tendrá habrá calculado el retorno máximo para $r[j]$ de forma correcta.\n",
        "\n",
        "Cuando $j=n$, se habrá calculado el retorno máximo del tamaño solicitado, por lo que el algoritmo es ***correcto***.\n",
        "\n"
      ],
      "metadata": {
        "id": "hWxiHBEH0A8k"
      }
    },
    {
      "cell_type": "markdown",
      "source": [
        "#5. Experimentos\n",
        "\n",
        "---"
      ],
      "metadata": {
        "id": "PGkY4xSJocPd"
      }
    }
  ]
}
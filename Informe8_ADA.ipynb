{
  "nbformat": 4,
  "nbformat_minor": 0,
  "metadata": {
    "colab": {
      "provenance": [],
      "authorship_tag": "ABX9TyPZcN6MZIBu48gPua63Lwir",
      "include_colab_link": true
    },
    "kernelspec": {
      "name": "python3",
      "display_name": "Python 3"
    },
    "language_info": {
      "name": "python"
    }
  },
  "cells": [
    {
      "cell_type": "markdown",
      "metadata": {
        "id": "view-in-github",
        "colab_type": "text"
      },
      "source": [
        "<a href=\"https://colab.research.google.com/github/AntoniaAcevedo/ADA-Informe/blob/main/Informe8_ADA.ipynb\" target=\"_parent\"><img src=\"https://colab.research.google.com/assets/colab-badge.svg\" alt=\"Open In Colab\"/></a>"
      ]
    },
    {
      "cell_type": "markdown",
      "source": [
        "# 1. Problema: Árbol binario de búsqueda óptimo\n",
        "---"
      ],
      "metadata": {
        "id": "8WxhRljTUx1-"
      }
    },
    {
      "cell_type": "markdown",
      "source": [
        "**Entrada**: *Una secuencia $K = {k_1, k_2.. k_n}$ de $n$ claves distintas y ordenadas de forma que $k_1 < k_2.. < k_n$, para el cual cada valor $k$ está asociado a una probabilidad $p_i$ de ser buscada. Además, se entregan claves ficticias $d_i$ con probabilidades $q_i$ de ser buscadas, siendo la suma de todas las probabilidades $p_i$ y $q_i$ igual a $1$*\n",
        "\n",
        "**Salida**: *Construcción de un árbol de búsqueda óptimo de $n$ elementos que minimice la cantidad esperada de nodos visitados.*\n",
        "\n",
        "![image](https://upload.wikimedia.org/wikipedia/commons/thumb/c/c0/Insertar.svg/800px-Insertar.svg.png)\n",
        "---"
      ],
      "metadata": {
        "id": "1sJvUzi2Syqe"
      }
    },
    {
      "cell_type": "markdown",
      "source": [
        "# 2. Descripción del Algoritmo\n",
        "---"
      ],
      "metadata": {
        "id": "9ISHRfcOWnde"
      }
    },
    {
      "cell_type": "markdown",
      "source": [
        "\n",
        "\n",
        "▹ Un **árbol binario de búsqueda** corresponde a una estructura conformada por nodos (que normalmente tiene asociada un valor \"*key*\"). Estos siempre tienen una raíz, subárbol izquierdo y derecho, donde en el lado izquierdo corresponden a los nodos con valor menor a la raíz y el lado derecho corresponden a lo nodos con valor mayor a la raíz.\n",
        "\n",
        "> ![image](https://w7.pngwing.com/pngs/591/837/png-transparent-tree-traversal-binary-search-tree-binary-tree-mlm-binary-family-tree-angle-white-text.png)\n",
        "\n",
        "▹ Pero, con el **árbol binario de búsqueda óptimo** se busca organizar el árbol de tal manera que minimice la cantidad de nodos visitados cuando se realice la búsqueda de alguna palabra.\n",
        "\n",
        "> ![image](https://programmerclick.com/images/944/246e43dd815623752cb37b8339985598.JPEG)\n",
        "\n",
        "Para implementar esta solución podemos realizarla de distintas formas, es por esto que aquí se implementará las siguientes soluciones:\n",
        "\n",
        "- Forma Recursiva\n",
        "- Acercamiento Bottom-Up\n",
        "\n",
        "Donde se mostrará el costo esperado y la imagen del árbol correspodiente a la entrada entregada."
      ],
      "metadata": {
        "id": "vIi2gwb4VyMH"
      }
    },
    {
      "cell_type": "code",
      "execution_count": null,
      "metadata": {
        "id": "1cqM7wAu4pzv"
      },
      "outputs": [],
      "source": []
    },
    {
      "cell_type": "markdown",
      "source": [
        "#3. Tiempo de ejecución\n",
        "---"
      ],
      "metadata": {
        "id": "VBMY3LbySQ90"
      }
    },
    {
      "cell_type": "markdown",
      "source": [
        "## **3.1 Tiempo de ejecución**\n",
        "\n",
        "### ***3.1.1 Subproblemas según entrada***\n",
        "\n",
        "### *Versión dinámica*\n",
        "\n",
        "Basta con observar la forma en que se rellena la matriz.\n",
        "\n",
        "Las matrices, sin contar la fila nula en la implementación utilizada, son cuadradas. De esta matriz, solo la mitad se rellena con resultados *(Desde la diagonal hacia arriba)*\n",
        "\n",
        "Por lo tanto, la cantidad de subproblemas a resolver en función de la entrada es :\n",
        "\n",
        "<center>\n",
        "\n",
        "$n^2-\\frac{n(n-1)}{2}$\n",
        "\n",
        "</center>\n",
        "\n",
        "Siendo $n^2$ el total de posiciones disponibles en la matriz cuadrada y $\\frac{n(n-1)}{2}$ las posiciones de la región inferior a la diagonal, que no se utilizan.\n",
        "\n",
        "Ejemplo: \n",
        "\n",
        "Para $n = 3$ la cantidad de problemas a resolver será $6$, para $n = 10$ serán $55$ y para $n = 22$ serán $253$\n",
        "\n",
        "#### ***3.1.2 Tiempo de ejecución***\n",
        "\n",
        "### *Versión recursiva*\n",
        "\n",
        "#### ***Teorema***\n",
        "\n",
        "El algoritmo bottom-up para el problema del árbol binario de búsqueda óptimo resuelve el problema en un tiempo de ejecución $O(n^3)$\n",
        "\n",
        "Esto se debe a que hay un total del n^2 sub\n",
        "\n",
        "#### ***Prueba***\n",
        "\n",
        "Para comprobar el tiempo de ejecución basta con revisar el pseudocódigo del algoritmo:\n",
        "\n",
        "* El primer loop en la línea $7$  itera $n$ veces\n",
        "* Dentro de este, el segundo loop itera, a lo más, n veces\n",
        "* El último loop itera nuevamente n veces a lo más\n",
        "\n",
        "Lo que resulta en un tiempo de ejecución de $O(n)$\n",
        "\n",
        "####***3.1.3 Complejidad espacial***\n",
        "\n",
        "#### *Versión recursiva*\n",
        "\n",
        "Sin considerar la lista utilizada para guardar los nodos y sus parenteszcos en esta implementación, el algoritmo recursivo tiene una complejidad espacial constante. No necesita ni almacena infromación extra a medida de que va resolviendo subproblemas, por lo que su complejidad espacial es de $O(1)$\n",
        "\n",
        "---\n",
        "\n",
        "#### *Versión bottom-up*\n",
        "\n",
        "La solución dinámica bottom-up tiene una complejidad espacial de $O(n^2)$.\n",
        "\n",
        "Esto se debe a las tres matrices $e$, $w$, y $root$ que almacenan la infromación, de tamaños $(n+1)^2$, $(n+1)^2$ y $n^2$, respectivamente.\n",
        "\n",
        "Para valores de $n$ muy grandes, la expresión $2(n+1)^2 + n^2 = 3n^2 + 4n + 2$ se reduce a $O(n^2)$\n",
        "\n",
        "---\n"
      ],
      "metadata": {
        "id": "9eJ7aGzKSR21"
      }
    },
    {
      "cell_type": "markdown",
      "source": [
        "#4. Correctitud\n",
        "\n",
        "---"
      ],
      "metadata": {
        "id": "53TFCYEbSBUV"
      }
    },
    {
      "cell_type": "markdown",
      "source": [
        "## Correctitud del algoritmo bottom-up\n",
        "\n",
        "A continuación, se presentarán una serie de pasos con tal de demostrar que el algoritmo bottom-up es correcto.\n",
        "\n",
        "### *a)* ***Subestructura óptima***\n",
        "\n",
        "Sea un subárbol cualquiera del árbol binario de búsqueda $T$ que contenga claves el un rango $k_i...k_j$ con $1 \\le i \\le j \\le n$.  Además, conteniendo las claves ficticias $d_{i-1}... d_j$. Si el árbol $T$ es óptimo y si contiene un subárbol $T'$ con las claves $k_i...k_j$, entonces este subárbol también debe ser óptimo para sus claves reales y ficticias. \n",
        "\n",
        "Esto se argumenta al observar que si se encontrase cualquier otro subárbol $T''$ con un costo menor que $T'$ si se cortase y remplazaa $T''$ en $T$, el costo del árbol total sería menor, incumpliendo con la declaración anterior de que $T$ era óptimo desde un inicio.\n",
        "\n",
        "Para el subárbol $T'$, una de las claves $k_r \\in i\\le r\\le j$ es la raíz del subárbol. El subárbol izquierdo contendrá las claves $k_i..k_{r-1}$ más las claves fuccticias $d_{i-1}...d_{r-1}$. mientras que el derecho las claves $k_{r+1}..k_{j}$ más las claves fuccticias $d_{r}...d_{j}$.\n",
        "\n",
        "Dada esta información, una vez que se haya examinado todos los candidatos a raíz y a partir de esta, determinado todos los árboles óptimos para sus subárboles, se garantiza encontrar el árbol binario de búsqueda óptimo. El problema se reduce a encontrar el subárbol óptimo para arboles más pequeños.\n",
        "\n",
        "<img src='https://i.imgur.com/cBt3K5I.png'>\n",
        "\n",
        "### *b)* ***Solución recursiva***\n",
        "\n",
        "Nuestro problema es encontrar el subárbol óptimo conteniendo las claves $k_i..k_j$ donde $i \\ge 1$, $j \\le n$ y $j \\ge i-1$\n",
        "\n",
        "Se define $e[i, j]$ como el costo esperado de buscar en un árbol de búsqueda óptimo conteniendo las claves $k_i..k_j$ con el objetivo final de encontrar $e[1, n]$\n",
        "\n",
        "Cuando $j = i-1$, el subárbol solo contiene la clave ficticia $d_{i-1}$. El costo esperado es $e[i, i-1] = q_{i-1}$\n",
        "\n",
        "Cuando $j\\ge i$, se tiene que legir una raíz $r$ entre las diferentes $k$ claves disponibles, separando en subárboles en la forma que ya se mencionó anteriormente. \n",
        "\n",
        "Se observa que el costo esperado de un subárbol, cuando se vuelve un subárbol de un nodo, la profundidad de cada nodo incrementa en una unidad.\n",
        "\n",
        "Se denota la suma de probabiliadades como:\n",
        "\n",
        "$w(i, j) = \\sum_{l = i}^{j}p_l + \\sum_{l = i-1}^{j}q_l$\n",
        "\n",
        "Por lo que si $k_r$ es la raíz de un subárbol óptimo para esas claves, tenemos:\n",
        "\n",
        "$e[i, j] = p_r + (e[i, r-1] + w(i, r-1)) + (e[r+1, j] + w(r+1, j))$\n",
        "\n",
        "Se reescribe como:\n",
        "\n",
        "$e[i, j] = e[i, r-1] + e[r+1, j] + w(i, j)$\n",
        "\n",
        "Esta ecuación asume que sabemos que nodo $k_r$ usar como raíz. Para enconrtrar el árbol de menor costo, terminamos con la ecuacón:\n",
        "\n",
        "$e[i, j] = \\begin{cases}\n",
        "  q_{i-1}  & n j = i - 1 \\\\\n",
        "  \\min\\limits_{i \\le r \\le j} (e[i, r-1] + e[r+1, j] + w(i, j))& \\text{si $i\\le j$}\n",
        "\\end{cases}$ \n",
        "\n",
        "### *c)* ***Correctitud del algoritmo bottom-up***\n",
        "\n",
        "#### ***Teorema***\n",
        "\n",
        "El algoritmo bottom-up resuelve el problema del árbol binario de búsqueda óptimo para un conjunto de $n$ claves con índices $k_1.. k_n$\n",
        "\n",
        "#### ***Prueba del Teorema***\n",
        "\n",
        "Se utilizará *inducción* para probar el teorema\n",
        "\n",
        "**Hipótesis:**\n",
        "\n",
        "El algoritmo bottom-up resuelve cada subproblema en base a la función recurrente y los subproblemas más pequeños calculados para un conjunto de claves $k_i... k_j$\n",
        "\n",
        "**Caso base**\n",
        "\n",
        "Para el caso base $n = 0$ no hay elementos en el subárbol, es decir $j = i-1$. Se cumple la declaración de forma trivial:\n",
        "\n",
        "$e[i, j] = \\begin{cases}\n",
        "  q_{i-1}  & j = i - 1 \\\\\n",
        "  \\min\\limits_{i \\le r \\le j} (e[i, r-1] + e[r+1, j] + w(i, j))& \\text{si $i\\le j$}\n",
        "\\end{cases}$ \n",
        "\n",
        "\n",
        "\n",
        "**Paso inductivo**\n",
        "\n",
        "Para un subproblema de tamaño $n$ con claves $k_i.. k_j$ se asume que los problemas anteriores $n-1, n-2, ... 0$ han sido resueltos de forma correcta. Por lo tanto, se conoce el rango de índices $k_i.. k_j$ y la raíz $k_r$ que las conforman.\n",
        "\n",
        "Se recorre cada candidato a raíz $k_r$, calculando a través de los resultados anteriormente calculados los valores candidato para el costo minímo del problema, actualizando $t =$ $costo$ $arbol$ $izquierdo$ + $costo$ $arbol$ $derecho$ + $suma$ $frecuencias$ como corresponda.\n",
        "\n",
        "Al recorrer todas las distribuciones de $k_r$ posibles, se asegura que se encontrará el valor óptimo para el problema\n",
        "\n",
        "### *d)* ***Volviendo al problema original***\n",
        "\n",
        "Para el problema original, bastará con calcular e[1, n] con todos los valores anteriores calculados.\n"
      ],
      "metadata": {
        "id": "4CZFT3RSR7v-"
      }
    },
    {
      "cell_type": "markdown",
      "source": [
        "#5. Experimentos\n",
        "\n",
        "---"
      ],
      "metadata": {
        "id": "VuoWYdBXSrMs"
      }
    }
  ]
}
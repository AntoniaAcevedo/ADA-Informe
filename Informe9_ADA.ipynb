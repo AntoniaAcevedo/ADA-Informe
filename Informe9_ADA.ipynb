{
  "nbformat": 4,
  "nbformat_minor": 0,
  "metadata": {
    "colab": {
      "provenance": [],
      "collapsed_sections": [],
      "authorship_tag": "ABX9TyOVXeGs7yesPbDBfVA6kLg4",
      "include_colab_link": true
    },
    "kernelspec": {
      "name": "python3",
      "display_name": "Python 3"
    },
    "language_info": {
      "name": "python"
    }
  },
  "cells": [
    {
      "cell_type": "markdown",
      "metadata": {
        "id": "view-in-github",
        "colab_type": "text"
      },
      "source": [
        "<a href=\"https://colab.research.google.com/github/AntoniaAcevedo/ADA-Informe/blob/main/Informe9_ADA.ipynb\" target=\"_parent\"><img src=\"https://colab.research.google.com/assets/colab-badge.svg\" alt=\"Open In Colab\"/></a>"
      ]
    },
    {
      "cell_type": "markdown",
      "source": [
        "# 1. Problema de optimizacion\n",
        "\n",
        "---\n",
        "**Entrada**: Un valor $W$ como capacidad maxima de la mochila, un arreglo $[a1,a2,a3,...,an]$ con los valores de $n$ objetos y un arreglo $[wt1,wt2,wt3,...,wtn]$ con los pesos de $n$ objetos.\n",
        "\n",
        "**Salida**: Un conjunto de objetos que maximizan el valor total alcanzable.\n",
        "\n",
        "![image](https://upload.wikimedia.org/wikipedia/commons/thumb/f/fd/Knapsack.svg/1200px-Knapsack.svg.png)\n"
      ],
      "metadata": {
        "id": "d0mjApmOm-1H"
      }
    },
    {
      "cell_type": "markdown",
      "source": [
        "# 2. KnapsackProblem\n",
        "\n",
        "---\n",
        "El siguiente código muestra una implementación del algoritmo **Del Problema de la mochila**."
      ],
      "metadata": {
        "id": "uJaFzhtcm-re"
      }
    },
    {
      "cell_type": "markdown",
      "source": [
        "##2.1 Codigo\n",
        "\n",
        "----"
      ],
      "metadata": {
        "id": "dsaPSkSYm-kG"
      }
    },
    {
      "cell_type": "markdown",
      "source": [
        "###**Dinamica**"
      ],
      "metadata": {
        "id": "MwOHOcnAcsp9"
      }
    },
    {
      "cell_type": "code",
      "source": [
        "def knapSack(W, wt, a, n):\n",
        " \n",
        "    if n == 0 or W == 0:\n",
        "        return 0\n",
        "    if (wt[n-1] > W):\n",
        "        return knapSack(W, wt, a, n-1)\n",
        "    else:\n",
        "        return max(a[n-1] + knapSack(W-wt[n-1], wt, a, n-1),knapSack(W, wt, a, n-1))\n",
        "  #guardar los subproblemas en un arreglo \n",
        "a = [60, 100, 120]\n",
        "wt = [10, 20, 30]\n",
        "W = 50\n",
        "n = len(a)\n",
        "print (knapSack(W, wt, a, n))"
      ],
      "metadata": {
        "colab": {
          "base_uri": "https://localhost:8080/"
        },
        "id": "udm06UTYYvky",
        "outputId": "51de4338-52a2-4273-d936-29106b72bffa"
      },
      "execution_count": null,
      "outputs": [
        {
          "output_type": "stream",
          "name": "stdout",
          "text": [
            "220\n"
          ]
        }
      ]
    },
    {
      "cell_type": "markdown",
      "source": [
        "###**Greedy**"
      ],
      "metadata": {
        "id": "uQUmTSdgYwSJ"
      }
    },
    {
      "cell_type": "code",
      "source": [
        "class Item:\n",
        "    def __init__(self, value, weight):\n",
        "        self.value = value\n",
        "        self.weight = weight\n",
        "\n",
        "def fractionalKnapsack(W, arr):\n",
        "    arr.sort(key=lambda x: (x.value/x.weight), reverse=True)   \n",
        "    finalvalue = 0.0\n",
        "    for item in arr:\n",
        "        if item.weight <= W:\n",
        "            W -= item.weight\n",
        "            finalvalue += item.value\n",
        "        else:\n",
        "            finalvalue += item.value * W / item.weight\n",
        "            break\n",
        "    return finalvalue\n",
        "\n",
        "if __name__ == \"__main__\":\n",
        " \n",
        "    W = 50\n",
        "    arr = [Item(60, 10), Item(100, 20), Item(120, 30)]\n",
        "    max_val = fractionalKnapsack(W, arr)\n",
        "    print(max_val)"
      ],
      "metadata": {
        "colab": {
          "base_uri": "https://localhost:8080/"
        },
        "id": "p1FRVmMrckIC",
        "outputId": "84bfa05b-e1d5-4a39-f586-952d05598b13"
      },
      "execution_count": null,
      "outputs": [
        {
          "output_type": "stream",
          "name": "stdout",
          "text": [
            "240.0\n"
          ]
        }
      ]
    },
    {
      "cell_type": "markdown",
      "source": [
        "##2.2 Descripcion del algoritmo\n",
        "\n",
        "---"
      ],
      "metadata": {
        "id": "_JW2Aq1qm-ZF"
      }
    },
    {
      "cell_type": "markdown",
      "source": [
        "###**Dinamica**"
      ],
      "metadata": {
        "id": "IXB1JLA-cwrm"
      }
    },
    {
      "cell_type": "markdown",
      "source": [
        "Recibe un valor $W$ como capacidad maxima de la mochila y dos arreglos con valores $(a)$ y pesos $(wt)$ de los $n$ objetos.\n",
        "\n",
        "Su funcionamiento es el siguiente:\n",
        "1. Crear una matriz `k` con `n + 1` filas y `W + 1` columnas para almacenar los valores maximos de cada subproblema.\n",
        "\n",
        "2. Recorrer matriz con indices `i = [0,n]` para cada fila y `j = [0,W]` para cada columna. Inicializar las posiciones de la primera fila y la primera columna como `0`.\n",
        "\n",
        "3. Si el arreglo de pesos en la posicion `i - 1` es menor o igual al valor de `j`, entonces `k[i][j]` sera el maimo entre la suma de `a[i - 1] + k[i - 1][j - wt[i - 1]]` y `k[i - 1][j]`. En caso contrario, tomara el valor de este ultimo.\n",
        "\n",
        "4. Se almacena el valor de `k[n][W]` en una variable `res`. Luego, se creara un arreglo vacio `arr`. Se parte recorriendo la matriz otra vez visitando cada posicion de la ultima columna de abajo hacia arriba, partiendo de `k[n][W]`.\n",
        "\n",
        "5. Mientras `res` sea mayor a `0`, se cumple que si `res` es igual a `k[i - 1][j]`, se ignora la instancia. De lo contrario se inserta `i - 1` al arreglo recientemente creado, `res` disminuye en `a[i - 1]`y `j`disminuye en `wt[i - 1]`.\n",
        "\n",
        "6. Terminando el proceso, se retorna `arr`.\n",
        "---"
      ],
      "metadata": {
        "id": "gvGKX1kRc6CW"
      }
    },
    {
      "cell_type": "markdown",
      "source": [
        "### **Greedy**\n"
      ],
      "metadata": {
        "id": "J7un9baeczgQ"
      }
    },
    {
      "cell_type": "markdown",
      "source": [
        "Recibe un valor $W$ como capacidad macima de la mochila, un valor $n$ como la cantidad de objetos y dos arreglos con los valores $(a)$ y pesos $(wt)$ de los $n$ objetos.\n",
        "\n",
        "Su funcionamiento es el siguiente:\n",
        "1. Se crea un arreglo vacio `arr` que almacenara los objetos a guardar/robar. Luego, ordenamos todos los objetos en base a un factor valor-peso, es decir, `valor/peso`.\n",
        "2. Recorremos arreglo de pesos con un indice `i` desde 0 hasta `n - 1`. Si `wt[i]` es menor o igual a `W`, entonces se insertara el objeto numero `i + 1` en nuestro arreglo previamente creado y `W` disminute en `wt[i]`.\n",
        "3. Retornamos el arreglo `arr`."
      ],
      "metadata": {
        "id": "Sdou5djGc5tM"
      }
    },
    {
      "cell_type": "markdown",
      "source": [
        "#3. Tiempo de ejecución\n",
        "---"
      ],
      "metadata": {
        "id": "RQm7ZNXwm-Pu"
      }
    },
    {
      "cell_type": "markdown",
      "source": [
        "###**Dinamica**"
      ],
      "metadata": {
        "id": "rtRbhsoPjtSO"
      }
    },
    {
      "cell_type": "markdown",
      "source": [
        "----#### **Tiempo de ejecución para algoritmo bottom-up**\n",
        "\n",
        "Para determinar el tiempo de ejecución hay que observar el funcionamiento del algoritmo.\n",
        "\n",
        "> Se declara y rellena de 0 una matriz de tamaño $n\\cdot w$, siendo $n$ la cantidad de claves disponibles y $w$ la capacidad máxima para el problema. $= O(n\\cdot w)$\n",
        ">\n",
        "> Se observa la existencia de dos ciclos $n$ y $w$  anidados, cada uno corrspondiendo a la cantidad de items disponibles y la capacidad máxima para el problema, respectivamente. $= O(n\\cdot w)$\n",
        ">\n",
        ">Dentro de estos ciclos se realizan operaciones de coste contante *(Acceso a matrices, sumas y comparaciones de dos elementos)* $= O(1)$\n",
        "\n",
        "Por lo tanto, gracias a la matriz de valores, el tiempo de ejecución es de ***$O(n\\cdot w)$***\n",
        "\n",
        "<br>\n",
        "\n",
        "---"
      ],
      "metadata": {
        "id": "esl9zOP_j0u1"
      }
    },
    {
      "cell_type": "markdown",
      "source": [
        "### **Greedy**"
      ],
      "metadata": {
        "id": "HOLDpb9PjwUT"
      }
    },
    {
      "cell_type": "markdown",
      "source": [
        "#### ***Tiempo de ejecución para algoritmo greedy***\n",
        "\n",
        "Para determinar el tiempo de ejecución del acercamiento greedy hay que observar las operaciones que realiza el algoritmo:\n",
        "\n",
        "> Declaracion de un arreglo $= O(1)$\n",
        ">\n",
        "> Cálculo de valor por unidad de peso $= O(n)$\n",
        ">\n",
        "> Orden de los valores $= O(n\\cdot log{n})$\n",
        ">\n",
        "> Declaración variables para almacenar información relevante $= 3\\cdot O(1)$\n",
        ">\n",
        "> Iterar por el arreglo de indices de tamaño $n$ para agregar los valores : $=O(n)$\n",
        ">\n",
        "> Por cada iteración, se realizan 3 operaciones de costo constante $=3\\cdot O(1)$\n",
        "\n",
        "Terminamos con la siguiente expresión: $(2 + n)\\cdot O(1) + O(n\\cdot \\log{n}) + O(n) = O(n\\cdot \\log{n})$\n",
        "\n",
        "Por lo tanto, el tiempo de ejecución de algortimo será de ***$O(n\\cdot \\log{n}$***), principalmente dado al ordenamiento que hay que realizar.\n"
      ],
      "metadata": {
        "id": "DNsE5CJ8j1S_"
      }
    },
    {
      "cell_type": "markdown",
      "source": [
        "#4. Correctitud\n",
        "\n",
        "---\n"
      ],
      "metadata": {
        "id": "a3lf7O1smNFI"
      }
    },
    {
      "cell_type": "markdown",
      "source": [
        "###**Dinamica**"
      ],
      "metadata": {
        "id": "iYLVscQyj2Ch"
      }
    },
    {
      "cell_type": "markdown",
      "source": [
        "\n",
        "### **Teorema *(Correctitud)***\n",
        "\n",
        "El algoritmo `dynamic_knapsack` retorna al máximo valor posible dado dos arreglos $p_i$ de precios y $w_i$ de pesos y una capacidad máxima $W$, siendo este valor máximo la suma de los valores de cada elemento para un subgrupo que cumpla con la capacidad máxima de peso.\n",
        "\n",
        "### **Prueba del Teorema**\n",
        "\n",
        "Se utilizará inducción para probar el teorema. \n",
        "\n",
        "#### ***Hipotesis***: \n",
        "\n",
        "Se dice que un par $(i, j)$ es menor a $(i', j')$ si $i < i'$ o $i = i'$ y $j < j'$.\n",
        "\n",
        "El algoritmo es correcto para todos los valores de $values[i, j]$ donde $(i, j) < (i', j')$. Es decir, todos los elementos previos son correctos\n",
        "\n",
        "<center>\n",
        "\n",
        "<img src='https://www.gatevidyalay.com/wp-content/uploads/2018/03/Knapsack-Problem-Using-Dynamic-Programming-Problem-01-Solution-Step-02.png'>\n",
        "\n",
        "</center>\n",
        "\n",
        "Por ejemplo para el elemento en posición $[2,5]$, todos los elementos atrás y arriba de este serían problemas resueltos de forma correcta.\n",
        "\n",
        "#### ***Caso Base***\n",
        "\n",
        "$table[i, 0] = table[0,j] = 0$ para todo $i,j$. Esto se debe que no hay elementos o no hay capacidad, por lo que los subproblemas son correctos.\n",
        "\n",
        "#### ***Paso inductivo***\n",
        "\n",
        "Al calcular un valor $table[i', j']$, se tiene por inducción que todo subproblema menor ha sido resuelto de forma correcta. Por lo tanto, los valores $table[i'-1, j']$ y $table[i'-1, j'-w_{i'}]$ son correctos.\n",
        "\n",
        "Para calcular el valor óptimo para el par de índices $(i', j')$ se considera la siguiente expresión : $max(table[i'-1, j'],  table[i'-1, j'-w_{i'}] + p_{i'})$, siendo el primer término aquel que no considera el elemento a agregar y el segundo, el que si.\n",
        "\n",
        "Dado est el valor de $table[i', j']$ es correcto.\n",
        "\n",
        "Cuando se tenga calculado $table[i, j]$ con $i = n$ y $j = W$, siendo $n$ y $W$ todas las claves y la capacidadoriginal del problema, se tendrá la solución correcta para el algoritmo.\n",
        "\n",
        "<br>\n",
        "\n",
        "---\n",
        "\n",
        "<br>\n"
      ],
      "metadata": {
        "id": "G5XU0IqKj6c1"
      }
    },
    {
      "cell_type": "markdown",
      "source": [
        "### **Greedy**"
      ],
      "metadata": {
        "id": "LSAvZh_kj2vj"
      }
    },
    {
      "cell_type": "markdown",
      "source": [
        "\n",
        "#### **Caso del algoritmo greedy**\n",
        "\n",
        "El algoritmo greedy no funciona en todas las ocasiones porque no siempre la solución óptima incluye el elemento de mayor valor por peso. El agregar elementos de esta forma puede provocar que espacio quede inutilizado a la hora de intentar calcular el máximo posible,\n",
        "\n",
        "Una de estas situaciones fue representada en la implementación del algoritmo."
      ],
      "metadata": {
        "id": "PMbXaSy3j6Bl"
      }
    }
  ]
}
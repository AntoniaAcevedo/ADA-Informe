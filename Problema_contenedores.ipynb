{
  "nbformat": 4,
  "nbformat_minor": 0,
  "metadata": {
    "colab": {
      "provenance": [],
      "include_colab_link": true
    },
    "kernelspec": {
      "name": "python3",
      "display_name": "Python 3"
    },
    "language_info": {
      "name": "python"
    }
  },
  "cells": [
    {
      "cell_type": "markdown",
      "metadata": {
        "id": "view-in-github",
        "colab_type": "text"
      },
      "source": [
        "<a href=\"https://colab.research.google.com/github/AntoniaAcevedo/ADA-Informe/blob/main/Problema_contenedores.ipynb\" target=\"_parent\"><img src=\"https://colab.research.google.com/assets/colab-badge.svg\" alt=\"Open In Colab\"/></a>"
      ]
    },
    {
      "cell_type": "markdown",
      "source": [
        "# Estructura del Layout"
      ],
      "metadata": {
        "id": "thgYmTjv9GJz"
      }
    },
    {
      "cell_type": "code",
      "execution_count": 18,
      "metadata": {
        "id": "TDqgWRZv9BQV"
      },
      "outputs": [],
      "source": [
        "def compute_sorted_elements(stack):\n",
        "    if len(stack)==0: return 0\n",
        "    sorted_elements=1\n",
        "    while(sorted_elements<len(stack) and stack[sorted_elements] <= stack[sorted_elements-1]):\n",
        "        sorted_elements +=1\n",
        "    \n",
        "    return sorted_elements   \n",
        "    \n",
        "class Layout:\n",
        "    def __init__(self, stacks, H):\n",
        "        self.stacks = stacks\n",
        "        self.sorted_elements = [] #for each stack\n",
        "\n",
        "        self.steps = 0\n",
        "        self.moves = []\n",
        "\n",
        "        self.H = H\n",
        "        self.G=max(set().union(*stacks))\n",
        "        self.S=len(stacks)\n",
        "        self.N = 0\n",
        "        \n",
        "        j=0\n",
        "        \n",
        "        for stack in stacks:\n",
        "            self.N += len(stack)\n",
        "            self.sorted_elements.append(compute_sorted_elements(stack))\n",
        "            j += 1\n",
        "    \n",
        "    def __str__(self):\n",
        "      _str = \"\"\n",
        "      for k in range(len(self.stacks)):\n",
        "        _str+= \"stack \"+ str(k)+\": \"+str(self.stacks[k])+\"\\n\"\n",
        "      return _str\n",
        "\n",
        "    def is_valid_move(self, move):\n",
        "      i = move[0]; j=move[1]\n",
        "      if i==j: return False\n",
        "      if len(self.stacks[i]) == 0: return False\n",
        "      if len(self.stacks[j]) == self.H: return False\n",
        "\n",
        "      return True\n",
        "\n",
        "    def move(self,move):\n",
        "        i = move[0]; j=move[1]\n",
        "        \n",
        "        if self.is_valid_move(move)==False: return None\n",
        "\n",
        "               \n",
        "        c = self.stacks[i][-1]\n",
        "\n",
        "        if self.is_sorted(i): \n",
        "          self.sorted_elements[i] -= 1\n",
        "            \n",
        "        if self.is_sorted(j) and self.g(j) >= c:\n",
        "            self.sorted_elements[j] += 1\n",
        "\n",
        "            \n",
        "        self.stacks[i].pop(-1)\n",
        "        self.stacks[j].append(c)\n",
        "        \n",
        "        self.is_sorted(i)\n",
        "        self.is_sorted(j)\n",
        "        self.steps += 1\n",
        "        self.moves.append((i,j))\n",
        "        \n",
        "        return c\n",
        "                       \n",
        "    def is_sorted(self, j):\n",
        "        sorted = len(self.stacks[j]) == self.sorted_elements[j]\n",
        "        return sorted\n",
        "\n",
        "    def g(self, i):\n",
        "        if len(self.stacks[i])==0: return self.G\n",
        "        else: return self.stacks[i][-1]\n",
        "\n",
        "    def bad_placed_elements(self):\n",
        "      return self.N - sum(self.sorted_elements)"
      ]
    },
    {
      "cell_type": "markdown",
      "source": [
        "# Ejemplo"
      ],
      "metadata": {
        "id": "RTn13lVm-3U4"
      }
    },
    {
      "cell_type": "code",
      "source": [
        "lay = Layout([[8],[6, 10, 7],[9, 1, 3],[6, 5],[8]],H=5)\n",
        "\n",
        "#stacks\n",
        "for i in range(lay.S):\n",
        "  print(\"stack\",i,\":\")\n",
        "  print(lay.stacks[i])\n",
        "  if lay.is_sorted(i): \n",
        "    print(\"El stack está ordenado\")\n",
        "  else: \n",
        "    print(\"El stack está desordenado\")\n",
        "  print(\"El top del stack es\", lay.g(i))\n",
        "  print()\n",
        "\n"
      ],
      "metadata": {
        "colab": {
          "base_uri": "https://localhost:8080/"
        },
        "id": "FIL37I_v9P81",
        "outputId": "1e13dcba-3006-4ae5-bace-85e70b1c8609"
      },
      "execution_count": 19,
      "outputs": [
        {
          "output_type": "stream",
          "name": "stdout",
          "text": [
            "stack 0 :\n",
            "[8]\n",
            "El stack está ordenado\n",
            "El top del stack es 8\n",
            "\n",
            "stack 1 :\n",
            "[6, 10, 7]\n",
            "El stack está desordenado\n",
            "El top del stack es 7\n",
            "\n",
            "stack 2 :\n",
            "[9, 1, 3]\n",
            "El stack está desordenado\n",
            "El top del stack es 3\n",
            "\n",
            "stack 3 :\n",
            "[6, 5]\n",
            "El stack está ordenado\n",
            "El top del stack es 5\n",
            "\n",
            "stack 4 :\n",
            "[8]\n",
            "El stack está ordenado\n",
            "El top del stack es 8\n",
            "\n"
          ]
        }
      ]
    },
    {
      "cell_type": "markdown",
      "source": [
        "### Movimientos"
      ],
      "metadata": {
        "id": "GdIfSujHCSEe"
      }
    },
    {
      "cell_type": "code",
      "source": [
        "#Imprimimos los movimientos\n",
        "\n",
        "for i in range(len(lay.stacks)):\n",
        "  for j in range(len(lay.stacks)):\n",
        "    if i==j: continue\n",
        "    move = (i,j)\n",
        "    valid = lay.is_valid_move(move)\n",
        "    if valid==False: \n",
        "      print(\"El movimiento \", move, \"no es válido\")\n",
        "      continue\n",
        "    \n",
        "    if lay.is_sorted(i) and lay.is_sorted(j) and lay.g(i)<=lay.g(j):\n",
        "      print(\"El movimiento\", move, \"es bueno-bueno\")\n",
        "    elif not lay.is_sorted(i) and lay.is_sorted(j) and lay.g(i)<=lay.g(j):\n",
        "      print(\"El movimiento\", move, \"es malo-bueno\")\n",
        "    elif not lay.is_sorted(i) and (not lay.is_sorted(j) or (lay.is_sorted(j) and lay.g(i)>lay.g(j))) :\n",
        "      print(\"El movimiento\", move, \"es malo-malo\")\n",
        "    else:\n",
        "      print(\"El movimiento\", move, \"es bueno-malo\")"
      ],
      "metadata": {
        "colab": {
          "base_uri": "https://localhost:8080/"
        },
        "id": "rkF4k0n9_LyP",
        "outputId": "c9f6f95b-0a72-4750-9e6a-19e07bae3d4d"
      },
      "execution_count": 20,
      "outputs": [
        {
          "output_type": "stream",
          "name": "stdout",
          "text": [
            "El movimiento (0, 1) es bueno-malo\n",
            "El movimiento (0, 2) es bueno-malo\n",
            "El movimiento (0, 3) es bueno-malo\n",
            "El movimiento (0, 4) es bueno-bueno\n",
            "El movimiento (1, 0) es malo-bueno\n",
            "El movimiento (1, 2) es malo-malo\n",
            "El movimiento (1, 3) es malo-malo\n",
            "El movimiento (1, 4) es malo-bueno\n",
            "El movimiento (2, 0) es malo-bueno\n",
            "El movimiento (2, 1) es malo-malo\n",
            "El movimiento (2, 3) es malo-bueno\n",
            "El movimiento (2, 4) es malo-bueno\n",
            "El movimiento (3, 0) es bueno-bueno\n",
            "El movimiento (3, 1) es bueno-malo\n",
            "El movimiento (3, 2) es bueno-malo\n",
            "El movimiento (3, 4) es bueno-bueno\n",
            "El movimiento (4, 0) es bueno-bueno\n",
            "El movimiento (4, 1) es bueno-malo\n",
            "El movimiento (4, 2) es bueno-malo\n",
            "El movimiento (4, 3) es bueno-malo\n"
          ]
        }
      ]
    },
    {
      "cell_type": "markdown",
      "source": [
        "## Resolución paso a paso (ejemplo)"
      ],
      "metadata": {
        "id": "gpd0QY79GzCQ"
      }
    },
    {
      "cell_type": "code",
      "source": [
        "# Ejemplo de resolución paso a paso\n",
        "lay = Layout([[8],[6, 10, 7],[9, 1, 3],[6, 5],[8]],H=5)\n",
        "print(lay)\n",
        "print(\"Elementos mal ubicados:\", lay.bad_placed_elements())\n",
        "print(\"Pasos realizados:\", lay.steps)"
      ],
      "metadata": {
        "colab": {
          "base_uri": "https://localhost:8080/"
        },
        "id": "nSA4r0TgDZDG",
        "outputId": "da724cc6-d848-4c47-ec9c-deef08f6681a"
      },
      "execution_count": 21,
      "outputs": [
        {
          "output_type": "stream",
          "name": "stdout",
          "text": [
            "stack 0: [8]\n",
            "stack 1: [6, 10, 7]\n",
            "stack 2: [9, 1, 3]\n",
            "stack 3: [6, 5]\n",
            "stack 4: [8]\n",
            "\n",
            "Elementos mal ubicados: 3\n",
            "Pasos realizados: 0\n"
          ]
        }
      ]
    },
    {
      "cell_type": "code",
      "source": [
        "lay.move((4,0))\n",
        "print(lay)\n",
        "print(\"Elementos mal ubicados:\", lay.bad_placed_elements())\n",
        "print(\"Pasos realizados:\", lay.steps)"
      ],
      "metadata": {
        "colab": {
          "base_uri": "https://localhost:8080/"
        },
        "id": "eByVvNvbGtmL",
        "outputId": "87619d7b-35e1-4882-99b5-7f0ce3ac4bfa"
      },
      "execution_count": 22,
      "outputs": [
        {
          "output_type": "stream",
          "name": "stdout",
          "text": [
            "stack 0: [8, 8]\n",
            "stack 1: [6, 10, 7]\n",
            "stack 2: [9, 1, 3]\n",
            "stack 3: [6, 5]\n",
            "stack 4: []\n",
            "\n",
            "Elementos mal ubicados: 3\n",
            "Pasos realizados: 1\n"
          ]
        }
      ]
    },
    {
      "cell_type": "code",
      "source": [
        "lay.move((1,0))\n",
        "print(lay)\n",
        "print(\"Elementos mal ubicados:\", lay.bad_placed_elements())\n",
        "print(\"Pasos realizados:\", lay.steps)"
      ],
      "metadata": {
        "colab": {
          "base_uri": "https://localhost:8080/"
        },
        "id": "UzGB75XOHAKJ",
        "outputId": "ec650f93-8cea-41e8-9007-bdb34d048844"
      },
      "execution_count": 23,
      "outputs": [
        {
          "output_type": "stream",
          "name": "stdout",
          "text": [
            "stack 0: [8, 8, 7]\n",
            "stack 1: [6, 10]\n",
            "stack 2: [9, 1, 3]\n",
            "stack 3: [6, 5]\n",
            "stack 4: []\n",
            "\n",
            "Elementos mal ubicados: 2\n",
            "Pasos realizados: 2\n"
          ]
        }
      ]
    },
    {
      "cell_type": "code",
      "source": [
        "lay.move((1,4))\n",
        "print(lay)\n",
        "print(\"Elementos mal ubicados:\", lay.bad_placed_elements())\n",
        "print(\"Pasos realizados:\", lay.steps)"
      ],
      "metadata": {
        "colab": {
          "base_uri": "https://localhost:8080/"
        },
        "id": "M7y156hkHIjR",
        "outputId": "2b56b64f-d9bc-41f3-815d-2e64a6aed186"
      },
      "execution_count": 24,
      "outputs": [
        {
          "output_type": "stream",
          "name": "stdout",
          "text": [
            "stack 0: [8, 8, 7]\n",
            "stack 1: [6]\n",
            "stack 2: [9, 1, 3]\n",
            "stack 3: [6, 5]\n",
            "stack 4: [10]\n",
            "\n",
            "Elementos mal ubicados: 1\n",
            "Pasos realizados: 3\n"
          ]
        }
      ]
    },
    {
      "cell_type": "code",
      "source": [
        "lay.move((2,4))\n",
        "print(lay)\n",
        "print(\"Elementos mal ubicados:\", lay.bad_placed_elements())\n",
        "print(\"Pasos realizados:\", lay.steps)"
      ],
      "metadata": {
        "colab": {
          "base_uri": "https://localhost:8080/"
        },
        "id": "3DHfIY9zHUqI",
        "outputId": "87efede4-b55d-41ba-9cbe-006b95a64ba1"
      },
      "execution_count": 25,
      "outputs": [
        {
          "output_type": "stream",
          "name": "stdout",
          "text": [
            "stack 0: [8, 8, 7]\n",
            "stack 1: [6]\n",
            "stack 2: [9, 1]\n",
            "stack 3: [6, 5]\n",
            "stack 4: [10, 3]\n",
            "\n",
            "Elementos mal ubicados: 0\n",
            "Pasos realizados: 4\n"
          ]
        }
      ]
    },
    {
      "cell_type": "markdown",
      "source": [
        "# Generador de layouts"
      ],
      "metadata": {
        "id": "k1Zm26BXVzfV"
      }
    },
    {
      "cell_type": "code",
      "source": [
        "import random \n",
        "def generate_random_layout(S,H,N):\n",
        "    stacks = []\n",
        "    for i in range(S):\n",
        "        stacks.append([])\n",
        "    \n",
        "    for j in range(N):\n",
        "        s=random.randint(0,S-1);\n",
        "        while len(stacks[s])==H: s=s=random.randint(0,S-1);\n",
        "        stacks[s].append(random.randint(1,N));\n",
        "    \n",
        "\n",
        "    return Layout(stacks,H)"
      ],
      "metadata": {
        "id": "yrNpjPyzVJ1E"
      },
      "execution_count": 26,
      "outputs": []
    },
    {
      "cell_type": "markdown",
      "source": [
        "# Ejemplo: Greedy Random\n",
        "\n",
        "Greedy que aplica movimientos aleatorios"
      ],
      "metadata": {
        "id": "0D5xNBGtCERA"
      }
    },
    {
      "cell_type": "code",
      "source": [
        "import random\n",
        "\n",
        "def greedy_random(lay, step_limit=10):\n",
        "   while lay.steps < step_limit and lay.bad_placed_elements( )>0:\n",
        "    i = random.randrange(0,lay.S)\n",
        "    j = random.randrange(0,lay.S)\n",
        "    lay.move((i,j))\n",
        "\n",
        "   if lay.bad_placed_elements()==0: return True, lay.steps\n",
        "   return False, lay.steps\n",
        "\n",
        "\n",
        "lay = generate_random_layout(S=5,H=5,N=7)\n",
        "print (\"initial layout:\\n\",lay)\n",
        "print(\"Elementos mal ubicados:\", lay.bad_placed_elements())\n",
        "\n",
        "greedy_random(lay, step_limit=10)\n",
        "\n",
        "print (\"final layout:\\n\", lay)\n",
        "print(\"Elementos mal ubicados:\", lay.bad_placed_elements())\n",
        "print(\"Pasos realizados:\", lay.steps)"
      ],
      "metadata": {
        "id": "pOz056ZVHk2u",
        "colab": {
          "base_uri": "https://localhost:8080/"
        },
        "outputId": "3c9198ef-41ed-4e2c-f270-fee6dfbd23a0"
      },
      "execution_count": 27,
      "outputs": [
        {
          "output_type": "stream",
          "name": "stdout",
          "text": [
            "initial layout:\n",
            " stack 0: [5, 7, 6, 7]\n",
            "stack 1: [6]\n",
            "stack 2: []\n",
            "stack 3: [6, 4]\n",
            "stack 4: []\n",
            "\n",
            "Elementos mal ubicados: 3\n",
            "final layout:\n",
            " stack 0: [5, 7, 6, 7]\n",
            "stack 1: []\n",
            "stack 2: []\n",
            "stack 3: [6, 4]\n",
            "stack 4: [6]\n",
            "\n",
            "Elementos mal ubicados: 3\n",
            "Pasos realizados: 10\n"
          ]
        }
      ]
    },
    {
      "cell_type": "code",
      "source": [
        "import random\n",
        "\n",
        "def validate(greedy, S=5,H=5,N=10, step_limit=10, n_problems=100, seed=1234):\n",
        "  random.seed(seed)\n",
        "  solved = 0; total_steps = 0\n",
        "  for i in range(n_problems):\n",
        "    lay = generate_random_layout(S,H,N)\n",
        "    ret, steps = greedy(lay, step_limit=step_limit)\n",
        "    if ret: solved+=1\n",
        "    total_steps += steps\n",
        "  return solved, total_steps/n_problems\n",
        "\n",
        "solved, av_steps = validate(greedy_random, S=5,H=5,N=10, step_limit=20, n_problems=100, seed=1234)\n",
        "print(\"instancias resueltas:\", solved, \"/\", 100)\n",
        "print(\"pasos promedio:\", av_steps)"
      ],
      "metadata": {
        "colab": {
          "base_uri": "https://localhost:8080/"
        },
        "id": "6zu-GMM3CM7Q",
        "outputId": "9c68ec7f-ea6b-464d-a63d-5359cf1883e1"
      },
      "execution_count": 28,
      "outputs": [
        {
          "output_type": "stream",
          "name": "stdout",
          "text": [
            "instancias resueltas: 6 / 100\n",
            "pasos promedio: 19.48\n"
          ]
        }
      ]
    },
    {
      "cell_type": "markdown",
      "source": [
        "# Ejercicios\n",
        "\n",
        "1. Implemente un algoritmo Greedy para resolver el problema.\n",
        "2. Resuelva 100 instancias de tamaño $S=5$, $H=5$, $N=10$. ¿Cuántas puede resolver? ¿Con qué cantidad de pasos promedio?\n",
        "3. Resuelva 100 instancias de tamaño $S=5$, $H=5$, $N=15$. ¿Cuántas puede resolver? ¿Con qué cantidad de pasos promedio?"
      ],
      "metadata": {
        "id": "s_7jnoBmHz20"
      }
    },
    {
      "cell_type": "markdown",
      "source": [
        "\n",
        "\n",
        "```\n",
        "1. ver columna con mayor cantidad de cajas mal ubicadas\n",
        "2. reubicar todas las cajas de la columna seleccionada para dejarla vacia. Mintras va sacando las cajas las va ubicando en la primera columna ordenada que encuentre.\n",
        "3. se busca dejar el numero mayor de todas las cajas como base en la columna que vaciamos en un inicio.\n",
        "4. al tener ubicada la base mas grande se busca entre los primeros elementos de cada columna el mas cercano, igual o menor a la caja puesta como base en la columna vacia y que se encuentre mal ubicado, ubicandolo en esta columna.\n",
        "5. repetir paso hasa que ninguna de las primeras cajas de cada columna este mal ubicada o hasta alcanzar el maximo de altura.\n",
        "6. revisar si hay alguna mas que este desordenada recorriendo todo nuevamente.\n",
        "7. si todavia hay una columna desordenada revisar los ultimos valores de cada columna buscando una que sea mayor al valor de la caja mal ubicada cambiandola mientras no exceda el maximo.\n",
        "8. si no hay mas mal ubicadas termina retornando las cajas ordenadas \n",
        "```\n",
        "\n"
      ],
      "metadata": {
        "id": "Yh5LEOWY5fYJ"
      }
    },
    {
      "cell_type": "code",
      "source": [
        "def greedy(lay, step_limit=10):\n",
        "\n",
        "  if lay.steps >= step_limit:\n",
        "    return lay\n",
        "\n",
        "  cont=0\n",
        "  for q in range(len(lay.stacks)):\n",
        "    if lay.is_sorted(q):\n",
        "      cont+=1\n",
        "  if cont == lay.S:\n",
        "    return lay.stacks\n",
        "\n",
        "  mayor=0\n",
        "  i=-1\n",
        "  for k in range(len(lay.stacks)):\n",
        "    elem_des = len(lay.stacks[k])- lay.sorted_elements[k]\n",
        "    if elem_des > mayor:\n",
        "      mayor=elem_des\n",
        "      i=k\n",
        "\n",
        "  while len(lay.stacks[i]) > 0: \n",
        "    j=-1\n",
        "    ordenados= False\n",
        "    for j in range(len(lay.stacks)):\n",
        "      if lay.is_sorted(j):\n",
        "        ordenados = True\n",
        "        break\n",
        "    lay.move((i,j))\n",
        "    if not ordenados:\n",
        "      m=-1\n",
        "      for m in range(len(lay.stacks)):\n",
        "        if m <= i:\n",
        "          break      \n",
        "      lay.move((i,m))\n",
        "      l=-1\n",
        "      menor=lay.H+1\n",
        "      for l in range(len(lay.stacks)):\n",
        "        if lay.S< menor:\n",
        "          menor=lay.S\n",
        "      lay.move((i,menor))\n",
        "\n",
        "  n=-1\n",
        "  for n in range(len(lay.stacks)):\n",
        "    mayor=-1\n",
        "    if mayor > lay.stacks[n][-1]:\n",
        "      mayor= lay.stacks[n][-1]\n",
        "  lay.move((mayor,i))\n",
        "\n",
        "  while len(lay.stacks[i]) != lay.H:\n",
        "    p=-1\n",
        "    cercano=-1\n",
        "    for p in range(len(lay.stacks)):\n",
        "      if p > cercano:\n",
        "        cercano = p\n",
        "    lay.move((cercano,i))\n",
        "  return greedy(lay)\n",
        "\n",
        "\n",
        "\n"
      ],
      "metadata": {
        "id": "2h73ZgToAB2a"
      },
      "execution_count": 41,
      "outputs": []
    },
    {
      "cell_type": "code",
      "source": [
        "#caso prueba\n",
        "lay = Layout([[8],[6, 10, 7],[9, 1, 3],[6, 5],[8]],H=4)\n",
        "greedy(lay)"
      ],
      "metadata": {
        "colab": {
          "base_uri": "https://localhost:8080/",
          "height": 345
        },
        "id": "k4XfmjWPmfWS",
        "outputId": "6e9c674a-fe05-4cc4-c22d-3580c8552487"
      },
      "execution_count": 42,
      "outputs": [
        {
          "output_type": "error",
          "ename": "KeyboardInterrupt",
          "evalue": "ignored",
          "traceback": [
            "\u001b[0;31m---------------------------------------------------------------------------\u001b[0m",
            "\u001b[0;31mKeyboardInterrupt\u001b[0m                         Traceback (most recent call last)",
            "\u001b[0;32m<ipython-input-42-a54be49e583c>\u001b[0m in \u001b[0;36m<module>\u001b[0;34m\u001b[0m\n\u001b[1;32m      1\u001b[0m \u001b[0;31m#caso prueba\u001b[0m\u001b[0;34m\u001b[0m\u001b[0;34m\u001b[0m\u001b[0;34m\u001b[0m\u001b[0m\n\u001b[1;32m      2\u001b[0m \u001b[0mlay\u001b[0m \u001b[0;34m=\u001b[0m \u001b[0mLayout\u001b[0m\u001b[0;34m(\u001b[0m\u001b[0;34m[\u001b[0m\u001b[0;34m[\u001b[0m\u001b[0;36m8\u001b[0m\u001b[0;34m]\u001b[0m\u001b[0;34m,\u001b[0m\u001b[0;34m[\u001b[0m\u001b[0;36m6\u001b[0m\u001b[0;34m,\u001b[0m \u001b[0;36m10\u001b[0m\u001b[0;34m,\u001b[0m \u001b[0;36m7\u001b[0m\u001b[0;34m]\u001b[0m\u001b[0;34m,\u001b[0m\u001b[0;34m[\u001b[0m\u001b[0;36m9\u001b[0m\u001b[0;34m,\u001b[0m \u001b[0;36m1\u001b[0m\u001b[0;34m,\u001b[0m \u001b[0;36m3\u001b[0m\u001b[0;34m]\u001b[0m\u001b[0;34m,\u001b[0m\u001b[0;34m[\u001b[0m\u001b[0;36m6\u001b[0m\u001b[0;34m,\u001b[0m \u001b[0;36m5\u001b[0m\u001b[0;34m]\u001b[0m\u001b[0;34m,\u001b[0m\u001b[0;34m[\u001b[0m\u001b[0;36m8\u001b[0m\u001b[0;34m]\u001b[0m\u001b[0;34m]\u001b[0m\u001b[0;34m,\u001b[0m\u001b[0mH\u001b[0m\u001b[0;34m=\u001b[0m\u001b[0;36m4\u001b[0m\u001b[0;34m)\u001b[0m\u001b[0;34m\u001b[0m\u001b[0;34m\u001b[0m\u001b[0m\n\u001b[0;32m----> 3\u001b[0;31m \u001b[0mgreedy\u001b[0m\u001b[0;34m(\u001b[0m\u001b[0mlay\u001b[0m\u001b[0;34m)\u001b[0m\u001b[0;34m\u001b[0m\u001b[0;34m\u001b[0m\u001b[0m\n\u001b[0m",
            "\u001b[0;32m<ipython-input-41-8fd5a24958fe>\u001b[0m in \u001b[0;36mgreedy\u001b[0;34m(lay, step_limit)\u001b[0m\n\u001b[1;32m     26\u001b[0m         \u001b[0mordenados\u001b[0m \u001b[0;34m=\u001b[0m \u001b[0;32mTrue\u001b[0m\u001b[0;34m\u001b[0m\u001b[0;34m\u001b[0m\u001b[0m\n\u001b[1;32m     27\u001b[0m         \u001b[0;32mbreak\u001b[0m\u001b[0;34m\u001b[0m\u001b[0;34m\u001b[0m\u001b[0m\n\u001b[0;32m---> 28\u001b[0;31m     \u001b[0mlay\u001b[0m\u001b[0;34m.\u001b[0m\u001b[0mmove\u001b[0m\u001b[0;34m(\u001b[0m\u001b[0;34m(\u001b[0m\u001b[0mi\u001b[0m\u001b[0;34m,\u001b[0m\u001b[0mj\u001b[0m\u001b[0;34m)\u001b[0m\u001b[0;34m)\u001b[0m\u001b[0;34m\u001b[0m\u001b[0;34m\u001b[0m\u001b[0m\n\u001b[0m\u001b[1;32m     29\u001b[0m     \u001b[0;32mif\u001b[0m \u001b[0;32mnot\u001b[0m \u001b[0mordenados\u001b[0m\u001b[0;34m:\u001b[0m\u001b[0;34m\u001b[0m\u001b[0;34m\u001b[0m\u001b[0m\n\u001b[1;32m     30\u001b[0m       \u001b[0mm\u001b[0m\u001b[0;34m=\u001b[0m\u001b[0;34m-\u001b[0m\u001b[0;36m1\u001b[0m\u001b[0;34m\u001b[0m\u001b[0;34m\u001b[0m\u001b[0m\n",
            "\u001b[0;32m<ipython-input-18-afbbb3149d0b>\u001b[0m in \u001b[0;36mmove\u001b[0;34m(self, move)\u001b[0m\n\u001b[1;32m     42\u001b[0m \u001b[0;34m\u001b[0m\u001b[0m\n\u001b[1;32m     43\u001b[0m     \u001b[0;32mdef\u001b[0m \u001b[0mmove\u001b[0m\u001b[0;34m(\u001b[0m\u001b[0mself\u001b[0m\u001b[0;34m,\u001b[0m\u001b[0mmove\u001b[0m\u001b[0;34m)\u001b[0m\u001b[0;34m:\u001b[0m\u001b[0;34m\u001b[0m\u001b[0;34m\u001b[0m\u001b[0m\n\u001b[0;32m---> 44\u001b[0;31m         \u001b[0mi\u001b[0m \u001b[0;34m=\u001b[0m \u001b[0mmove\u001b[0m\u001b[0;34m[\u001b[0m\u001b[0;36m0\u001b[0m\u001b[0;34m]\u001b[0m\u001b[0;34m;\u001b[0m \u001b[0mj\u001b[0m\u001b[0;34m=\u001b[0m\u001b[0mmove\u001b[0m\u001b[0;34m[\u001b[0m\u001b[0;36m1\u001b[0m\u001b[0;34m]\u001b[0m\u001b[0;34m\u001b[0m\u001b[0;34m\u001b[0m\u001b[0m\n\u001b[0m\u001b[1;32m     45\u001b[0m \u001b[0;34m\u001b[0m\u001b[0m\n\u001b[1;32m     46\u001b[0m         \u001b[0;32mif\u001b[0m \u001b[0mself\u001b[0m\u001b[0;34m.\u001b[0m\u001b[0mis_valid_move\u001b[0m\u001b[0;34m(\u001b[0m\u001b[0mmove\u001b[0m\u001b[0;34m)\u001b[0m\u001b[0;34m==\u001b[0m\u001b[0;32mFalse\u001b[0m\u001b[0;34m:\u001b[0m \u001b[0;32mreturn\u001b[0m \u001b[0;32mNone\u001b[0m\u001b[0;34m\u001b[0m\u001b[0;34m\u001b[0m\u001b[0m\n",
            "\u001b[0;31mKeyboardInterrupt\u001b[0m: "
          ]
        }
      ]
    }
  ]
}